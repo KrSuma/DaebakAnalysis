{
  "nbformat": 4,
  "nbformat_minor": 0,
  "metadata": {
    "colab": {
      "name": "LTV_and_CAML",
      "provenance": []
    },
    "kernelspec": {
      "name": "python3",
      "display_name": "Python 3"
    }
  },
  "cells": [
    {
      "cell_type": "code",
      "metadata": {
        "colab": {
          "base_uri": "https://localhost:8080/",
          "height": 238
        },
        "id": "6r1wD4cHITAB",
        "outputId": "00e7ca9c-8609-4ccf-983b-811b31df80d9"
      },
      "source": [
        "import pandas as pd\n",
        "import matplotlib.pyplot as plt\n",
        "import matplotlib as mpl\n",
        "import seaborn as sns\n",
        "import numpy as np\n",
        "import hashlib\n",
        "\n",
        "PATH = 'sales_2019-09-01_2020-12-07.csv'\n",
        "PATH_2 = 'customers_export_1.csv'\n",
        "\n",
        "df = pd.read_csv(PATH, delimiter=',')\n",
        "df_2 = pd.read_csv(PATH_2, delimiter=',')\n",
        "\n",
        "df.head()"
      ],
      "execution_count": null,
      "outputs": [
        {
          "output_type": "stream",
          "text": [
            "/usr/local/lib/python3.6/dist-packages/IPython/core/interactiveshell.py:2718: DtypeWarning: Columns (17) have mixed types.Specify dtype option on import or set low_memory=False.\n",
            "  interactivity=interactivity, compiler=compiler, result=result)\n"
          ],
          "name": "stderr"
        },
        {
          "output_type": "execute_result",
          "data": {
            "text/html": [
              "<div>\n",
              "<style scoped>\n",
              "    .dataframe tbody tr th:only-of-type {\n",
              "        vertical-align: middle;\n",
              "    }\n",
              "\n",
              "    .dataframe tbody tr th {\n",
              "        vertical-align: top;\n",
              "    }\n",
              "\n",
              "    .dataframe thead th {\n",
              "        text-align: right;\n",
              "    }\n",
              "</style>\n",
              "<table border=\"1\" class=\"dataframe\">\n",
              "  <thead>\n",
              "    <tr style=\"text-align: right;\">\n",
              "      <th></th>\n",
              "      <th>customer_name</th>\n",
              "      <th>customer_email</th>\n",
              "      <th>orders</th>\n",
              "      <th>gross_sales</th>\n",
              "      <th>net_sales</th>\n",
              "      <th>total_sales</th>\n",
              "      <th>average_order_value</th>\n",
              "    </tr>\n",
              "  </thead>\n",
              "  <tbody>\n",
              "    <tr>\n",
              "      <th>0</th>\n",
              "      <td>Tara Manini</td>\n",
              "      <td>tmanini@hotmail.com</td>\n",
              "      <td>29</td>\n",
              "      <td>3637.39</td>\n",
              "      <td>3413.45</td>\n",
              "      <td>3807.53</td>\n",
              "      <td>136.755</td>\n",
              "    </tr>\n",
              "    <tr>\n",
              "      <th>1</th>\n",
              "      <td>Josephine Sivertsson</td>\n",
              "      <td>josephine.sivertsson@hotmail.com</td>\n",
              "      <td>46</td>\n",
              "      <td>3285.04</td>\n",
              "      <td>3131.73</td>\n",
              "      <td>3611.43</td>\n",
              "      <td>78.574</td>\n",
              "    </tr>\n",
              "    <tr>\n",
              "      <th>2</th>\n",
              "      <td>Alba Ortiz Reyes</td>\n",
              "      <td>aortiz258@hotmail.com</td>\n",
              "      <td>36</td>\n",
              "      <td>3492.10</td>\n",
              "      <td>3299.65</td>\n",
              "      <td>3434.52</td>\n",
              "      <td>99.054</td>\n",
              "    </tr>\n",
              "    <tr>\n",
              "      <th>3</th>\n",
              "      <td>Willimae Villajin</td>\n",
              "      <td>maw105_92@yahoo.com</td>\n",
              "      <td>42</td>\n",
              "      <td>2703.42</td>\n",
              "      <td>2663.43</td>\n",
              "      <td>3193.07</td>\n",
              "      <td>76.807</td>\n",
              "    </tr>\n",
              "    <tr>\n",
              "      <th>4</th>\n",
              "      <td>Kereka Guidry</td>\n",
              "      <td>k.guidry1992@gmail.com</td>\n",
              "      <td>33</td>\n",
              "      <td>2792.51</td>\n",
              "      <td>2614.34</td>\n",
              "      <td>2784.17</td>\n",
              "      <td>84.368</td>\n",
              "    </tr>\n",
              "  </tbody>\n",
              "</table>\n",
              "</div>"
            ],
            "text/plain": [
              "          customer_name  ... average_order_value\n",
              "0           Tara Manini  ...             136.755\n",
              "1  Josephine Sivertsson  ...              78.574\n",
              "2      Alba Ortiz Reyes  ...              99.054\n",
              "3     Willimae Villajin  ...              76.807\n",
              "4         Kereka Guidry  ...              84.368\n",
              "\n",
              "[5 rows x 7 columns]"
            ]
          },
          "metadata": {
            "tags": []
          },
          "execution_count": 443
        }
      ]
    },
    {
      "cell_type": "code",
      "metadata": {
        "colab": {
          "base_uri": "https://localhost:8080/",
          "height": 359
        },
        "id": "pZToMAk0KFbM",
        "outputId": "d7179108-1a95-4586-d3ac-7b4819aa0fec"
      },
      "source": [
        "df[df['total_sales'] <= 0 ].head(10)"
      ],
      "execution_count": null,
      "outputs": [
        {
          "output_type": "execute_result",
          "data": {
            "text/html": [
              "<div>\n",
              "<style scoped>\n",
              "    .dataframe tbody tr th:only-of-type {\n",
              "        vertical-align: middle;\n",
              "    }\n",
              "\n",
              "    .dataframe tbody tr th {\n",
              "        vertical-align: top;\n",
              "    }\n",
              "\n",
              "    .dataframe thead th {\n",
              "        text-align: right;\n",
              "    }\n",
              "</style>\n",
              "<table border=\"1\" class=\"dataframe\">\n",
              "  <thead>\n",
              "    <tr style=\"text-align: right;\">\n",
              "      <th></th>\n",
              "      <th>customer_name</th>\n",
              "      <th>customer_email</th>\n",
              "      <th>orders</th>\n",
              "      <th>gross_sales</th>\n",
              "      <th>net_sales</th>\n",
              "      <th>total_sales</th>\n",
              "      <th>average_order_value</th>\n",
              "    </tr>\n",
              "  </thead>\n",
              "  <tbody>\n",
              "    <tr>\n",
              "      <th>12940</th>\n",
              "      <td>Jillian russell Lagueras</td>\n",
              "      <td>pose1don.xroot@gmail.com</td>\n",
              "      <td>1</td>\n",
              "      <td>49.99</td>\n",
              "      <td>0.0</td>\n",
              "      <td>0.0</td>\n",
              "      <td>65.98</td>\n",
              "    </tr>\n",
              "    <tr>\n",
              "      <th>12941</th>\n",
              "      <td>Karina Sanchez</td>\n",
              "      <td>michell0816@hotmail.com</td>\n",
              "      <td>1</td>\n",
              "      <td>41.98</td>\n",
              "      <td>0.0</td>\n",
              "      <td>0.0</td>\n",
              "      <td>54.97</td>\n",
              "    </tr>\n",
              "    <tr>\n",
              "      <th>12942</th>\n",
              "      <td>Jeamhil Aninag</td>\n",
              "      <td>lihmaej008@yahoo.com</td>\n",
              "      <td>1</td>\n",
              "      <td>29.99</td>\n",
              "      <td>0.0</td>\n",
              "      <td>0.0</td>\n",
              "      <td>29.99</td>\n",
              "    </tr>\n",
              "    <tr>\n",
              "      <th>12943</th>\n",
              "      <td>Samantha Hazard</td>\n",
              "      <td>Sammiejanehaz03@gmail.com</td>\n",
              "      <td>2</td>\n",
              "      <td>99.98</td>\n",
              "      <td>0.0</td>\n",
              "      <td>0.0</td>\n",
              "      <td>0.00</td>\n",
              "    </tr>\n",
              "    <tr>\n",
              "      <th>12944</th>\n",
              "      <td>SiJin Lee</td>\n",
              "      <td>songcookie@gmail.com</td>\n",
              "      <td>1</td>\n",
              "      <td>30.00</td>\n",
              "      <td>0.0</td>\n",
              "      <td>0.0</td>\n",
              "      <td>35.00</td>\n",
              "    </tr>\n",
              "    <tr>\n",
              "      <th>12945</th>\n",
              "      <td>Esther Choe</td>\n",
              "      <td>esther3406@gmail.com</td>\n",
              "      <td>1</td>\n",
              "      <td>137.93</td>\n",
              "      <td>0.0</td>\n",
              "      <td>0.0</td>\n",
              "      <td>124.65</td>\n",
              "    </tr>\n",
              "    <tr>\n",
              "      <th>12946</th>\n",
              "      <td>Maya Riverin</td>\n",
              "      <td>m.riverin1978@gmail.com</td>\n",
              "      <td>1</td>\n",
              "      <td>44.97</td>\n",
              "      <td>0.0</td>\n",
              "      <td>0.0</td>\n",
              "      <td>57.96</td>\n",
              "    </tr>\n",
              "    <tr>\n",
              "      <th>12947</th>\n",
              "      <td>Manuela Roeder</td>\n",
              "      <td>dreckspatz@gmail.com</td>\n",
              "      <td>1</td>\n",
              "      <td>31.99</td>\n",
              "      <td>0.0</td>\n",
              "      <td>0.0</td>\n",
              "      <td>44.98</td>\n",
              "    </tr>\n",
              "    <tr>\n",
              "      <th>12948</th>\n",
              "      <td>Nadia Corino</td>\n",
              "      <td>nadj77@yahoo.com</td>\n",
              "      <td>3</td>\n",
              "      <td>0.00</td>\n",
              "      <td>0.0</td>\n",
              "      <td>0.0</td>\n",
              "      <td>0.00</td>\n",
              "    </tr>\n",
              "    <tr>\n",
              "      <th>12949</th>\n",
              "      <td>Cameron Hession</td>\n",
              "      <td>cameronhession@gmail.com</td>\n",
              "      <td>1</td>\n",
              "      <td>46.99</td>\n",
              "      <td>0.0</td>\n",
              "      <td>0.0</td>\n",
              "      <td>51.29</td>\n",
              "    </tr>\n",
              "  </tbody>\n",
              "</table>\n",
              "</div>"
            ],
            "text/plain": [
              "                  customer_name  ... average_order_value\n",
              "12940  Jillian russell Lagueras  ...               65.98\n",
              "12941            Karina Sanchez  ...               54.97\n",
              "12942            Jeamhil Aninag  ...               29.99\n",
              "12943           Samantha Hazard  ...                0.00\n",
              "12944                 SiJin Lee  ...               35.00\n",
              "12945               Esther Choe  ...              124.65\n",
              "12946              Maya Riverin  ...               57.96\n",
              "12947            Manuela Roeder  ...               44.98\n",
              "12948              Nadia Corino  ...                0.00\n",
              "12949           Cameron Hession  ...               51.29\n",
              "\n",
              "[10 rows x 7 columns]"
            ]
          },
          "metadata": {
            "tags": []
          },
          "execution_count": 444
        }
      ]
    },
    {
      "cell_type": "code",
      "metadata": {
        "colab": {
          "base_uri": "https://localhost:8080/",
          "height": 297
        },
        "id": "jYI3dibGKlfT",
        "outputId": "2cb17822-ca5a-4cc5-d0d3-b703c8991aa0"
      },
      "source": [
        "df.describe()"
      ],
      "execution_count": null,
      "outputs": [
        {
          "output_type": "execute_result",
          "data": {
            "text/html": [
              "<div>\n",
              "<style scoped>\n",
              "    .dataframe tbody tr th:only-of-type {\n",
              "        vertical-align: middle;\n",
              "    }\n",
              "\n",
              "    .dataframe tbody tr th {\n",
              "        vertical-align: top;\n",
              "    }\n",
              "\n",
              "    .dataframe thead th {\n",
              "        text-align: right;\n",
              "    }\n",
              "</style>\n",
              "<table border=\"1\" class=\"dataframe\">\n",
              "  <thead>\n",
              "    <tr style=\"text-align: right;\">\n",
              "      <th></th>\n",
              "      <th>orders</th>\n",
              "      <th>gross_sales</th>\n",
              "      <th>net_sales</th>\n",
              "      <th>total_sales</th>\n",
              "      <th>average_order_value</th>\n",
              "    </tr>\n",
              "  </thead>\n",
              "  <tbody>\n",
              "    <tr>\n",
              "      <th>count</th>\n",
              "      <td>13287.000000</td>\n",
              "      <td>13287.000000</td>\n",
              "      <td>13287.000000</td>\n",
              "      <td>13287.000000</td>\n",
              "      <td>13287.000000</td>\n",
              "    </tr>\n",
              "    <tr>\n",
              "      <th>mean</th>\n",
              "      <td>2.637766</td>\n",
              "      <td>151.126071</td>\n",
              "      <td>143.554811</td>\n",
              "      <td>155.907068</td>\n",
              "      <td>64.919779</td>\n",
              "    </tr>\n",
              "    <tr>\n",
              "      <th>std</th>\n",
              "      <td>2.923295</td>\n",
              "      <td>189.662922</td>\n",
              "      <td>180.273146</td>\n",
              "      <td>192.712591</td>\n",
              "      <td>38.696895</td>\n",
              "    </tr>\n",
              "    <tr>\n",
              "      <th>min</th>\n",
              "      <td>0.000000</td>\n",
              "      <td>0.000000</td>\n",
              "      <td>-179.960000</td>\n",
              "      <td>-179.960000</td>\n",
              "      <td>0.000000</td>\n",
              "    </tr>\n",
              "    <tr>\n",
              "      <th>25%</th>\n",
              "      <td>1.000000</td>\n",
              "      <td>47.980000</td>\n",
              "      <td>43.980000</td>\n",
              "      <td>49.990000</td>\n",
              "      <td>44.990000</td>\n",
              "    </tr>\n",
              "    <tr>\n",
              "      <th>50%</th>\n",
              "      <td>1.000000</td>\n",
              "      <td>99.980000</td>\n",
              "      <td>94.980000</td>\n",
              "      <td>99.980000</td>\n",
              "      <td>53.156000</td>\n",
              "    </tr>\n",
              "    <tr>\n",
              "      <th>75%</th>\n",
              "      <td>3.000000</td>\n",
              "      <td>186.085000</td>\n",
              "      <td>179.960000</td>\n",
              "      <td>193.005000</td>\n",
              "      <td>69.990000</td>\n",
              "    </tr>\n",
              "    <tr>\n",
              "      <th>max</th>\n",
              "      <td>46.000000</td>\n",
              "      <td>3637.390000</td>\n",
              "      <td>3413.450000</td>\n",
              "      <td>3807.530000</td>\n",
              "      <td>723.590000</td>\n",
              "    </tr>\n",
              "  </tbody>\n",
              "</table>\n",
              "</div>"
            ],
            "text/plain": [
              "             orders   gross_sales  ...   total_sales  average_order_value\n",
              "count  13287.000000  13287.000000  ...  13287.000000         13287.000000\n",
              "mean       2.637766    151.126071  ...    155.907068            64.919779\n",
              "std        2.923295    189.662922  ...    192.712591            38.696895\n",
              "min        0.000000      0.000000  ...   -179.960000             0.000000\n",
              "25%        1.000000     47.980000  ...     49.990000            44.990000\n",
              "50%        1.000000     99.980000  ...     99.980000            53.156000\n",
              "75%        3.000000    186.085000  ...    193.005000            69.990000\n",
              "max       46.000000   3637.390000  ...   3807.530000           723.590000\n",
              "\n",
              "[8 rows x 5 columns]"
            ]
          },
          "metadata": {
            "tags": []
          },
          "execution_count": 445
        }
      ]
    },
    {
      "cell_type": "code",
      "metadata": {
        "colab": {
          "base_uri": "https://localhost:8080/"
        },
        "id": "dZ9oXSPiMNzZ",
        "outputId": "a3d9385f-adf3-4a81-fa73-7cffcc8a39bb"
      },
      "source": [
        "df.count()"
      ],
      "execution_count": null,
      "outputs": [
        {
          "output_type": "execute_result",
          "data": {
            "text/plain": [
              "customer_name          13281\n",
              "customer_email         13265\n",
              "orders                 13287\n",
              "gross_sales            13287\n",
              "net_sales              13287\n",
              "total_sales            13287\n",
              "average_order_value    13287\n",
              "dtype: int64"
            ]
          },
          "metadata": {
            "tags": []
          },
          "execution_count": 446
        }
      ]
    },
    {
      "cell_type": "code",
      "metadata": {
        "id": "mSRy24B6Tpiy"
      },
      "source": [
        "# adding average order value\n",
        "\n",
        "df['average_order_value'] = df['total_sales'] / df['orders']"
      ],
      "execution_count": null,
      "outputs": []
    },
    {
      "cell_type": "code",
      "metadata": {
        "id": "VgFZrqU7McpG"
      },
      "source": [
        "df1 = df[df.isna().any(axis=1)]\n",
        "values = {'customer_name': 'none', 'customer_email': 'none'}\n",
        "df = df.fillna(value=values)"
      ],
      "execution_count": null,
      "outputs": []
    },
    {
      "cell_type": "code",
      "metadata": {
        "id": "0iSu-YaKPeyo"
      },
      "source": [
        "# remove all customers that have a total_sales <= 0\n",
        "df = df[df['total_sales'] > 0]"
      ],
      "execution_count": null,
      "outputs": []
    },
    {
      "cell_type": "code",
      "metadata": {
        "id": "7QPq7M8gO8S1"
      },
      "source": [
        "total_customer = df['orders'].count() \n",
        "total_orders_quantity =  df['orders'].sum()"
      ],
      "execution_count": null,
      "outputs": []
    },
    {
      "cell_type": "code",
      "metadata": {
        "colab": {
          "base_uri": "https://localhost:8080/"
        },
        "id": "6wavPrdeon9g",
        "outputId": "db50fd50-aa7a-4497-bd17-985f5f20f981"
      },
      "source": [
        "df['orders'].sum()"
      ],
      "execution_count": null,
      "outputs": [
        {
          "output_type": "execute_result",
          "data": {
            "text/plain": [
              "34479"
            ]
          },
          "metadata": {
            "tags": []
          },
          "execution_count": 451
        }
      ]
    },
    {
      "cell_type": "code",
      "metadata": {
        "colab": {
          "base_uri": "https://localhost:8080/"
        },
        "id": "jRbd2DC2SDW_",
        "outputId": "7aca58a5-f404-4b20-bbf7-47c73644d7f9"
      },
      "source": [
        "# total purchase freq\n",
        "\n",
        "total_purchase_freq = total_orders_quantity / total_customer \n",
        "total_purchase_freq"
      ],
      "execution_count": null,
      "outputs": [
        {
          "output_type": "execute_result",
          "data": {
            "text/plain": [
              "2.664528593508501"
            ]
          },
          "metadata": {
            "tags": []
          },
          "execution_count": 452
        }
      ]
    },
    {
      "cell_type": "code",
      "metadata": {
        "id": "j1a-IBkiQEAh"
      },
      "source": [
        "# adding customer value\n",
        "\n",
        "df['customer_value'] = (df['average_order_value'] * total_purchase_freq) / 16"
      ],
      "execution_count": null,
      "outputs": []
    },
    {
      "cell_type": "code",
      "metadata": {
        "colab": {
          "base_uri": "https://localhost:8080/",
          "height": 297
        },
        "id": "hpWF9-rJQaB-",
        "outputId": "24480dff-f4d2-4448-8fc6-03a312f85e32"
      },
      "source": [
        "df.describe()"
      ],
      "execution_count": null,
      "outputs": [
        {
          "output_type": "execute_result",
          "data": {
            "text/html": [
              "<div>\n",
              "<style scoped>\n",
              "    .dataframe tbody tr th:only-of-type {\n",
              "        vertical-align: middle;\n",
              "    }\n",
              "\n",
              "    .dataframe tbody tr th {\n",
              "        vertical-align: top;\n",
              "    }\n",
              "\n",
              "    .dataframe thead th {\n",
              "        text-align: right;\n",
              "    }\n",
              "</style>\n",
              "<table border=\"1\" class=\"dataframe\">\n",
              "  <thead>\n",
              "    <tr style=\"text-align: right;\">\n",
              "      <th></th>\n",
              "      <th>orders</th>\n",
              "      <th>gross_sales</th>\n",
              "      <th>net_sales</th>\n",
              "      <th>total_sales</th>\n",
              "      <th>average_order_value</th>\n",
              "      <th>customer_value</th>\n",
              "    </tr>\n",
              "  </thead>\n",
              "  <tbody>\n",
              "    <tr>\n",
              "      <th>count</th>\n",
              "      <td>12940.000000</td>\n",
              "      <td>12940.000000</td>\n",
              "      <td>12940.00000</td>\n",
              "      <td>12940.000000</td>\n",
              "      <td>12940.000000</td>\n",
              "      <td>12940.000000</td>\n",
              "    </tr>\n",
              "    <tr>\n",
              "      <th>mean</th>\n",
              "      <td>2.664529</td>\n",
              "      <td>153.405488</td>\n",
              "      <td>147.44913</td>\n",
              "      <td>160.130155</td>\n",
              "      <td>64.430450</td>\n",
              "      <td>10.729799</td>\n",
              "    </tr>\n",
              "    <tr>\n",
              "      <th>std</th>\n",
              "      <td>2.952397</td>\n",
              "      <td>190.647825</td>\n",
              "      <td>181.06451</td>\n",
              "      <td>193.510671</td>\n",
              "      <td>37.675361</td>\n",
              "      <td>6.274192</td>\n",
              "    </tr>\n",
              "    <tr>\n",
              "      <th>min</th>\n",
              "      <td>1.000000</td>\n",
              "      <td>4.990000</td>\n",
              "      <td>-17.51000</td>\n",
              "      <td>2.680000</td>\n",
              "      <td>0.670000</td>\n",
              "      <td>0.111577</td>\n",
              "    </tr>\n",
              "    <tr>\n",
              "      <th>25%</th>\n",
              "      <td>1.000000</td>\n",
              "      <td>49.990000</td>\n",
              "      <td>45.99000</td>\n",
              "      <td>50.415000</td>\n",
              "      <td>44.990000</td>\n",
              "      <td>7.492321</td>\n",
              "    </tr>\n",
              "    <tr>\n",
              "      <th>50%</th>\n",
              "      <td>1.000000</td>\n",
              "      <td>99.980000</td>\n",
              "      <td>97.17000</td>\n",
              "      <td>99.980000</td>\n",
              "      <td>52.990000</td>\n",
              "      <td>8.824586</td>\n",
              "    </tr>\n",
              "    <tr>\n",
              "      <th>75%</th>\n",
              "      <td>3.000000</td>\n",
              "      <td>195.987500</td>\n",
              "      <td>179.97000</td>\n",
              "      <td>197.062500</td>\n",
              "      <td>69.727083</td>\n",
              "      <td>11.611863</td>\n",
              "    </tr>\n",
              "    <tr>\n",
              "      <th>max</th>\n",
              "      <td>46.000000</td>\n",
              "      <td>3637.390000</td>\n",
              "      <td>3413.45000</td>\n",
              "      <td>3807.530000</td>\n",
              "      <td>522.570000</td>\n",
              "      <td>87.025169</td>\n",
              "    </tr>\n",
              "  </tbody>\n",
              "</table>\n",
              "</div>"
            ],
            "text/plain": [
              "             orders   gross_sales  ...  average_order_value  customer_value\n",
              "count  12940.000000  12940.000000  ...         12940.000000    12940.000000\n",
              "mean       2.664529    153.405488  ...            64.430450       10.729799\n",
              "std        2.952397    190.647825  ...            37.675361        6.274192\n",
              "min        1.000000      4.990000  ...             0.670000        0.111577\n",
              "25%        1.000000     49.990000  ...            44.990000        7.492321\n",
              "50%        1.000000     99.980000  ...            52.990000        8.824586\n",
              "75%        3.000000    195.987500  ...            69.727083       11.611863\n",
              "max       46.000000   3637.390000  ...           522.570000       87.025169\n",
              "\n",
              "[8 rows x 6 columns]"
            ]
          },
          "metadata": {
            "tags": []
          },
          "execution_count": 454
        }
      ]
    },
    {
      "cell_type": "code",
      "metadata": {
        "colab": {
          "base_uri": "https://localhost:8080/",
          "height": 419
        },
        "id": "0HCcpbLBSshY",
        "outputId": "d38f61b0-45d0-4d7e-d486-1cd6a1769b98"
      },
      "source": [
        "df"
      ],
      "execution_count": null,
      "outputs": [
        {
          "output_type": "execute_result",
          "data": {
            "text/html": [
              "<div>\n",
              "<style scoped>\n",
              "    .dataframe tbody tr th:only-of-type {\n",
              "        vertical-align: middle;\n",
              "    }\n",
              "\n",
              "    .dataframe tbody tr th {\n",
              "        vertical-align: top;\n",
              "    }\n",
              "\n",
              "    .dataframe thead th {\n",
              "        text-align: right;\n",
              "    }\n",
              "</style>\n",
              "<table border=\"1\" class=\"dataframe\">\n",
              "  <thead>\n",
              "    <tr style=\"text-align: right;\">\n",
              "      <th></th>\n",
              "      <th>customer_name</th>\n",
              "      <th>customer_email</th>\n",
              "      <th>orders</th>\n",
              "      <th>gross_sales</th>\n",
              "      <th>net_sales</th>\n",
              "      <th>total_sales</th>\n",
              "      <th>average_order_value</th>\n",
              "      <th>customer_value</th>\n",
              "    </tr>\n",
              "  </thead>\n",
              "  <tbody>\n",
              "    <tr>\n",
              "      <th>0</th>\n",
              "      <td>Tara Manini</td>\n",
              "      <td>tmanini@hotmail.com</td>\n",
              "      <td>29</td>\n",
              "      <td>3637.39</td>\n",
              "      <td>3413.45</td>\n",
              "      <td>3807.53</td>\n",
              "      <td>131.294138</td>\n",
              "      <td>21.864812</td>\n",
              "    </tr>\n",
              "    <tr>\n",
              "      <th>1</th>\n",
              "      <td>Josephine Sivertsson</td>\n",
              "      <td>josephine.sivertsson@hotmail.com</td>\n",
              "      <td>46</td>\n",
              "      <td>3285.04</td>\n",
              "      <td>3131.73</td>\n",
              "      <td>3611.43</td>\n",
              "      <td>78.509348</td>\n",
              "      <td>13.074400</td>\n",
              "    </tr>\n",
              "    <tr>\n",
              "      <th>2</th>\n",
              "      <td>Alba Ortiz Reyes</td>\n",
              "      <td>aortiz258@hotmail.com</td>\n",
              "      <td>36</td>\n",
              "      <td>3492.10</td>\n",
              "      <td>3299.65</td>\n",
              "      <td>3434.52</td>\n",
              "      <td>95.403333</td>\n",
              "      <td>15.887807</td>\n",
              "    </tr>\n",
              "    <tr>\n",
              "      <th>3</th>\n",
              "      <td>Willimae Villajin</td>\n",
              "      <td>maw105_92@yahoo.com</td>\n",
              "      <td>42</td>\n",
              "      <td>2703.42</td>\n",
              "      <td>2663.43</td>\n",
              "      <td>3193.07</td>\n",
              "      <td>76.025476</td>\n",
              "      <td>12.660753</td>\n",
              "    </tr>\n",
              "    <tr>\n",
              "      <th>4</th>\n",
              "      <td>Kereka Guidry</td>\n",
              "      <td>k.guidry1992@gmail.com</td>\n",
              "      <td>33</td>\n",
              "      <td>2792.51</td>\n",
              "      <td>2614.34</td>\n",
              "      <td>2784.17</td>\n",
              "      <td>84.368788</td>\n",
              "      <td>14.050190</td>\n",
              "    </tr>\n",
              "    <tr>\n",
              "      <th>...</th>\n",
              "      <td>...</td>\n",
              "      <td>...</td>\n",
              "      <td>...</td>\n",
              "      <td>...</td>\n",
              "      <td>...</td>\n",
              "      <td>...</td>\n",
              "      <td>...</td>\n",
              "      <td>...</td>\n",
              "    </tr>\n",
              "    <tr>\n",
              "      <th>12935</th>\n",
              "      <td>Melissa Figueroa</td>\n",
              "      <td>melissafigueroa503@gmail.com</td>\n",
              "      <td>1</td>\n",
              "      <td>7.00</td>\n",
              "      <td>7.00</td>\n",
              "      <td>7.00</td>\n",
              "      <td>7.000000</td>\n",
              "      <td>1.165731</td>\n",
              "    </tr>\n",
              "    <tr>\n",
              "      <th>12936</th>\n",
              "      <td>Federica Manfredini</td>\n",
              "      <td>cioppolollola@gmail.com</td>\n",
              "      <td>1</td>\n",
              "      <td>7.00</td>\n",
              "      <td>7.00</td>\n",
              "      <td>7.00</td>\n",
              "      <td>7.000000</td>\n",
              "      <td>1.165731</td>\n",
              "    </tr>\n",
              "    <tr>\n",
              "      <th>12937</th>\n",
              "      <td>Sarah Toussaint</td>\n",
              "      <td>toussaint.sarah@outlook.fr</td>\n",
              "      <td>1</td>\n",
              "      <td>7.00</td>\n",
              "      <td>7.00</td>\n",
              "      <td>7.00</td>\n",
              "      <td>7.000000</td>\n",
              "      <td>1.165731</td>\n",
              "    </tr>\n",
              "    <tr>\n",
              "      <th>12938</th>\n",
              "      <td>Savy Nouv Becerra</td>\n",
              "      <td>savynouv@outlook.com</td>\n",
              "      <td>1</td>\n",
              "      <td>90.99</td>\n",
              "      <td>0.00</td>\n",
              "      <td>4.99</td>\n",
              "      <td>4.990000</td>\n",
              "      <td>0.831000</td>\n",
              "    </tr>\n",
              "    <tr>\n",
              "      <th>12939</th>\n",
              "      <td>Kaiser A</td>\n",
              "      <td>kaizerkram@gmail.com</td>\n",
              "      <td>4</td>\n",
              "      <td>848.63</td>\n",
              "      <td>2.68</td>\n",
              "      <td>2.68</td>\n",
              "      <td>0.670000</td>\n",
              "      <td>0.111577</td>\n",
              "    </tr>\n",
              "  </tbody>\n",
              "</table>\n",
              "<p>12940 rows × 8 columns</p>\n",
              "</div>"
            ],
            "text/plain": [
              "              customer_name  ... customer_value\n",
              "0               Tara Manini  ...      21.864812\n",
              "1      Josephine Sivertsson  ...      13.074400\n",
              "2          Alba Ortiz Reyes  ...      15.887807\n",
              "3         Willimae Villajin  ...      12.660753\n",
              "4             Kereka Guidry  ...      14.050190\n",
              "...                     ...  ...            ...\n",
              "12935      Melissa Figueroa  ...       1.165731\n",
              "12936   Federica Manfredini  ...       1.165731\n",
              "12937       Sarah Toussaint  ...       1.165731\n",
              "12938     Savy Nouv Becerra  ...       0.831000\n",
              "12939              Kaiser A  ...       0.111577\n",
              "\n",
              "[12940 rows x 8 columns]"
            ]
          },
          "metadata": {
            "tags": []
          },
          "execution_count": 455
        }
      ]
    },
    {
      "cell_type": "code",
      "metadata": {
        "id": "9GR3J8RHrc98"
      },
      "source": [
        "lifespan6 = 6\n",
        "lifespan18 =18\n",
        "lifespan3yr = 36\n",
        "\n",
        "lifespan = [6, 18, 36]\n",
        "\n"
      ],
      "execution_count": null,
      "outputs": []
    },
    {
      "cell_type": "code",
      "metadata": {
        "id": "EcSXD6YwrRiT"
      },
      "source": [
        "for l in lifespan:\n",
        "  df['lifetime_value_' + str(l)] = df['customer_value'] * l "
      ],
      "execution_count": null,
      "outputs": []
    },
    {
      "cell_type": "code",
      "metadata": {
        "colab": {
          "base_uri": "https://localhost:8080/",
          "height": 1000
        },
        "id": "97uMGJKEr_oI",
        "outputId": "90e441ca-45df-4ab5-d1da-c9738edaef7b"
      },
      "source": [
        "df.head(50)"
      ],
      "execution_count": null,
      "outputs": [
        {
          "output_type": "execute_result",
          "data": {
            "text/html": [
              "<div>\n",
              "<style scoped>\n",
              "    .dataframe tbody tr th:only-of-type {\n",
              "        vertical-align: middle;\n",
              "    }\n",
              "\n",
              "    .dataframe tbody tr th {\n",
              "        vertical-align: top;\n",
              "    }\n",
              "\n",
              "    .dataframe thead th {\n",
              "        text-align: right;\n",
              "    }\n",
              "</style>\n",
              "<table border=\"1\" class=\"dataframe\">\n",
              "  <thead>\n",
              "    <tr style=\"text-align: right;\">\n",
              "      <th></th>\n",
              "      <th>customer_name</th>\n",
              "      <th>customer_email</th>\n",
              "      <th>orders</th>\n",
              "      <th>gross_sales</th>\n",
              "      <th>net_sales</th>\n",
              "      <th>total_sales</th>\n",
              "      <th>average_order_value</th>\n",
              "      <th>customer_value</th>\n",
              "      <th>lifetime_value_6</th>\n",
              "      <th>lifetime_value_18</th>\n",
              "      <th>lifetime_value_36</th>\n",
              "    </tr>\n",
              "  </thead>\n",
              "  <tbody>\n",
              "    <tr>\n",
              "      <th>0</th>\n",
              "      <td>Tara Manini</td>\n",
              "      <td>tmanini@hotmail.com</td>\n",
              "      <td>29</td>\n",
              "      <td>3637.39</td>\n",
              "      <td>3413.45</td>\n",
              "      <td>3807.53</td>\n",
              "      <td>131.294138</td>\n",
              "      <td>21.864812</td>\n",
              "      <td>131.188869</td>\n",
              "      <td>393.566608</td>\n",
              "      <td>787.133216</td>\n",
              "    </tr>\n",
              "    <tr>\n",
              "      <th>1</th>\n",
              "      <td>Josephine Sivertsson</td>\n",
              "      <td>josephine.sivertsson@hotmail.com</td>\n",
              "      <td>46</td>\n",
              "      <td>3285.04</td>\n",
              "      <td>3131.73</td>\n",
              "      <td>3611.43</td>\n",
              "      <td>78.509348</td>\n",
              "      <td>13.074400</td>\n",
              "      <td>78.446401</td>\n",
              "      <td>235.339202</td>\n",
              "      <td>470.678405</td>\n",
              "    </tr>\n",
              "    <tr>\n",
              "      <th>2</th>\n",
              "      <td>Alba Ortiz Reyes</td>\n",
              "      <td>aortiz258@hotmail.com</td>\n",
              "      <td>36</td>\n",
              "      <td>3492.10</td>\n",
              "      <td>3299.65</td>\n",
              "      <td>3434.52</td>\n",
              "      <td>95.403333</td>\n",
              "      <td>15.887807</td>\n",
              "      <td>95.326841</td>\n",
              "      <td>285.980523</td>\n",
              "      <td>571.961047</td>\n",
              "    </tr>\n",
              "    <tr>\n",
              "      <th>3</th>\n",
              "      <td>Willimae Villajin</td>\n",
              "      <td>maw105_92@yahoo.com</td>\n",
              "      <td>42</td>\n",
              "      <td>2703.42</td>\n",
              "      <td>2663.43</td>\n",
              "      <td>3193.07</td>\n",
              "      <td>76.025476</td>\n",
              "      <td>12.660753</td>\n",
              "      <td>75.964521</td>\n",
              "      <td>227.893562</td>\n",
              "      <td>455.787124</td>\n",
              "    </tr>\n",
              "    <tr>\n",
              "      <th>4</th>\n",
              "      <td>Kereka Guidry</td>\n",
              "      <td>k.guidry1992@gmail.com</td>\n",
              "      <td>33</td>\n",
              "      <td>2792.51</td>\n",
              "      <td>2614.34</td>\n",
              "      <td>2784.17</td>\n",
              "      <td>84.368788</td>\n",
              "      <td>14.050190</td>\n",
              "      <td>84.301143</td>\n",
              "      <td>252.903429</td>\n",
              "      <td>505.806857</td>\n",
              "    </tr>\n",
              "    <tr>\n",
              "      <th>5</th>\n",
              "      <td>Courtney Wirtz</td>\n",
              "      <td>lynne1021@gmail.com</td>\n",
              "      <td>29</td>\n",
              "      <td>3014.33</td>\n",
              "      <td>2537.03</td>\n",
              "      <td>2608.96</td>\n",
              "      <td>89.964138</td>\n",
              "      <td>14.982001</td>\n",
              "      <td>89.892007</td>\n",
              "      <td>269.676020</td>\n",
              "      <td>539.352040</td>\n",
              "    </tr>\n",
              "    <tr>\n",
              "      <th>6</th>\n",
              "      <td>Megan Butler Stoney</td>\n",
              "      <td>megan_kay@live.com</td>\n",
              "      <td>42</td>\n",
              "      <td>2461.48</td>\n",
              "      <td>2257.22</td>\n",
              "      <td>2558.98</td>\n",
              "      <td>60.928095</td>\n",
              "      <td>10.146541</td>\n",
              "      <td>60.879244</td>\n",
              "      <td>182.637733</td>\n",
              "      <td>365.275467</td>\n",
              "    </tr>\n",
              "    <tr>\n",
              "      <th>7</th>\n",
              "      <td>Hannah Horejsi</td>\n",
              "      <td>bannana_1444@hotmail.com</td>\n",
              "      <td>41</td>\n",
              "      <td>2005.70</td>\n",
              "      <td>1960.53</td>\n",
              "      <td>2273.24</td>\n",
              "      <td>55.444878</td>\n",
              "      <td>9.233404</td>\n",
              "      <td>55.400424</td>\n",
              "      <td>166.201271</td>\n",
              "      <td>332.402542</td>\n",
              "    </tr>\n",
              "    <tr>\n",
              "      <th>8</th>\n",
              "      <td>Leah Mejia</td>\n",
              "      <td>leahakers@live.com</td>\n",
              "      <td>17</td>\n",
              "      <td>2123.60</td>\n",
              "      <td>2035.02</td>\n",
              "      <td>2078.98</td>\n",
              "      <td>122.292941</td>\n",
              "      <td>20.365815</td>\n",
              "      <td>122.194889</td>\n",
              "      <td>366.584668</td>\n",
              "      <td>733.169337</td>\n",
              "    </tr>\n",
              "    <tr>\n",
              "      <th>9</th>\n",
              "      <td>Samantha Harkiewicz</td>\n",
              "      <td>sharkiewicz2958@yahoo.com</td>\n",
              "      <td>33</td>\n",
              "      <td>1927.21</td>\n",
              "      <td>1826.93</td>\n",
              "      <td>2065.70</td>\n",
              "      <td>62.596970</td>\n",
              "      <td>10.424463</td>\n",
              "      <td>62.546781</td>\n",
              "      <td>187.640343</td>\n",
              "      <td>375.280685</td>\n",
              "    </tr>\n",
              "    <tr>\n",
              "      <th>10</th>\n",
              "      <td>Valeria Padrun</td>\n",
              "      <td>vale.padrun@hotmail.com</td>\n",
              "      <td>27</td>\n",
              "      <td>1905.30</td>\n",
              "      <td>1873.30</td>\n",
              "      <td>2043.15</td>\n",
              "      <td>75.672222</td>\n",
              "      <td>12.601925</td>\n",
              "      <td>75.611550</td>\n",
              "      <td>226.834650</td>\n",
              "      <td>453.669300</td>\n",
              "    </tr>\n",
              "    <tr>\n",
              "      <th>11</th>\n",
              "      <td>Jennifer Beeler</td>\n",
              "      <td>jiffy668@yahoo.com</td>\n",
              "      <td>30</td>\n",
              "      <td>2066.36</td>\n",
              "      <td>1813.76</td>\n",
              "      <td>1974.63</td>\n",
              "      <td>65.821000</td>\n",
              "      <td>10.961371</td>\n",
              "      <td>65.768226</td>\n",
              "      <td>197.304679</td>\n",
              "      <td>394.609357</td>\n",
              "    </tr>\n",
              "    <tr>\n",
              "      <th>12</th>\n",
              "      <td>Rachael Eversole</td>\n",
              "      <td>joeandangelina300@gmail.com</td>\n",
              "      <td>22</td>\n",
              "      <td>1816.18</td>\n",
              "      <td>1725.51</td>\n",
              "      <td>1970.19</td>\n",
              "      <td>89.554091</td>\n",
              "      <td>14.913715</td>\n",
              "      <td>89.482288</td>\n",
              "      <td>268.446865</td>\n",
              "      <td>536.893731</td>\n",
              "    </tr>\n",
              "    <tr>\n",
              "      <th>13</th>\n",
              "      <td>Lynn Tran</td>\n",
              "      <td>lynntran7760@yahoo.com</td>\n",
              "      <td>26</td>\n",
              "      <td>2030.09</td>\n",
              "      <td>1850.35</td>\n",
              "      <td>1945.27</td>\n",
              "      <td>74.818077</td>\n",
              "      <td>12.459682</td>\n",
              "      <td>74.758089</td>\n",
              "      <td>224.274268</td>\n",
              "      <td>448.548537</td>\n",
              "    </tr>\n",
              "    <tr>\n",
              "      <th>14</th>\n",
              "      <td>Abby McConnell</td>\n",
              "      <td>abby.d.mcconnell@gmail.com</td>\n",
              "      <td>33</td>\n",
              "      <td>1750.35</td>\n",
              "      <td>1734.86</td>\n",
              "      <td>1938.69</td>\n",
              "      <td>58.748182</td>\n",
              "      <td>9.783513</td>\n",
              "      <td>58.701079</td>\n",
              "      <td>176.103237</td>\n",
              "      <td>352.206473</td>\n",
              "    </tr>\n",
              "    <tr>\n",
              "      <th>15</th>\n",
              "      <td>Bethany Vigil</td>\n",
              "      <td>bjvigil316@yahoo.com</td>\n",
              "      <td>26</td>\n",
              "      <td>2065.32</td>\n",
              "      <td>1833.35</td>\n",
              "      <td>1914.26</td>\n",
              "      <td>73.625385</td>\n",
              "      <td>12.261059</td>\n",
              "      <td>73.566353</td>\n",
              "      <td>220.699060</td>\n",
              "      <td>441.398121</td>\n",
              "    </tr>\n",
              "    <tr>\n",
              "      <th>16</th>\n",
              "      <td>Sarah Araki-Kwee</td>\n",
              "      <td>sarahfergy22@gmail.com</td>\n",
              "      <td>16</td>\n",
              "      <td>1889.59</td>\n",
              "      <td>1791.43</td>\n",
              "      <td>1910.31</td>\n",
              "      <td>119.394375</td>\n",
              "      <td>19.883108</td>\n",
              "      <td>119.298647</td>\n",
              "      <td>357.895942</td>\n",
              "      <td>715.791884</td>\n",
              "    </tr>\n",
              "    <tr>\n",
              "      <th>17</th>\n",
              "      <td>Emily Wood</td>\n",
              "      <td>wood.emily.marie@gmail.com</td>\n",
              "      <td>28</td>\n",
              "      <td>1729.45</td>\n",
              "      <td>1618.71</td>\n",
              "      <td>1898.41</td>\n",
              "      <td>67.800357</td>\n",
              "      <td>11.290999</td>\n",
              "      <td>67.745996</td>\n",
              "      <td>203.237989</td>\n",
              "      <td>406.475978</td>\n",
              "    </tr>\n",
              "    <tr>\n",
              "      <th>18</th>\n",
              "      <td>Ashleigh Walpole</td>\n",
              "      <td>ash.neko.aw@googlemail.com</td>\n",
              "      <td>25</td>\n",
              "      <td>1713.69</td>\n",
              "      <td>1611.40</td>\n",
              "      <td>1836.30</td>\n",
              "      <td>73.452000</td>\n",
              "      <td>12.232185</td>\n",
              "      <td>73.393108</td>\n",
              "      <td>220.179324</td>\n",
              "      <td>440.358647</td>\n",
              "    </tr>\n",
              "    <tr>\n",
              "      <th>19</th>\n",
              "      <td>TESSA PULIDO</td>\n",
              "      <td>t.pulido@hotmail.com</td>\n",
              "      <td>21</td>\n",
              "      <td>1729.65</td>\n",
              "      <td>1684.17</td>\n",
              "      <td>1833.00</td>\n",
              "      <td>87.285714</td>\n",
              "      <td>14.535955</td>\n",
              "      <td>87.215731</td>\n",
              "      <td>261.647192</td>\n",
              "      <td>523.294383</td>\n",
              "    </tr>\n",
              "    <tr>\n",
              "      <th>20</th>\n",
              "      <td>Courtnie Rachel</td>\n",
              "      <td>irisathena86@yahoo.com</td>\n",
              "      <td>31</td>\n",
              "      <td>1599.71</td>\n",
              "      <td>1564.22</td>\n",
              "      <td>1827.93</td>\n",
              "      <td>58.965484</td>\n",
              "      <td>9.819701</td>\n",
              "      <td>58.918207</td>\n",
              "      <td>176.754620</td>\n",
              "      <td>353.509240</td>\n",
              "    </tr>\n",
              "    <tr>\n",
              "      <th>21</th>\n",
              "      <td>Caro Soto</td>\n",
              "      <td>carolina11jr@gmail.com</td>\n",
              "      <td>26</td>\n",
              "      <td>1810.34</td>\n",
              "      <td>1762.15</td>\n",
              "      <td>1821.08</td>\n",
              "      <td>70.041538</td>\n",
              "      <td>11.664230</td>\n",
              "      <td>69.985381</td>\n",
              "      <td>209.956142</td>\n",
              "      <td>419.912284</td>\n",
              "    </tr>\n",
              "    <tr>\n",
              "      <th>22</th>\n",
              "      <td>Sarah Henderson</td>\n",
              "      <td>haras11816@aol.com</td>\n",
              "      <td>26</td>\n",
              "      <td>1681.09</td>\n",
              "      <td>1586.99</td>\n",
              "      <td>1816.86</td>\n",
              "      <td>69.879231</td>\n",
              "      <td>11.637201</td>\n",
              "      <td>69.823203</td>\n",
              "      <td>209.469610</td>\n",
              "      <td>418.939219</td>\n",
              "    </tr>\n",
              "    <tr>\n",
              "      <th>23</th>\n",
              "      <td>Gabriela Meza</td>\n",
              "      <td>gaby55402_10@hotmail.com</td>\n",
              "      <td>24</td>\n",
              "      <td>1862.08</td>\n",
              "      <td>1714.14</td>\n",
              "      <td>1800.04</td>\n",
              "      <td>75.001667</td>\n",
              "      <td>12.490255</td>\n",
              "      <td>74.941532</td>\n",
              "      <td>224.824596</td>\n",
              "      <td>449.649192</td>\n",
              "    </tr>\n",
              "    <tr>\n",
              "      <th>24</th>\n",
              "      <td>Kimberly Jordan</td>\n",
              "      <td>kimbojord@gmail.com</td>\n",
              "      <td>23</td>\n",
              "      <td>1716.38</td>\n",
              "      <td>1633.78</td>\n",
              "      <td>1775.62</td>\n",
              "      <td>77.200870</td>\n",
              "      <td>12.856495</td>\n",
              "      <td>77.138972</td>\n",
              "      <td>231.416915</td>\n",
              "      <td>462.833830</td>\n",
              "    </tr>\n",
              "    <tr>\n",
              "      <th>25</th>\n",
              "      <td>Brittany Overby</td>\n",
              "      <td>brittnay.cole.luna99@gmail.com</td>\n",
              "      <td>28</td>\n",
              "      <td>1568.46</td>\n",
              "      <td>1510.47</td>\n",
              "      <td>1742.21</td>\n",
              "      <td>62.221786</td>\n",
              "      <td>10.361983</td>\n",
              "      <td>62.171898</td>\n",
              "      <td>186.515693</td>\n",
              "      <td>373.031386</td>\n",
              "    </tr>\n",
              "    <tr>\n",
              "      <th>26</th>\n",
              "      <td>Kristina Brunken</td>\n",
              "      <td>lnlylvr17@yahoo.com</td>\n",
              "      <td>27</td>\n",
              "      <td>1690.47</td>\n",
              "      <td>1618.98</td>\n",
              "      <td>1720.88</td>\n",
              "      <td>63.736296</td>\n",
              "      <td>10.614199</td>\n",
              "      <td>63.685194</td>\n",
              "      <td>191.055582</td>\n",
              "      <td>382.111164</td>\n",
              "    </tr>\n",
              "    <tr>\n",
              "      <th>27</th>\n",
              "      <td>Karen Oliveros</td>\n",
              "      <td>karenoliveros919@gmail.com</td>\n",
              "      <td>28</td>\n",
              "      <td>1631.44</td>\n",
              "      <td>1605.95</td>\n",
              "      <td>1710.84</td>\n",
              "      <td>61.101429</td>\n",
              "      <td>10.175406</td>\n",
              "      <td>61.052439</td>\n",
              "      <td>183.157316</td>\n",
              "      <td>366.314633</td>\n",
              "    </tr>\n",
              "    <tr>\n",
              "      <th>28</th>\n",
              "      <td>Lauren Donohue</td>\n",
              "      <td>laurendonohue1@aol.com</td>\n",
              "      <td>18</td>\n",
              "      <td>1757.47</td>\n",
              "      <td>1664.12</td>\n",
              "      <td>1700.08</td>\n",
              "      <td>94.448889</td>\n",
              "      <td>15.728860</td>\n",
              "      <td>94.373162</td>\n",
              "      <td>283.119486</td>\n",
              "      <td>566.238971</td>\n",
              "    </tr>\n",
              "    <tr>\n",
              "      <th>29</th>\n",
              "      <td>Christina Scott</td>\n",
              "      <td>cswildrose@gmail.com</td>\n",
              "      <td>22</td>\n",
              "      <td>1541.50</td>\n",
              "      <td>1489.91</td>\n",
              "      <td>1673.55</td>\n",
              "      <td>76.070455</td>\n",
              "      <td>12.668244</td>\n",
              "      <td>76.009463</td>\n",
              "      <td>228.028389</td>\n",
              "      <td>456.056778</td>\n",
              "    </tr>\n",
              "    <tr>\n",
              "      <th>30</th>\n",
              "      <td>Jessica Johnson</td>\n",
              "      <td>frogtcat@hotmail.com</td>\n",
              "      <td>16</td>\n",
              "      <td>1701.35</td>\n",
              "      <td>1604.49</td>\n",
              "      <td>1667.42</td>\n",
              "      <td>104.213750</td>\n",
              "      <td>17.355032</td>\n",
              "      <td>104.130194</td>\n",
              "      <td>312.390581</td>\n",
              "      <td>624.781163</td>\n",
              "    </tr>\n",
              "    <tr>\n",
              "      <th>31</th>\n",
              "      <td>Jenny Ling</td>\n",
              "      <td>michiko574@hotmail.com</td>\n",
              "      <td>20</td>\n",
              "      <td>1616.58</td>\n",
              "      <td>1551.80</td>\n",
              "      <td>1650.70</td>\n",
              "      <td>82.535000</td>\n",
              "      <td>13.744804</td>\n",
              "      <td>82.468825</td>\n",
              "      <td>247.406476</td>\n",
              "      <td>494.812952</td>\n",
              "    </tr>\n",
              "    <tr>\n",
              "      <th>32</th>\n",
              "      <td>Courtney Bruno</td>\n",
              "      <td>cebruno3@att.net</td>\n",
              "      <td>24</td>\n",
              "      <td>1564.15</td>\n",
              "      <td>1535.16</td>\n",
              "      <td>1647.06</td>\n",
              "      <td>68.627500</td>\n",
              "      <td>11.428746</td>\n",
              "      <td>68.572476</td>\n",
              "      <td>205.717428</td>\n",
              "      <td>411.434856</td>\n",
              "    </tr>\n",
              "    <tr>\n",
              "      <th>33</th>\n",
              "      <td>Methayel Al-harami</td>\n",
              "      <td>m.al-harami@hotmail.com</td>\n",
              "      <td>11</td>\n",
              "      <td>1538.88</td>\n",
              "      <td>1530.88</td>\n",
              "      <td>1646.81</td>\n",
              "      <td>149.710000</td>\n",
              "      <td>24.931661</td>\n",
              "      <td>149.589966</td>\n",
              "      <td>448.769898</td>\n",
              "      <td>897.539795</td>\n",
              "    </tr>\n",
              "    <tr>\n",
              "      <th>34</th>\n",
              "      <td>Sarah Rosebrock</td>\n",
              "      <td>sarahrosebrock93@gmail.com</td>\n",
              "      <td>17</td>\n",
              "      <td>1661.42</td>\n",
              "      <td>1557.13</td>\n",
              "      <td>1636.06</td>\n",
              "      <td>96.238824</td>\n",
              "      <td>16.026944</td>\n",
              "      <td>96.161661</td>\n",
              "      <td>288.484984</td>\n",
              "      <td>576.969968</td>\n",
              "    </tr>\n",
              "    <tr>\n",
              "      <th>35</th>\n",
              "      <td>Dolores Noonan</td>\n",
              "      <td>kolokele@comcast.net</td>\n",
              "      <td>17</td>\n",
              "      <td>1521.91</td>\n",
              "      <td>1475.78</td>\n",
              "      <td>1594.42</td>\n",
              "      <td>93.789412</td>\n",
              "      <td>15.619036</td>\n",
              "      <td>93.714214</td>\n",
              "      <td>281.142641</td>\n",
              "      <td>562.285281</td>\n",
              "    </tr>\n",
              "    <tr>\n",
              "      <th>36</th>\n",
              "      <td>Sarah Van Norden</td>\n",
              "      <td>Svannorden00@yahoo.com</td>\n",
              "      <td>23</td>\n",
              "      <td>1723.89</td>\n",
              "      <td>1522.92</td>\n",
              "      <td>1585.85</td>\n",
              "      <td>68.950000</td>\n",
              "      <td>11.482453</td>\n",
              "      <td>68.894717</td>\n",
              "      <td>206.684152</td>\n",
              "      <td>413.368305</td>\n",
              "    </tr>\n",
              "    <tr>\n",
              "      <th>37</th>\n",
              "      <td>Maria Tako</td>\n",
              "      <td>idktako@gmail.com</td>\n",
              "      <td>20</td>\n",
              "      <td>1777.72</td>\n",
              "      <td>1461.92</td>\n",
              "      <td>1581.53</td>\n",
              "      <td>79.076500</td>\n",
              "      <td>13.168850</td>\n",
              "      <td>79.013098</td>\n",
              "      <td>237.039295</td>\n",
              "      <td>474.078589</td>\n",
              "    </tr>\n",
              "    <tr>\n",
              "      <th>38</th>\n",
              "      <td>Caitlin Nolte</td>\n",
              "      <td>throsartae@gmail.com</td>\n",
              "      <td>23</td>\n",
              "      <td>1539.38</td>\n",
              "      <td>1487.97</td>\n",
              "      <td>1575.89</td>\n",
              "      <td>68.516957</td>\n",
              "      <td>11.410337</td>\n",
              "      <td>68.462021</td>\n",
              "      <td>205.386064</td>\n",
              "      <td>410.772127</td>\n",
              "    </tr>\n",
              "    <tr>\n",
              "      <th>39</th>\n",
              "      <td>Amanda Paustian</td>\n",
              "      <td>paustianal@lopers.unk.edu</td>\n",
              "      <td>24</td>\n",
              "      <td>1659.64</td>\n",
              "      <td>1498.73</td>\n",
              "      <td>1564.66</td>\n",
              "      <td>65.194167</td>\n",
              "      <td>10.856983</td>\n",
              "      <td>65.141895</td>\n",
              "      <td>195.425686</td>\n",
              "      <td>390.851373</td>\n",
              "    </tr>\n",
              "    <tr>\n",
              "      <th>40</th>\n",
              "      <td>Shannen Norman</td>\n",
              "      <td>shannen.norman23@hotmail.com</td>\n",
              "      <td>34</td>\n",
              "      <td>1355.58</td>\n",
              "      <td>1242.63</td>\n",
              "      <td>1534.42</td>\n",
              "      <td>45.130000</td>\n",
              "      <td>7.515636</td>\n",
              "      <td>45.093816</td>\n",
              "      <td>135.281447</td>\n",
              "      <td>270.562895</td>\n",
              "    </tr>\n",
              "    <tr>\n",
              "      <th>41</th>\n",
              "      <td>Amanda McColm</td>\n",
              "      <td>mithelena@aol.com</td>\n",
              "      <td>18</td>\n",
              "      <td>1453.36</td>\n",
              "      <td>1422.46</td>\n",
              "      <td>1524.36</td>\n",
              "      <td>84.686667</td>\n",
              "      <td>14.103128</td>\n",
              "      <td>84.618767</td>\n",
              "      <td>253.856300</td>\n",
              "      <td>507.712601</td>\n",
              "    </tr>\n",
              "    <tr>\n",
              "      <th>42</th>\n",
              "      <td>Christin Bacharach</td>\n",
              "      <td>stevechrisbach@gmail.com</td>\n",
              "      <td>24</td>\n",
              "      <td>1465.23</td>\n",
              "      <td>1371.13</td>\n",
              "      <td>1513.00</td>\n",
              "      <td>63.041667</td>\n",
              "      <td>10.498520</td>\n",
              "      <td>62.991121</td>\n",
              "      <td>188.973364</td>\n",
              "      <td>377.946728</td>\n",
              "    </tr>\n",
              "    <tr>\n",
              "      <th>43</th>\n",
              "      <td>Nerida Taylor</td>\n",
              "      <td>NeridaT@icloud.com</td>\n",
              "      <td>28</td>\n",
              "      <td>1433.71</td>\n",
              "      <td>1338.24</td>\n",
              "      <td>1483.11</td>\n",
              "      <td>52.968214</td>\n",
              "      <td>8.820958</td>\n",
              "      <td>52.925746</td>\n",
              "      <td>158.777237</td>\n",
              "      <td>317.554473</td>\n",
              "    </tr>\n",
              "    <tr>\n",
              "      <th>44</th>\n",
              "      <td>Heidi Bjørneklett</td>\n",
              "      <td>heidibb93@hotmail.com</td>\n",
              "      <td>21</td>\n",
              "      <td>1253.02</td>\n",
              "      <td>1175.36</td>\n",
              "      <td>1473.22</td>\n",
              "      <td>70.153333</td>\n",
              "      <td>11.682848</td>\n",
              "      <td>70.097086</td>\n",
              "      <td>210.291258</td>\n",
              "      <td>420.582516</td>\n",
              "    </tr>\n",
              "    <tr>\n",
              "      <th>45</th>\n",
              "      <td>Jasmine Mickleburgh</td>\n",
              "      <td>jasminemickleburgh@outlook.com</td>\n",
              "      <td>8</td>\n",
              "      <td>1275.50</td>\n",
              "      <td>1270.01</td>\n",
              "      <td>1470.76</td>\n",
              "      <td>183.845000</td>\n",
              "      <td>30.616266</td>\n",
              "      <td>183.697597</td>\n",
              "      <td>551.092792</td>\n",
              "      <td>1102.185583</td>\n",
              "    </tr>\n",
              "    <tr>\n",
              "      <th>46</th>\n",
              "      <td>Sandra Sanchez</td>\n",
              "      <td>sanchezs1995@gmail.com</td>\n",
              "      <td>20</td>\n",
              "      <td>1498.43</td>\n",
              "      <td>1413.86</td>\n",
              "      <td>1464.81</td>\n",
              "      <td>73.240500</td>\n",
              "      <td>12.196963</td>\n",
              "      <td>73.181777</td>\n",
              "      <td>219.545332</td>\n",
              "      <td>439.090665</td>\n",
              "    </tr>\n",
              "    <tr>\n",
              "      <th>47</th>\n",
              "      <td>Karly Simms</td>\n",
              "      <td>flutterbeekiss@hotmail.com</td>\n",
              "      <td>25</td>\n",
              "      <td>1302.83</td>\n",
              "      <td>1233.83</td>\n",
              "      <td>1455.67</td>\n",
              "      <td>58.226800</td>\n",
              "      <td>9.696686</td>\n",
              "      <td>58.180115</td>\n",
              "      <td>174.540345</td>\n",
              "      <td>349.080690</td>\n",
              "    </tr>\n",
              "    <tr>\n",
              "      <th>48</th>\n",
              "      <td>Michelle Butler</td>\n",
              "      <td>m_elle79@hotmail.com</td>\n",
              "      <td>24</td>\n",
              "      <td>1490.64</td>\n",
              "      <td>1367.05</td>\n",
              "      <td>1450.97</td>\n",
              "      <td>60.457083</td>\n",
              "      <td>10.068102</td>\n",
              "      <td>60.408610</td>\n",
              "      <td>181.225831</td>\n",
              "      <td>362.451661</td>\n",
              "    </tr>\n",
              "    <tr>\n",
              "      <th>49</th>\n",
              "      <td>Janice Graham</td>\n",
              "      <td>janicegram@aol.com</td>\n",
              "      <td>15</td>\n",
              "      <td>1274.36</td>\n",
              "      <td>1215.27</td>\n",
              "      <td>1445.04</td>\n",
              "      <td>96.336000</td>\n",
              "      <td>16.043127</td>\n",
              "      <td>96.258760</td>\n",
              "      <td>288.776280</td>\n",
              "      <td>577.552560</td>\n",
              "    </tr>\n",
              "  </tbody>\n",
              "</table>\n",
              "</div>"
            ],
            "text/plain": [
              "           customer_name  ... lifetime_value_36\n",
              "0            Tara Manini  ...        787.133216\n",
              "1   Josephine Sivertsson  ...        470.678405\n",
              "2       Alba Ortiz Reyes  ...        571.961047\n",
              "3      Willimae Villajin  ...        455.787124\n",
              "4          Kereka Guidry  ...        505.806857\n",
              "5         Courtney Wirtz  ...        539.352040\n",
              "6    Megan Butler Stoney  ...        365.275467\n",
              "7         Hannah Horejsi  ...        332.402542\n",
              "8             Leah Mejia  ...        733.169337\n",
              "9    Samantha Harkiewicz  ...        375.280685\n",
              "10        Valeria Padrun  ...        453.669300\n",
              "11       Jennifer Beeler  ...        394.609357\n",
              "12      Rachael Eversole  ...        536.893731\n",
              "13             Lynn Tran  ...        448.548537\n",
              "14        Abby McConnell  ...        352.206473\n",
              "15         Bethany Vigil  ...        441.398121\n",
              "16      Sarah Araki-Kwee  ...        715.791884\n",
              "17            Emily Wood  ...        406.475978\n",
              "18      Ashleigh Walpole  ...        440.358647\n",
              "19          TESSA PULIDO  ...        523.294383\n",
              "20       Courtnie Rachel  ...        353.509240\n",
              "21             Caro Soto  ...        419.912284\n",
              "22       Sarah Henderson  ...        418.939219\n",
              "23         Gabriela Meza  ...        449.649192\n",
              "24       Kimberly Jordan  ...        462.833830\n",
              "25       Brittany Overby  ...        373.031386\n",
              "26      Kristina Brunken  ...        382.111164\n",
              "27        Karen Oliveros  ...        366.314633\n",
              "28        Lauren Donohue  ...        566.238971\n",
              "29       Christina Scott  ...        456.056778\n",
              "30       Jessica Johnson  ...        624.781163\n",
              "31            Jenny Ling  ...        494.812952\n",
              "32        Courtney Bruno  ...        411.434856\n",
              "33    Methayel Al-harami  ...        897.539795\n",
              "34       Sarah Rosebrock  ...        576.969968\n",
              "35        Dolores Noonan  ...        562.285281\n",
              "36      Sarah Van Norden  ...        413.368305\n",
              "37            Maria Tako  ...        474.078589\n",
              "38         Caitlin Nolte  ...        410.772127\n",
              "39       Amanda Paustian  ...        390.851373\n",
              "40        Shannen Norman  ...        270.562895\n",
              "41         Amanda McColm  ...        507.712601\n",
              "42    Christin Bacharach  ...        377.946728\n",
              "43         Nerida Taylor  ...        317.554473\n",
              "44     Heidi Bjørneklett  ...        420.582516\n",
              "45   Jasmine Mickleburgh  ...       1102.185583\n",
              "46        Sandra Sanchez  ...        439.090665\n",
              "47           Karly Simms  ...        349.080690\n",
              "48       Michelle Butler  ...        362.451661\n",
              "49         Janice Graham  ...        577.552560\n",
              "\n",
              "[50 rows x 11 columns]"
            ]
          },
          "metadata": {
            "tags": []
          },
          "execution_count": 458
        }
      ]
    },
    {
      "cell_type": "markdown",
      "metadata": {
        "id": "5peL25Zzpjcu"
      },
      "source": [
        "## Normalize"
      ]
    },
    {
      "cell_type": "code",
      "metadata": {
        "colab": {
          "base_uri": "https://localhost:8080/",
          "height": 297
        },
        "id": "XYnFxgWkslon",
        "outputId": "dae454f4-3a7a-4a04-965e-1a1410a4981e"
      },
      "source": [
        "df.describe()"
      ],
      "execution_count": null,
      "outputs": [
        {
          "output_type": "execute_result",
          "data": {
            "text/html": [
              "<div>\n",
              "<style scoped>\n",
              "    .dataframe tbody tr th:only-of-type {\n",
              "        vertical-align: middle;\n",
              "    }\n",
              "\n",
              "    .dataframe tbody tr th {\n",
              "        vertical-align: top;\n",
              "    }\n",
              "\n",
              "    .dataframe thead th {\n",
              "        text-align: right;\n",
              "    }\n",
              "</style>\n",
              "<table border=\"1\" class=\"dataframe\">\n",
              "  <thead>\n",
              "    <tr style=\"text-align: right;\">\n",
              "      <th></th>\n",
              "      <th>orders</th>\n",
              "      <th>gross_sales</th>\n",
              "      <th>net_sales</th>\n",
              "      <th>total_sales</th>\n",
              "      <th>average_order_value</th>\n",
              "      <th>customer_value</th>\n",
              "      <th>lifetime_value_6</th>\n",
              "      <th>lifetime_value_18</th>\n",
              "      <th>lifetime_value_36</th>\n",
              "    </tr>\n",
              "  </thead>\n",
              "  <tbody>\n",
              "    <tr>\n",
              "      <th>count</th>\n",
              "      <td>12940.000000</td>\n",
              "      <td>12940.000000</td>\n",
              "      <td>12940.00000</td>\n",
              "      <td>12940.000000</td>\n",
              "      <td>12940.000000</td>\n",
              "      <td>12940.000000</td>\n",
              "      <td>12940.000000</td>\n",
              "      <td>12940.000000</td>\n",
              "      <td>12940.000000</td>\n",
              "    </tr>\n",
              "    <tr>\n",
              "      <th>mean</th>\n",
              "      <td>2.664529</td>\n",
              "      <td>153.405488</td>\n",
              "      <td>147.44913</td>\n",
              "      <td>160.130155</td>\n",
              "      <td>64.430450</td>\n",
              "      <td>10.729799</td>\n",
              "      <td>64.378791</td>\n",
              "      <td>193.136374</td>\n",
              "      <td>386.272748</td>\n",
              "    </tr>\n",
              "    <tr>\n",
              "      <th>std</th>\n",
              "      <td>2.952397</td>\n",
              "      <td>190.647825</td>\n",
              "      <td>181.06451</td>\n",
              "      <td>193.510671</td>\n",
              "      <td>37.675361</td>\n",
              "      <td>6.274192</td>\n",
              "      <td>37.645154</td>\n",
              "      <td>112.935461</td>\n",
              "      <td>225.870923</td>\n",
              "    </tr>\n",
              "    <tr>\n",
              "      <th>min</th>\n",
              "      <td>1.000000</td>\n",
              "      <td>4.990000</td>\n",
              "      <td>-17.51000</td>\n",
              "      <td>2.680000</td>\n",
              "      <td>0.670000</td>\n",
              "      <td>0.111577</td>\n",
              "      <td>0.669463</td>\n",
              "      <td>2.008388</td>\n",
              "      <td>4.016777</td>\n",
              "    </tr>\n",
              "    <tr>\n",
              "      <th>25%</th>\n",
              "      <td>1.000000</td>\n",
              "      <td>49.990000</td>\n",
              "      <td>45.99000</td>\n",
              "      <td>50.415000</td>\n",
              "      <td>44.990000</td>\n",
              "      <td>7.492321</td>\n",
              "      <td>44.953928</td>\n",
              "      <td>134.861784</td>\n",
              "      <td>269.723568</td>\n",
              "    </tr>\n",
              "    <tr>\n",
              "      <th>50%</th>\n",
              "      <td>1.000000</td>\n",
              "      <td>99.980000</td>\n",
              "      <td>97.17000</td>\n",
              "      <td>99.980000</td>\n",
              "      <td>52.990000</td>\n",
              "      <td>8.824586</td>\n",
              "      <td>52.947514</td>\n",
              "      <td>158.842541</td>\n",
              "      <td>317.685083</td>\n",
              "    </tr>\n",
              "    <tr>\n",
              "      <th>75%</th>\n",
              "      <td>3.000000</td>\n",
              "      <td>195.987500</td>\n",
              "      <td>179.97000</td>\n",
              "      <td>197.062500</td>\n",
              "      <td>69.727083</td>\n",
              "      <td>11.611863</td>\n",
              "      <td>69.671178</td>\n",
              "      <td>209.013533</td>\n",
              "      <td>418.027066</td>\n",
              "    </tr>\n",
              "    <tr>\n",
              "      <th>max</th>\n",
              "      <td>46.000000</td>\n",
              "      <td>3637.390000</td>\n",
              "      <td>3413.45000</td>\n",
              "      <td>3807.530000</td>\n",
              "      <td>522.570000</td>\n",
              "      <td>87.025169</td>\n",
              "      <td>522.151015</td>\n",
              "      <td>1566.453045</td>\n",
              "      <td>3132.906091</td>\n",
              "    </tr>\n",
              "  </tbody>\n",
              "</table>\n",
              "</div>"
            ],
            "text/plain": [
              "             orders   gross_sales  ...  lifetime_value_18  lifetime_value_36\n",
              "count  12940.000000  12940.000000  ...       12940.000000       12940.000000\n",
              "mean       2.664529    153.405488  ...         193.136374         386.272748\n",
              "std        2.952397    190.647825  ...         112.935461         225.870923\n",
              "min        1.000000      4.990000  ...           2.008388           4.016777\n",
              "25%        1.000000     49.990000  ...         134.861784         269.723568\n",
              "50%        1.000000     99.980000  ...         158.842541         317.685083\n",
              "75%        3.000000    195.987500  ...         209.013533         418.027066\n",
              "max       46.000000   3637.390000  ...        1566.453045        3132.906091\n",
              "\n",
              "[8 rows x 9 columns]"
            ]
          },
          "metadata": {
            "tags": []
          },
          "execution_count": 459
        }
      ]
    },
    {
      "cell_type": "code",
      "metadata": {
        "colab": {
          "base_uri": "https://localhost:8080/",
          "height": 297
        },
        "id": "JDTMcZZSpaha",
        "outputId": "55615daa-d483-41f9-c1b7-472979ea3722"
      },
      "source": [
        "df_normalized = (df - df.mean()) / df.std()\n",
        "df_normalized.describe()"
      ],
      "execution_count": null,
      "outputs": [
        {
          "output_type": "execute_result",
          "data": {
            "text/html": [
              "<div>\n",
              "<style scoped>\n",
              "    .dataframe tbody tr th:only-of-type {\n",
              "        vertical-align: middle;\n",
              "    }\n",
              "\n",
              "    .dataframe tbody tr th {\n",
              "        vertical-align: top;\n",
              "    }\n",
              "\n",
              "    .dataframe thead th {\n",
              "        text-align: right;\n",
              "    }\n",
              "</style>\n",
              "<table border=\"1\" class=\"dataframe\">\n",
              "  <thead>\n",
              "    <tr style=\"text-align: right;\">\n",
              "      <th></th>\n",
              "      <th>average_order_value</th>\n",
              "      <th>customer_value</th>\n",
              "      <th>gross_sales</th>\n",
              "      <th>lifetime_value_18</th>\n",
              "      <th>lifetime_value_36</th>\n",
              "      <th>lifetime_value_6</th>\n",
              "      <th>net_sales</th>\n",
              "      <th>orders</th>\n",
              "      <th>total_sales</th>\n",
              "    </tr>\n",
              "  </thead>\n",
              "  <tbody>\n",
              "    <tr>\n",
              "      <th>count</th>\n",
              "      <td>1.294000e+04</td>\n",
              "      <td>1.294000e+04</td>\n",
              "      <td>1.294000e+04</td>\n",
              "      <td>1.294000e+04</td>\n",
              "      <td>1.294000e+04</td>\n",
              "      <td>1.294000e+04</td>\n",
              "      <td>1.294000e+04</td>\n",
              "      <td>1.294000e+04</td>\n",
              "      <td>1.294000e+04</td>\n",
              "    </tr>\n",
              "    <tr>\n",
              "      <th>mean</th>\n",
              "      <td>2.099855e-13</td>\n",
              "      <td>3.884210e-14</td>\n",
              "      <td>8.874035e-14</td>\n",
              "      <td>5.152730e-14</td>\n",
              "      <td>5.152730e-14</td>\n",
              "      <td>3.071826e-14</td>\n",
              "      <td>7.282879e-14</td>\n",
              "      <td>-4.770823e-15</td>\n",
              "      <td>1.016643e-13</td>\n",
              "    </tr>\n",
              "    <tr>\n",
              "      <th>std</th>\n",
              "      <td>1.000000e+00</td>\n",
              "      <td>1.000000e+00</td>\n",
              "      <td>1.000000e+00</td>\n",
              "      <td>1.000000e+00</td>\n",
              "      <td>1.000000e+00</td>\n",
              "      <td>1.000000e+00</td>\n",
              "      <td>1.000000e+00</td>\n",
              "      <td>1.000000e+00</td>\n",
              "      <td>1.000000e+00</td>\n",
              "    </tr>\n",
              "    <tr>\n",
              "      <th>min</th>\n",
              "      <td>-1.692365e+00</td>\n",
              "      <td>-1.692365e+00</td>\n",
              "      <td>-7.784798e-01</td>\n",
              "      <td>-1.692365e+00</td>\n",
              "      <td>-1.692365e+00</td>\n",
              "      <td>-1.692365e+00</td>\n",
              "      <td>-9.110517e-01</td>\n",
              "      <td>-5.637889e-01</td>\n",
              "      <td>-8.136510e-01</td>\n",
              "    </tr>\n",
              "    <tr>\n",
              "      <th>25%</th>\n",
              "      <td>-5.159990e-01</td>\n",
              "      <td>-5.159990e-01</td>\n",
              "      <td>-5.424425e-01</td>\n",
              "      <td>-5.159990e-01</td>\n",
              "      <td>-5.159990e-01</td>\n",
              "      <td>-5.159990e-01</td>\n",
              "      <td>-5.603480e-01</td>\n",
              "      <td>-5.637889e-01</td>\n",
              "      <td>-5.669721e-01</td>\n",
              "    </tr>\n",
              "    <tr>\n",
              "      <th>50%</th>\n",
              "      <td>-3.036587e-01</td>\n",
              "      <td>-3.036587e-01</td>\n",
              "      <td>-2.802313e-01</td>\n",
              "      <td>-3.036587e-01</td>\n",
              "      <td>-3.036587e-01</td>\n",
              "      <td>-3.036587e-01</td>\n",
              "      <td>-2.776863e-01</td>\n",
              "      <td>-5.637889e-01</td>\n",
              "      <td>-3.108364e-01</td>\n",
              "    </tr>\n",
              "    <tr>\n",
              "      <th>75%</th>\n",
              "      <td>1.405861e-01</td>\n",
              "      <td>1.405861e-01</td>\n",
              "      <td>2.233543e-01</td>\n",
              "      <td>1.405861e-01</td>\n",
              "      <td>1.405861e-01</td>\n",
              "      <td>1.405861e-01</td>\n",
              "      <td>1.796093e-01</td>\n",
              "      <td>1.136268e-01</td>\n",
              "      <td>1.908543e-01</td>\n",
              "    </tr>\n",
              "    <tr>\n",
              "      <th>max</th>\n",
              "      <td>1.216019e+01</td>\n",
              "      <td>1.216019e+01</td>\n",
              "      <td>1.827445e+01</td>\n",
              "      <td>1.216019e+01</td>\n",
              "      <td>1.216019e+01</td>\n",
              "      <td>1.216019e+01</td>\n",
              "      <td>1.803777e+01</td>\n",
              "      <td>1.467806e+01</td>\n",
              "      <td>1.884857e+01</td>\n",
              "    </tr>\n",
              "  </tbody>\n",
              "</table>\n",
              "</div>"
            ],
            "text/plain": [
              "       average_order_value  customer_value  ...        orders   total_sales\n",
              "count         1.294000e+04    1.294000e+04  ...  1.294000e+04  1.294000e+04\n",
              "mean          2.099855e-13    3.884210e-14  ... -4.770823e-15  1.016643e-13\n",
              "std           1.000000e+00    1.000000e+00  ...  1.000000e+00  1.000000e+00\n",
              "min          -1.692365e+00   -1.692365e+00  ... -5.637889e-01 -8.136510e-01\n",
              "25%          -5.159990e-01   -5.159990e-01  ... -5.637889e-01 -5.669721e-01\n",
              "50%          -3.036587e-01   -3.036587e-01  ... -5.637889e-01 -3.108364e-01\n",
              "75%           1.405861e-01    1.405861e-01  ...  1.136268e-01  1.908543e-01\n",
              "max           1.216019e+01    1.216019e+01  ...  1.467806e+01  1.884857e+01\n",
              "\n",
              "[8 rows x 9 columns]"
            ]
          },
          "metadata": {
            "tags": []
          },
          "execution_count": 460
        }
      ]
    },
    {
      "cell_type": "code",
      "metadata": {
        "id": "baVrd2ngps5O"
      },
      "source": [
        "from sklearn.cluster import KMeans\n",
        "\n",
        "kmeans_settings = {\n",
        "    'algorithm': 'manual',\n",
        "    'copy_x': True,\n",
        "    'init': 'k-means++',\n",
        "    'max_iter': 300,\n",
        "    'n_clusters': 'manual',\n",
        "    'n_init': 10,\n",
        "    'n_jobs': None,\n",
        "    'precompute_distances': 'auto',\n",
        "    'random_state': 40,\n",
        "    'tol': 0.0001,\n",
        "    'verbose': 0\n",
        "}\n",
        "\n",
        "# kmeans = KMeans(**kmeans_settings).fit(df_normalized[[\"Total Orders\", \"Total Spent\", \"AvgOrderValue\"]])\n",
        "\n",
        "X = df_normalized[['average_order_value', 'customer_value', 'orders', 'total_sales', 'lifetime_value_6', 'lifetime_value_18', 'lifetime_value_36']]\n",
        "kmeans = KMeans(n_clusters = 4, random_state=40).fit(X)"
      ],
      "execution_count": null,
      "outputs": []
    },
    {
      "cell_type": "code",
      "metadata": {
        "colab": {
          "base_uri": "https://localhost:8080/"
        },
        "id": "AQW_TxyoqDx2",
        "outputId": "30c13e78-9dd2-43d0-fc21-e5a165fb0821"
      },
      "source": [
        "kmeans"
      ],
      "execution_count": null,
      "outputs": [
        {
          "output_type": "execute_result",
          "data": {
            "text/plain": [
              "KMeans(algorithm='auto', copy_x=True, init='k-means++', max_iter=300,\n",
              "       n_clusters=4, n_init=10, n_jobs=None, precompute_distances='auto',\n",
              "       random_state=40, tol=0.0001, verbose=0)"
            ]
          },
          "metadata": {
            "tags": []
          },
          "execution_count": 462
        }
      ]
    },
    {
      "cell_type": "code",
      "metadata": {
        "id": "AmhdY_m2xWZz"
      },
      "source": [
        "# from sklearn.metrics import silhouette_score\n",
        "\n",
        "# for n_cluster in range(2, 12):\n",
        "#   kmeans = KMeans(n_clusters=n_cluster).fit(\n",
        "#     X\n",
        "#   )\n",
        "#   silhouette_avg = silhouette_score(\n",
        "#       X,\n",
        "#       kmeans.labels_\n",
        "#   )\n",
        "#   print('Silhouette score for %i Clusters: %0.4f' % (n_cluster, silhouette_avg))"
      ],
      "execution_count": null,
      "outputs": []
    },
    {
      "cell_type": "code",
      "metadata": {
        "id": "U3i13SVqqFzO"
      },
      "source": [
        "four_cluster_df = X.copy(deep=True)\n",
        "four_cluster_df['Cluster'] = kmeans.labels_"
      ],
      "execution_count": null,
      "outputs": []
    },
    {
      "cell_type": "code",
      "metadata": {
        "colab": {
          "base_uri": "https://localhost:8080/",
          "height": 204
        },
        "id": "HZhBddY_qbO-",
        "outputId": "081bbfa4-90e7-4f98-bf63-0f8b445dc2c4"
      },
      "source": [
        "four_cluster_df.head()"
      ],
      "execution_count": null,
      "outputs": [
        {
          "output_type": "execute_result",
          "data": {
            "text/html": [
              "<div>\n",
              "<style scoped>\n",
              "    .dataframe tbody tr th:only-of-type {\n",
              "        vertical-align: middle;\n",
              "    }\n",
              "\n",
              "    .dataframe tbody tr th {\n",
              "        vertical-align: top;\n",
              "    }\n",
              "\n",
              "    .dataframe thead th {\n",
              "        text-align: right;\n",
              "    }\n",
              "</style>\n",
              "<table border=\"1\" class=\"dataframe\">\n",
              "  <thead>\n",
              "    <tr style=\"text-align: right;\">\n",
              "      <th></th>\n",
              "      <th>average_order_value</th>\n",
              "      <th>customer_value</th>\n",
              "      <th>orders</th>\n",
              "      <th>total_sales</th>\n",
              "      <th>lifetime_value_6</th>\n",
              "      <th>lifetime_value_18</th>\n",
              "      <th>lifetime_value_36</th>\n",
              "      <th>Cluster</th>\n",
              "    </tr>\n",
              "  </thead>\n",
              "  <tbody>\n",
              "    <tr>\n",
              "      <th>0</th>\n",
              "      <td>1.774733</td>\n",
              "      <td>1.774733</td>\n",
              "      <td>8.920030</td>\n",
              "      <td>18.848572</td>\n",
              "      <td>1.774733</td>\n",
              "      <td>1.774733</td>\n",
              "      <td>1.774733</td>\n",
              "      <td>0</td>\n",
              "    </tr>\n",
              "    <tr>\n",
              "      <th>1</th>\n",
              "      <td>0.373690</td>\n",
              "      <td>0.373690</td>\n",
              "      <td>14.678063</td>\n",
              "      <td>17.835191</td>\n",
              "      <td>0.373690</td>\n",
              "      <td>0.373690</td>\n",
              "      <td>0.373690</td>\n",
              "      <td>0</td>\n",
              "    </tr>\n",
              "    <tr>\n",
              "      <th>2</th>\n",
              "      <td>0.822099</td>\n",
              "      <td>0.822099</td>\n",
              "      <td>11.290985</td>\n",
              "      <td>16.920978</td>\n",
              "      <td>0.822099</td>\n",
              "      <td>0.822099</td>\n",
              "      <td>0.822099</td>\n",
              "      <td>0</td>\n",
              "    </tr>\n",
              "    <tr>\n",
              "      <th>3</th>\n",
              "      <td>0.307762</td>\n",
              "      <td>0.307762</td>\n",
              "      <td>13.323232</td>\n",
              "      <td>15.673243</td>\n",
              "      <td>0.307762</td>\n",
              "      <td>0.307762</td>\n",
              "      <td>0.307762</td>\n",
              "      <td>0</td>\n",
              "    </tr>\n",
              "    <tr>\n",
              "      <th>4</th>\n",
              "      <td>0.529214</td>\n",
              "      <td>0.529214</td>\n",
              "      <td>10.274861</td>\n",
              "      <td>13.560182</td>\n",
              "      <td>0.529214</td>\n",
              "      <td>0.529214</td>\n",
              "      <td>0.529214</td>\n",
              "      <td>0</td>\n",
              "    </tr>\n",
              "  </tbody>\n",
              "</table>\n",
              "</div>"
            ],
            "text/plain": [
              "   average_order_value  customer_value  ...  lifetime_value_36  Cluster\n",
              "0             1.774733        1.774733  ...           1.774733        0\n",
              "1             0.373690        0.373690  ...           0.373690        0\n",
              "2             0.822099        0.822099  ...           0.822099        0\n",
              "3             0.307762        0.307762  ...           0.307762        0\n",
              "4             0.529214        0.529214  ...           0.529214        0\n",
              "\n",
              "[5 rows x 8 columns]"
            ]
          },
          "metadata": {
            "tags": []
          },
          "execution_count": 465
        }
      ]
    },
    {
      "cell_type": "code",
      "metadata": {
        "colab": {
          "base_uri": "https://localhost:8080/"
        },
        "id": "lbF07RP0qeBk",
        "outputId": "12fc6f82-e3fc-4ea3-ee1e-7d0d4a0db57c"
      },
      "source": [
        "four_cluster_df.groupby('Cluster').count().sort_values(by='lifetime_value_6')['lifetime_value_6']"
      ],
      "execution_count": null,
      "outputs": [
        {
          "output_type": "execute_result",
          "data": {
            "text/plain": [
              "Cluster\n",
              "3     141\n",
              "1    1668\n",
              "0    1682\n",
              "2    9449\n",
              "Name: lifetime_value_6, dtype: int64"
            ]
          },
          "metadata": {
            "tags": []
          },
          "execution_count": 466
        }
      ]
    },
    {
      "cell_type": "code",
      "metadata": {
        "colab": {
          "base_uri": "https://localhost:8080/"
        },
        "id": "xoRuOKXjP30u",
        "outputId": "1e6d0099-9411-410d-a30c-18b1a2ed29f8"
      },
      "source": [
        "list(four_cluster_df.columns)"
      ],
      "execution_count": null,
      "outputs": [
        {
          "output_type": "execute_result",
          "data": {
            "text/plain": [
              "['average_order_value',\n",
              " 'customer_value',\n",
              " 'orders',\n",
              " 'total_sales',\n",
              " 'lifetime_value_6',\n",
              " 'lifetime_value_18',\n",
              " 'lifetime_value_36',\n",
              " 'Cluster']"
            ]
          },
          "metadata": {
            "tags": []
          },
          "execution_count": 467
        }
      ]
    },
    {
      "cell_type": "code",
      "metadata": {
        "colab": {
          "base_uri": "https://localhost:8080/",
          "height": 419
        },
        "id": "hZuAaN9WWAE9",
        "outputId": "c0942195-3bc4-4e07-d0d2-584cc6e3952e"
      },
      "source": [
        "alt_df = pd.DataFrame()\n",
        "alt_df['Cluster'] = kmeans.labels_\n",
        "\n",
        "del four_cluster_df['Cluster']\n",
        "four_cluster_df"
      ],
      "execution_count": null,
      "outputs": [
        {
          "output_type": "execute_result",
          "data": {
            "text/html": [
              "<div>\n",
              "<style scoped>\n",
              "    .dataframe tbody tr th:only-of-type {\n",
              "        vertical-align: middle;\n",
              "    }\n",
              "\n",
              "    .dataframe tbody tr th {\n",
              "        vertical-align: top;\n",
              "    }\n",
              "\n",
              "    .dataframe thead th {\n",
              "        text-align: right;\n",
              "    }\n",
              "</style>\n",
              "<table border=\"1\" class=\"dataframe\">\n",
              "  <thead>\n",
              "    <tr style=\"text-align: right;\">\n",
              "      <th></th>\n",
              "      <th>average_order_value</th>\n",
              "      <th>customer_value</th>\n",
              "      <th>orders</th>\n",
              "      <th>total_sales</th>\n",
              "      <th>lifetime_value_6</th>\n",
              "      <th>lifetime_value_18</th>\n",
              "      <th>lifetime_value_36</th>\n",
              "    </tr>\n",
              "  </thead>\n",
              "  <tbody>\n",
              "    <tr>\n",
              "      <th>0</th>\n",
              "      <td>1.774733</td>\n",
              "      <td>1.774733</td>\n",
              "      <td>8.920030</td>\n",
              "      <td>18.848572</td>\n",
              "      <td>1.774733</td>\n",
              "      <td>1.774733</td>\n",
              "      <td>1.774733</td>\n",
              "    </tr>\n",
              "    <tr>\n",
              "      <th>1</th>\n",
              "      <td>0.373690</td>\n",
              "      <td>0.373690</td>\n",
              "      <td>14.678063</td>\n",
              "      <td>17.835191</td>\n",
              "      <td>0.373690</td>\n",
              "      <td>0.373690</td>\n",
              "      <td>0.373690</td>\n",
              "    </tr>\n",
              "    <tr>\n",
              "      <th>2</th>\n",
              "      <td>0.822099</td>\n",
              "      <td>0.822099</td>\n",
              "      <td>11.290985</td>\n",
              "      <td>16.920978</td>\n",
              "      <td>0.822099</td>\n",
              "      <td>0.822099</td>\n",
              "      <td>0.822099</td>\n",
              "    </tr>\n",
              "    <tr>\n",
              "      <th>3</th>\n",
              "      <td>0.307762</td>\n",
              "      <td>0.307762</td>\n",
              "      <td>13.323232</td>\n",
              "      <td>15.673243</td>\n",
              "      <td>0.307762</td>\n",
              "      <td>0.307762</td>\n",
              "      <td>0.307762</td>\n",
              "    </tr>\n",
              "    <tr>\n",
              "      <th>4</th>\n",
              "      <td>0.529214</td>\n",
              "      <td>0.529214</td>\n",
              "      <td>10.274861</td>\n",
              "      <td>13.560182</td>\n",
              "      <td>0.529214</td>\n",
              "      <td>0.529214</td>\n",
              "      <td>0.529214</td>\n",
              "    </tr>\n",
              "    <tr>\n",
              "      <th>...</th>\n",
              "      <td>...</td>\n",
              "      <td>...</td>\n",
              "      <td>...</td>\n",
              "      <td>...</td>\n",
              "      <td>...</td>\n",
              "      <td>...</td>\n",
              "      <td>...</td>\n",
              "    </tr>\n",
              "    <tr>\n",
              "      <th>12935</th>\n",
              "      <td>-1.524350</td>\n",
              "      <td>-1.524350</td>\n",
              "      <td>-0.563789</td>\n",
              "      <td>-0.791327</td>\n",
              "      <td>-1.524350</td>\n",
              "      <td>-1.524350</td>\n",
              "      <td>-1.524350</td>\n",
              "    </tr>\n",
              "    <tr>\n",
              "      <th>12936</th>\n",
              "      <td>-1.524350</td>\n",
              "      <td>-1.524350</td>\n",
              "      <td>-0.563789</td>\n",
              "      <td>-0.791327</td>\n",
              "      <td>-1.524350</td>\n",
              "      <td>-1.524350</td>\n",
              "      <td>-1.524350</td>\n",
              "    </tr>\n",
              "    <tr>\n",
              "      <th>12937</th>\n",
              "      <td>-1.524350</td>\n",
              "      <td>-1.524350</td>\n",
              "      <td>-0.563789</td>\n",
              "      <td>-0.791327</td>\n",
              "      <td>-1.524350</td>\n",
              "      <td>-1.524350</td>\n",
              "      <td>-1.524350</td>\n",
              "    </tr>\n",
              "    <tr>\n",
              "      <th>12938</th>\n",
              "      <td>-1.577701</td>\n",
              "      <td>-1.577701</td>\n",
              "      <td>-0.563789</td>\n",
              "      <td>-0.801714</td>\n",
              "      <td>-1.577701</td>\n",
              "      <td>-1.577701</td>\n",
              "      <td>-1.577701</td>\n",
              "    </tr>\n",
              "    <tr>\n",
              "      <th>12939</th>\n",
              "      <td>-1.692365</td>\n",
              "      <td>-1.692365</td>\n",
              "      <td>0.452335</td>\n",
              "      <td>-0.813651</td>\n",
              "      <td>-1.692365</td>\n",
              "      <td>-1.692365</td>\n",
              "      <td>-1.692365</td>\n",
              "    </tr>\n",
              "  </tbody>\n",
              "</table>\n",
              "<p>12940 rows × 7 columns</p>\n",
              "</div>"
            ],
            "text/plain": [
              "       average_order_value  ...  lifetime_value_36\n",
              "0                 1.774733  ...           1.774733\n",
              "1                 0.373690  ...           0.373690\n",
              "2                 0.822099  ...           0.822099\n",
              "3                 0.307762  ...           0.307762\n",
              "4                 0.529214  ...           0.529214\n",
              "...                    ...  ...                ...\n",
              "12935            -1.524350  ...          -1.524350\n",
              "12936            -1.524350  ...          -1.524350\n",
              "12937            -1.524350  ...          -1.524350\n",
              "12938            -1.577701  ...          -1.577701\n",
              "12939            -1.692365  ...          -1.692365\n",
              "\n",
              "[12940 rows x 7 columns]"
            ]
          },
          "metadata": {
            "tags": []
          },
          "execution_count": 468
        }
      ]
    },
    {
      "cell_type": "code",
      "metadata": {
        "colab": {
          "base_uri": "https://localhost:8080/"
        },
        "id": "UNgoKLGmX3zj",
        "outputId": "6d3819a2-b86e-4e0b-8477-a7c353029fd7"
      },
      "source": [
        "label"
      ],
      "execution_count": null,
      "outputs": [
        {
          "output_type": "execute_result",
          "data": {
            "text/plain": [
              "array([0, 0, 0, ..., 2, 2, 2], dtype=int32)"
            ]
          },
          "metadata": {
            "tags": []
          },
          "execution_count": 469
        }
      ]
    },
    {
      "cell_type": "code",
      "metadata": {
        "id": "OvAfcM_kqkUI",
        "colab": {
          "base_uri": "https://localhost:8080/"
        },
        "outputId": "373f634e-c02b-4ed8-fecc-a9cd2ebb0bc6"
      },
      "source": [
        "import itertools \n",
        "import pandas as pd\n",
        "\n",
        "list(itertools.combinations(four_cluster_df.columns, 2))"
      ],
      "execution_count": null,
      "outputs": [
        {
          "output_type": "execute_result",
          "data": {
            "text/plain": [
              "[('average_order_value', 'customer_value'),\n",
              " ('average_order_value', 'orders'),\n",
              " ('average_order_value', 'total_sales'),\n",
              " ('average_order_value', 'lifetime_value_6'),\n",
              " ('average_order_value', 'lifetime_value_18'),\n",
              " ('average_order_value', 'lifetime_value_36'),\n",
              " ('customer_value', 'orders'),\n",
              " ('customer_value', 'total_sales'),\n",
              " ('customer_value', 'lifetime_value_6'),\n",
              " ('customer_value', 'lifetime_value_18'),\n",
              " ('customer_value', 'lifetime_value_36'),\n",
              " ('orders', 'total_sales'),\n",
              " ('orders', 'lifetime_value_6'),\n",
              " ('orders', 'lifetime_value_18'),\n",
              " ('orders', 'lifetime_value_36'),\n",
              " ('total_sales', 'lifetime_value_6'),\n",
              " ('total_sales', 'lifetime_value_18'),\n",
              " ('total_sales', 'lifetime_value_36'),\n",
              " ('lifetime_value_6', 'lifetime_value_18'),\n",
              " ('lifetime_value_6', 'lifetime_value_36'),\n",
              " ('lifetime_value_18', 'lifetime_value_36')]"
            ]
          },
          "metadata": {
            "tags": []
          },
          "execution_count": 470
        }
      ]
    },
    {
      "cell_type": "code",
      "metadata": {
        "colab": {
          "base_uri": "https://localhost:8080/",
          "height": 1000
        },
        "id": "ljjVKK4AVJCj",
        "outputId": "bb7d5530-621b-4c1a-d9fc-51199b3a93f1"
      },
      "source": [
        "col_pairs = list(itertools.combinations(four_cluster_df.columns, 2))\n",
        "models = []\n",
        "results = []\n",
        "for a, b in col_pairs:\n",
        "  plt.scatter(\n",
        "    four_cluster_df.loc[alt_df['Cluster'] == 0][str(a)], \n",
        "    four_cluster_df.loc[alt_df['Cluster'] == 0][str(b)],\n",
        "    c='blue'\n",
        "  )\n",
        "  plt.scatter(\n",
        "    four_cluster_df.loc[alt_df['Cluster'] == 1][str(a)], \n",
        "    four_cluster_df.loc[alt_df['Cluster'] == 1][str(b)],\n",
        "    c='red'\n",
        "  )\n",
        "  plt.scatter(\n",
        "    four_cluster_df.loc[alt_df['Cluster'] == 2][str(a)], \n",
        "    four_cluster_df.loc[alt_df['Cluster'] == 2][str(b)],\n",
        "    c='green'\n",
        "  )\n",
        "  plt.scatter(\n",
        "    four_cluster_df.loc[alt_df['Cluster'] == 3][str(a)], \n",
        "    four_cluster_df.loc[alt_df['Cluster'] == 3][str(b)],\n",
        "    c='orange'\n",
        "  )\n",
        "  plt.title(str(a) + ' vs ' + str(b))\n",
        "  plt.xlabel(str(b))\n",
        "  plt.ylabel(str(a))\n",
        "\n",
        "  plt.grid()\n",
        "  plt.show()\n",
        "  "
      ],
      "execution_count": null,
      "outputs": [
        {
          "output_type": "display_data",
          "data": {
            "image/png": "[encoded data removed]",
            "text/plain": [
              "<Figure size 432x288 with 1 Axes>"
            ]
          },
          "metadata": {
            "tags": [],
            "needs_background": "light"
          }
        },
        {
          "output_type": "display_data",
          "data": {
            "image/png": "[encoded data removed]",
            "text/plain": [
              "<Figure size 432x288 with 1 Axes>"
            ]
          },
          "metadata": {
            "tags": [],
            "needs_background": "light"
          }
        },
        {
          "output_type": "display_data",
          "data": {
            "image/png": "[encoded data removed]",
            "text/plain": [
              "<Figure size 432x288 with 1 Axes>"
            ]
          },
          "metadata": {
            "tags": [],
            "needs_background": "light"
          }
        },
        {
          "output_type": "display_data",
          "data": {
            "image/png": "[encoded data removed]",
            "text/plain": [
              "<Figure size 432x288 with 1 Axes>"
            ]
          },
          "metadata": {
            "tags": [],
            "needs_background": "light"
          }
        },
        {
          "output_type": "display_data",
          "data": {
            "image/png": "[encoded data removed]",
            "text/plain": [
              "<Figure size 432x288 with 1 Axes>"
            ]
          },
          "metadata": {
            "tags": [],
            "needs_background": "light"
          }
        },
        {
          "output_type": "display_data",
          "data": {
            "image/png": "[encoded data removed]",
            "text/plain": [
              "<Figure size 432x288 with 1 Axes>"
            ]
          },
          "metadata": {
            "tags": [],
            "needs_background": "light"
          }
        },
        {
          "output_type": "display_data",
          "data": {
            "image/png": "[encoded data removed]",
            "text/plain": [
              "<Figure size 432x288 with 1 Axes>"
            ]
          },
          "metadata": {
            "tags": [],
            "needs_background": "light"
          }
        },
        {
          "output_type": "display_data",
          "data": {
            "image/png": "[encoded data removed]",
            "text/plain": [
              "<Figure size 432x288 with 1 Axes>"
            ]
          },
          "metadata": {
            "tags": [],
            "needs_background": "light"
          }
        },
        {
          "output_type": "display_data",
          "data": {
            "image/png": "[encoded data removed]",
            "text/plain": [
              "<Figure size 432x288 with 1 Axes>"
            ]
          },
          "metadata": {
            "tags": [],
            "needs_background": "light"
          }
        },
        {
          "output_type": "display_data",
          "data": {
            "image/png": "[encoded data removed]",
            "text/plain": [
              "<Figure size 432x288 with 1 Axes>"
            ]
          },
          "metadata": {
            "tags": [],
            "needs_background": "light"
          }
        },
        {
          "output_type": "display_data",
          "data": {
            "image/png": "[encoded data removed]",
            "text/plain": [
              "<Figure size 432x288 with 1 Axes>"
            ]
          },
          "metadata": {
            "tags": [],
            "needs_background": "light"
          }
        },
        {
          "output_type": "display_data",
          "data": {
            "image/png": "[encoded data removed]",
            "text/plain": [
              "<Figure size 432x288 with 1 Axes>"
            ]
          },
          "metadata": {
            "tags": [],
            "needs_background": "light"
          }
        },
        {
          "output_type": "display_data",
          "data": {
            "image/png": "[encoded data removed]",
            "text/plain": [
              "<Figure size 432x288 with 1 Axes>"
            ]
          },
          "metadata": {
            "tags": [],
            "needs_background": "light"
          }
        },
        {
          "output_type": "display_data",
          "data": {
            "image/png": "[encoded data removed]",
            "text/plain": [
              "<Figure size 432x288 with 1 Axes>"
            ]
          },
          "metadata": {
            "tags": [],
            "needs_background": "light"
          }
        },
        {
          "output_type": "display_data",
          "data": {
            "image/png": "[encoded data removed]",
            "text/plain": [
              "<Figure size 432x288 with 1 Axes>"
            ]
          },
          "metadata": {
            "tags": [],
            "needs_background": "light"
          }
        },
        {
          "output_type": "display_data",
          "data": {
            "image/png": "[encoded data removed]",
            "text/plain": [
              "<Figure size 432x288 with 1 Axes>"
            ]
          },
          "metadata": {
            "tags": [],
            "needs_background": "light"
          }
        },
        {
          "output_type": "display_data",
          "data": {
            "image/png": "[encoded data removed]",
            "text/plain": [
              "<Figure size 432x288 with 1 Axes>"
            ]
          },
          "metadata": {
            "tags": [],
            "needs_background": "light"
          }
        },
        {
          "output_type": "display_data",
          "data": {
            "image/png": "[encoded data removed]",
            "text/plain": [
              "<Figure size 432x288 with 1 Axes>"
            ]
          },
          "metadata": {
            "tags": [],
            "needs_background": "light"
          }
        },
        {
          "output_type": "display_data",
          "data": {
            "image/png": "[encoded data removed]",
            "text/plain": [
              "<Figure size 432x288 with 1 Axes>"
            ]
          },
          "metadata": {
            "tags": [],
            "needs_background": "light"
          }
        },
        {
          "output_type": "display_data",
          "data": {
            "image/png": "[encoded data removed]",
            "text/plain": [
              "<Figure size 432x288 with 1 Axes>"
            ]
          },
          "metadata": {
            "tags": [],
            "needs_background": "light"
          }
        },
        {
          "output_type": "display_data",
          "data": {
            "image/png": "[encoded data removed]",
            "text/plain": [
              "<Figure size 432x288 with 1 Axes>"
            ]
          },
          "metadata": {
            "tags": [],
            "needs_background": "light"
          }
        }
      ]
    },
    {
      "cell_type": "markdown",
      "metadata": {
        "id": "xUzVG_AeP5oO"
      },
      "source": [
        "## Cluster Analysis\n"
      ]
    },
    {
      "cell_type": "code",
      "metadata": {
        "id": "IEUEbgtmsVXw"
      },
      "source": [
        ""
      ],
      "execution_count": null,
      "outputs": []
    }
  ]
}