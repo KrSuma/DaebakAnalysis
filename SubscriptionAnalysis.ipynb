{
 "cells": [
  {
   "cell_type": "code",
   "execution_count": 102,
   "outputs": [],
   "source": [
    "import pandas as pd\n",
    "import numpy as np\n",
    "\n",
    "PATH = 'Purchased_items_1-13.csv'\n",
    "PATH2 = 'Customer_report_1-13.csv'\n",
    "RC_PI = pd.read_csv(PATH, delimiter=',')\n",
    "RC_CR = pd.read_csv(PATH2, delimiter=',')"
   ],
   "metadata": {
    "collapsed": false,
    "pycharm": {
     "name": "#%%\n"
    }
   }
  },
  {
   "cell_type": "code",
   "execution_count": 103,
   "outputs": [
    {
     "name": "stdout",
     "output_type": "stream",
     "text": [
      "<class 'pandas.core.frame.DataFrame'>\n",
      "RangeIndex: 9165 entries, 0 to 9164\n",
      "Data columns (total 44 columns):\n",
      " #   Column                           Non-Null Count  Dtype  \n",
      "---  ------                           --------------  -----  \n",
      " 0   customer_id                      9165 non-null   int64  \n",
      " 1   created_at                       9165 non-null   object \n",
      " 2   product_title                    9165 non-null   object \n",
      " 3   variant_title                    1081 non-null   object \n",
      " 4   product_variant_title            9165 non-null   object \n",
      " 5   recurring_price                  8067 non-null   float64\n",
      " 6   price                            9165 non-null   float64\n",
      " 7   quantity                         9165 non-null   int64  \n",
      " 8   shipping_interval_frequency      8068 non-null   float64\n",
      " 9   shipping_interval_unit_type      8068 non-null   object \n",
      " 10  purchase_item_id                 9165 non-null   int64  \n",
      " 11  purchase_id                      9165 non-null   int64  \n",
      " 12  variant_id                       9165 non-null   int64  \n",
      " 13  product_id                       9165 non-null   int64  \n",
      " 14  original_shipping_lines          9156 non-null   object \n",
      " 15  shipping_first_name              9151 non-null   object \n",
      " 16  shipping_last_name               9165 non-null   object \n",
      " 17  shipping_address_1               9165 non-null   object \n",
      " 18  shipping_address_2               2251 non-null   object \n",
      " 19  shipping_postalcode              9107 non-null   object \n",
      " 20  shipping_city                    9165 non-null   object \n",
      " 21  shipping_company                 315 non-null    object \n",
      " 22  shipping_province_state          7706 non-null   object \n",
      " 23  shipping_country                 9165 non-null   object \n",
      " 24  shipping_phone                   9107 non-null   object \n",
      " 25  billing_phone                    9154 non-null   object \n",
      " 26  first_name                       9161 non-null   object \n",
      " 27  last_name                        9165 non-null   object \n",
      " 28  email                            9165 non-null   object \n",
      " 29  charge_on_day_of_month           3313 non-null   float64\n",
      " 30  charge_on_day_of_week            0 non-null      float64\n",
      " 31  number_charges_until_expiration  206 non-null    float64\n",
      " 32  status                           9165 non-null   object \n",
      " 33  properties                       9149 non-null   object \n",
      " 34  ReCharge_variant_id              9165 non-null   int64  \n",
      " 35  charge_interval_frequency        8068 non-null   float64\n",
      " 36  charge_interval_unit_type        8068 non-null   object \n",
      " 37  cancelled_at                     4530 non-null   object \n",
      " 38  sku_override                     9126 non-null   object \n",
      " 39  deleted_at                       1083 non-null   object \n",
      " 40  recharge_discount_id_on_address  2636 non-null   float64\n",
      " 41  sku_override_check               9165 non-null   int64  \n",
      " 42  cutoff_day_of_week               0 non-null      float64\n",
      " 43  cutoff_day_of_month              0 non-null      float64\n",
      "dtypes: float64(10), int64(8), object(26)\n",
      "memory usage: 3.1+ MB\n"
     ]
    }
   ],
   "source": [
    "# reading items from recharge\n",
    "RC_PI.info()"
   ],
   "metadata": {
    "collapsed": false,
    "pycharm": {
     "name": "#%%\n"
    }
   }
  },
  {
   "cell_type": "code",
   "execution_count": 104,
   "outputs": [
    {
     "data": {
      "text/plain": "        customer_id  recurring_price        price     quantity  \\\ncount  9.165000e+03      8067.000000  9165.000000  9165.000000   \nmean   3.971576e+07        90.869267    81.181700     1.007310   \nstd    7.592306e+06        64.261516    65.975392     0.116563   \nmin    3.141258e+07         0.000000     0.000000     1.000000   \n25%    3.307821e+07        49.990000    49.990000     1.000000   \n50%    3.662454e+07        54.990000    54.990000     1.000000   \n75%    4.437642e+07       179.960000   117.000000     1.000000   \nmax    5.686593e+07       444.000000   444.000000     6.000000   \n\n       shipping_interval_frequency  purchase_item_id   purchase_id  \\\ncount                  8068.000000      9.165000e+03  9.165000e+03   \nmean                      2.826103      7.524134e+07  4.521731e+07   \nstd                       0.740128      2.488957e+07  8.088382e+06   \nmin                       1.000000      4.788662e+07  3.528443e+07   \n25%                       3.000000      5.254958e+07  3.789621e+07   \n50%                       3.000000      7.094163e+07  4.423175e+07   \n75%                       3.000000      9.456678e+07  5.142237e+07   \nmax                      12.000000      1.246078e+08  6.099015e+07   \n\n         variant_id    product_id  charge_on_day_of_month  \\\ncount  9.165000e+03  9.165000e+03                  3313.0   \nmean   3.008670e+13  4.101426e+12                     0.0   \nstd    9.806937e+11  2.312435e+11                     0.0   \nmin    2.944464e+13  3.962092e+12                     0.0   \n25%    2.944464e+13  3.962092e+12                     0.0   \n50%    2.952593e+13  3.962096e+12                     0.0   \n75%    3.143095e+13  4.411794e+12                     0.0   \nmax    3.219347e+13  4.616237e+12                     0.0   \n\n       charge_on_day_of_week  number_charges_until_expiration  \\\ncount                    0.0                       206.000000   \nmean                     NaN                         2.368932   \nstd                      NaN                         1.497903   \nmin                      NaN                         1.000000   \n25%                      NaN                         1.000000   \n50%                      NaN                         1.000000   \n75%                      NaN                         4.000000   \nmax                      NaN                         4.000000   \n\n       ReCharge_variant_id  charge_interval_frequency  \\\ncount         9.165000e+03                8068.000000   \nmean          2.647811e+07                   5.527888   \nstd           2.114241e+06                   4.245222   \nmin           2.509732e+07                   1.000000   \n25%           2.509732e+07                   3.000000   \n50%           2.524882e+07                   3.000000   \n75%           2.888326e+07                  12.000000   \nmax           3.192309e+07                  12.000000   \n\n       recharge_discount_id_on_address  sku_override_check  \\\ncount                     2.636000e+03              9165.0   \nmean                      2.094203e+07                 0.0   \nstd                       4.929937e+06                 0.0   \nmin                       1.805535e+07                 0.0   \n25%                       1.812043e+07                 0.0   \n50%                       1.886042e+07                 0.0   \n75%                       2.146045e+07                 0.0   \nmax                       4.594564e+07                 0.0   \n\n       cutoff_day_of_week  cutoff_day_of_month  \ncount                 0.0                  0.0  \nmean                  NaN                  NaN  \nstd                   NaN                  NaN  \nmin                   NaN                  NaN  \n25%                   NaN                  NaN  \n50%                   NaN                  NaN  \n75%                   NaN                  NaN  \nmax                   NaN                  NaN  ",
      "text/html": "<div>\n<style scoped>\n    .dataframe tbody tr th:only-of-type {\n        vertical-align: middle;\n    }\n\n    .dataframe tbody tr th {\n        vertical-align: top;\n    }\n\n    .dataframe thead th {\n        text-align: right;\n    }\n</style>\n<table border=\"1\" class=\"dataframe\">\n  <thead>\n    <tr style=\"text-align: right;\">\n      <th></th>\n      <th>customer_id</th>\n      <th>recurring_price</th>\n      <th>price</th>\n      <th>quantity</th>\n      <th>shipping_interval_frequency</th>\n      <th>purchase_item_id</th>\n      <th>purchase_id</th>\n      <th>variant_id</th>\n      <th>product_id</th>\n      <th>charge_on_day_of_month</th>\n      <th>charge_on_day_of_week</th>\n      <th>number_charges_until_expiration</th>\n      <th>ReCharge_variant_id</th>\n      <th>charge_interval_frequency</th>\n      <th>recharge_discount_id_on_address</th>\n      <th>sku_override_check</th>\n      <th>cutoff_day_of_week</th>\n      <th>cutoff_day_of_month</th>\n    </tr>\n  </thead>\n  <tbody>\n    <tr>\n      <th>count</th>\n      <td>9.165000e+03</td>\n      <td>8067.000000</td>\n      <td>9165.000000</td>\n      <td>9165.000000</td>\n      <td>8068.000000</td>\n      <td>9.165000e+03</td>\n      <td>9.165000e+03</td>\n      <td>9.165000e+03</td>\n      <td>9.165000e+03</td>\n      <td>3313.0</td>\n      <td>0.0</td>\n      <td>206.000000</td>\n      <td>9.165000e+03</td>\n      <td>8068.000000</td>\n      <td>2.636000e+03</td>\n      <td>9165.0</td>\n      <td>0.0</td>\n      <td>0.0</td>\n    </tr>\n    <tr>\n      <th>mean</th>\n      <td>3.971576e+07</td>\n      <td>90.869267</td>\n      <td>81.181700</td>\n      <td>1.007310</td>\n      <td>2.826103</td>\n      <td>7.524134e+07</td>\n      <td>4.521731e+07</td>\n      <td>3.008670e+13</td>\n      <td>4.101426e+12</td>\n      <td>0.0</td>\n      <td>NaN</td>\n      <td>2.368932</td>\n      <td>2.647811e+07</td>\n      <td>5.527888</td>\n      <td>2.094203e+07</td>\n      <td>0.0</td>\n      <td>NaN</td>\n      <td>NaN</td>\n    </tr>\n    <tr>\n      <th>std</th>\n      <td>7.592306e+06</td>\n      <td>64.261516</td>\n      <td>65.975392</td>\n      <td>0.116563</td>\n      <td>0.740128</td>\n      <td>2.488957e+07</td>\n      <td>8.088382e+06</td>\n      <td>9.806937e+11</td>\n      <td>2.312435e+11</td>\n      <td>0.0</td>\n      <td>NaN</td>\n      <td>1.497903</td>\n      <td>2.114241e+06</td>\n      <td>4.245222</td>\n      <td>4.929937e+06</td>\n      <td>0.0</td>\n      <td>NaN</td>\n      <td>NaN</td>\n    </tr>\n    <tr>\n      <th>min</th>\n      <td>3.141258e+07</td>\n      <td>0.000000</td>\n      <td>0.000000</td>\n      <td>1.000000</td>\n      <td>1.000000</td>\n      <td>4.788662e+07</td>\n      <td>3.528443e+07</td>\n      <td>2.944464e+13</td>\n      <td>3.962092e+12</td>\n      <td>0.0</td>\n      <td>NaN</td>\n      <td>1.000000</td>\n      <td>2.509732e+07</td>\n      <td>1.000000</td>\n      <td>1.805535e+07</td>\n      <td>0.0</td>\n      <td>NaN</td>\n      <td>NaN</td>\n    </tr>\n    <tr>\n      <th>25%</th>\n      <td>3.307821e+07</td>\n      <td>49.990000</td>\n      <td>49.990000</td>\n      <td>1.000000</td>\n      <td>3.000000</td>\n      <td>5.254958e+07</td>\n      <td>3.789621e+07</td>\n      <td>2.944464e+13</td>\n      <td>3.962092e+12</td>\n      <td>0.0</td>\n      <td>NaN</td>\n      <td>1.000000</td>\n      <td>2.509732e+07</td>\n      <td>3.000000</td>\n      <td>1.812043e+07</td>\n      <td>0.0</td>\n      <td>NaN</td>\n      <td>NaN</td>\n    </tr>\n    <tr>\n      <th>50%</th>\n      <td>3.662454e+07</td>\n      <td>54.990000</td>\n      <td>54.990000</td>\n      <td>1.000000</td>\n      <td>3.000000</td>\n      <td>7.094163e+07</td>\n      <td>4.423175e+07</td>\n      <td>2.952593e+13</td>\n      <td>3.962096e+12</td>\n      <td>0.0</td>\n      <td>NaN</td>\n      <td>1.000000</td>\n      <td>2.524882e+07</td>\n      <td>3.000000</td>\n      <td>1.886042e+07</td>\n      <td>0.0</td>\n      <td>NaN</td>\n      <td>NaN</td>\n    </tr>\n    <tr>\n      <th>75%</th>\n      <td>4.437642e+07</td>\n      <td>179.960000</td>\n      <td>117.000000</td>\n      <td>1.000000</td>\n      <td>3.000000</td>\n      <td>9.456678e+07</td>\n      <td>5.142237e+07</td>\n      <td>3.143095e+13</td>\n      <td>4.411794e+12</td>\n      <td>0.0</td>\n      <td>NaN</td>\n      <td>4.000000</td>\n      <td>2.888326e+07</td>\n      <td>12.000000</td>\n      <td>2.146045e+07</td>\n      <td>0.0</td>\n      <td>NaN</td>\n      <td>NaN</td>\n    </tr>\n    <tr>\n      <th>max</th>\n      <td>5.686593e+07</td>\n      <td>444.000000</td>\n      <td>444.000000</td>\n      <td>6.000000</td>\n      <td>12.000000</td>\n      <td>1.246078e+08</td>\n      <td>6.099015e+07</td>\n      <td>3.219347e+13</td>\n      <td>4.616237e+12</td>\n      <td>0.0</td>\n      <td>NaN</td>\n      <td>4.000000</td>\n      <td>3.192309e+07</td>\n      <td>12.000000</td>\n      <td>4.594564e+07</td>\n      <td>0.0</td>\n      <td>NaN</td>\n      <td>NaN</td>\n    </tr>\n  </tbody>\n</table>\n</div>"
     },
     "execution_count": 104,
     "metadata": {},
     "output_type": "execute_result"
    }
   ],
   "source": [
    "RC_PI.describe()"
   ],
   "metadata": {
    "collapsed": false,
    "pycharm": {
     "name": "#%%\n"
    }
   }
  },
  {
   "cell_type": "code",
   "execution_count": 105,
   "outputs": [
    {
     "data": {
      "text/plain": "       customer recharge id  Shopify customer id  Past Orders Count  \\\ncount          7.083000e+03         7.083000e+03        7083.000000   \nmean           3.924900e+07         2.881495e+12           2.286319   \nstd            7.160847e+06         4.819855e+11           1.628231   \nmin            3.141258e+07         2.146196e+12           0.000000   \n25%            3.311869e+07         2.441596e+12           1.000000   \n50%            3.629822e+07         2.860666e+12           2.000000   \n75%            4.381077e+07         3.245863e+12           3.000000   \nmax            5.686593e+07         3.810865e+12          16.000000   \n\n       Number Active Subscriptions  Number Subscriptions  \ncount                  7083.000000           7083.000000  \nmean                      0.485246              1.139489  \nstd                       0.580100              0.450953  \nmin                       0.000000              1.000000  \n25%                       0.000000              1.000000  \n50%                       0.000000              1.000000  \n75%                       1.000000              1.000000  \nmax                       4.000000             10.000000  ",
      "text/html": "<div>\n<style scoped>\n    .dataframe tbody tr th:only-of-type {\n        vertical-align: middle;\n    }\n\n    .dataframe tbody tr th {\n        vertical-align: top;\n    }\n\n    .dataframe thead th {\n        text-align: right;\n    }\n</style>\n<table border=\"1\" class=\"dataframe\">\n  <thead>\n    <tr style=\"text-align: right;\">\n      <th></th>\n      <th>customer recharge id</th>\n      <th>Shopify customer id</th>\n      <th>Past Orders Count</th>\n      <th>Number Active Subscriptions</th>\n      <th>Number Subscriptions</th>\n    </tr>\n  </thead>\n  <tbody>\n    <tr>\n      <th>count</th>\n      <td>7.083000e+03</td>\n      <td>7.083000e+03</td>\n      <td>7083.000000</td>\n      <td>7083.000000</td>\n      <td>7083.000000</td>\n    </tr>\n    <tr>\n      <th>mean</th>\n      <td>3.924900e+07</td>\n      <td>2.881495e+12</td>\n      <td>2.286319</td>\n      <td>0.485246</td>\n      <td>1.139489</td>\n    </tr>\n    <tr>\n      <th>std</th>\n      <td>7.160847e+06</td>\n      <td>4.819855e+11</td>\n      <td>1.628231</td>\n      <td>0.580100</td>\n      <td>0.450953</td>\n    </tr>\n    <tr>\n      <th>min</th>\n      <td>3.141258e+07</td>\n      <td>2.146196e+12</td>\n      <td>0.000000</td>\n      <td>0.000000</td>\n      <td>1.000000</td>\n    </tr>\n    <tr>\n      <th>25%</th>\n      <td>3.311869e+07</td>\n      <td>2.441596e+12</td>\n      <td>1.000000</td>\n      <td>0.000000</td>\n      <td>1.000000</td>\n    </tr>\n    <tr>\n      <th>50%</th>\n      <td>3.629822e+07</td>\n      <td>2.860666e+12</td>\n      <td>2.000000</td>\n      <td>0.000000</td>\n      <td>1.000000</td>\n    </tr>\n    <tr>\n      <th>75%</th>\n      <td>4.381077e+07</td>\n      <td>3.245863e+12</td>\n      <td>3.000000</td>\n      <td>1.000000</td>\n      <td>1.000000</td>\n    </tr>\n    <tr>\n      <th>max</th>\n      <td>5.686593e+07</td>\n      <td>3.810865e+12</td>\n      <td>16.000000</td>\n      <td>4.000000</td>\n      <td>10.000000</td>\n    </tr>\n  </tbody>\n</table>\n</div>"
     },
     "execution_count": 105,
     "metadata": {},
     "output_type": "execute_result"
    }
   ],
   "source": [
    "#reading customers from shopify\n",
    "RC_CR.describe()"
   ],
   "metadata": {
    "collapsed": false,
    "pycharm": {
     "name": "#%%\n"
    }
   }
  },
  {
   "cell_type": "code",
   "execution_count": 106,
   "outputs": [],
   "source": [
    "'''\n",
    "1. take all the emails from purchased items dataset in recharge\n",
    "2. take all the active subscribers, and then\n",
    "3. compare and merge with all_customers and see if they bought anything other than the subs\n",
    "4. find details about this\n",
    "\n",
    "'percentage of customers with a subscription who also purchase from the shop'\n",
    "'''\n",
    "RC_CR_active = RC_CR[RC_CR['status']=='Active']\n",
    "RC_CR_inactive = RC_CR[RC_CR['status']=='Inactive']\n"
   ],
   "metadata": {
    "collapsed": false,
    "pycharm": {
     "name": "#%%\n"
    }
   }
  },
  {
   "cell_type": "code",
   "execution_count": 107,
   "outputs": [
    {
     "data": {
      "text/plain": "   customer recharge id customer first name customer last name  \\\n0              56865929              Sarahi          Villafana   \n1              56860712               Grace              Chang   \n2              56854593           Marymegan               Daly   \n3              56824124                 Kia              Owens   \n4              56821078                Sara              Ellis   \n\n               customer email           created at  status  \\\n0  sarahi.villafana@gmail.com  2021-01-12T18:47:28  Active   \n1       changeunhye@gmail.com  2021-01-12T17:01:42  Active   \n2     marymegandaly@gmail.com  2021-01-12T15:15:27  Active   \n3       kiaonfire@hotmail.com  2021-01-12T02:56:47  Active   \n4       suzieellis3@gmail.com  2021-01-12T00:35:58  Active   \n\n                        shipping address 1 shipping address 2 shipping city  \\\n0                            1617 W 1800 N                NaN       Clinton   \n1                    561 W Yellowstone Way                NaN      Chandler   \n2                     354 west hubbard ave                NaN      columbus   \n3  21 Sullivan Road, TALLEBUDGERA QLD 4228                NaN  Tallebudgera   \n4                      303 Country Club Rd                NaN      LaGrange   \n\n  shipping postal code  ... billing province billing country  \\\n0                84015  ...             Utah   United States   \n1                85248  ...          Arizona   United States   \n2                43215  ...             Ohio   United States   \n3                 4228  ...       Queensland       Australia   \n4                30240  ...          Georgia   United States   \n\n  Shopify customer id Past Orders Count Has Valid Payment Method  \\\n0       3265819508849                 2                     True   \n1       3810864693361                 1                     True   \n2       3810712289393                 1                     True   \n3       3809931100273                 1                     True   \n4       3809825587313                 1                     True   \n\n  Reason Payment Method Not Valid Has Card Error In Dunning  \\\n0                             NaN                     False   \n1                             NaN                     False   \n2                             NaN                     False   \n3                             NaN                     False   \n4                             NaN                     False   \n\n  Number Active Subscriptions Number Subscriptions First Charge Processed At  \n0                           2                    2       2021-01-12 18:47:34  \n1                           1                    1       2021-01-12 17:01:47  \n2                           1                    1       2021-01-12 15:15:33  \n3                           1                    1       2021-01-12 02:56:54  \n4                           1                    1       2021-01-12 00:36:04  \n\n[5 rows x 28 columns]",
      "text/html": "<div>\n<style scoped>\n    .dataframe tbody tr th:only-of-type {\n        vertical-align: middle;\n    }\n\n    .dataframe tbody tr th {\n        vertical-align: top;\n    }\n\n    .dataframe thead th {\n        text-align: right;\n    }\n</style>\n<table border=\"1\" class=\"dataframe\">\n  <thead>\n    <tr style=\"text-align: right;\">\n      <th></th>\n      <th>customer recharge id</th>\n      <th>customer first name</th>\n      <th>customer last name</th>\n      <th>customer email</th>\n      <th>created at</th>\n      <th>status</th>\n      <th>shipping address 1</th>\n      <th>shipping address 2</th>\n      <th>shipping city</th>\n      <th>shipping postal code</th>\n      <th>...</th>\n      <th>billing province</th>\n      <th>billing country</th>\n      <th>Shopify customer id</th>\n      <th>Past Orders Count</th>\n      <th>Has Valid Payment Method</th>\n      <th>Reason Payment Method Not Valid</th>\n      <th>Has Card Error In Dunning</th>\n      <th>Number Active Subscriptions</th>\n      <th>Number Subscriptions</th>\n      <th>First Charge Processed At</th>\n    </tr>\n  </thead>\n  <tbody>\n    <tr>\n      <th>0</th>\n      <td>56865929</td>\n      <td>Sarahi</td>\n      <td>Villafana</td>\n      <td>sarahi.villafana@gmail.com</td>\n      <td>2021-01-12T18:47:28</td>\n      <td>Active</td>\n      <td>1617 W 1800 N</td>\n      <td>NaN</td>\n      <td>Clinton</td>\n      <td>84015</td>\n      <td>...</td>\n      <td>Utah</td>\n      <td>United States</td>\n      <td>3265819508849</td>\n      <td>2</td>\n      <td>True</td>\n      <td>NaN</td>\n      <td>False</td>\n      <td>2</td>\n      <td>2</td>\n      <td>2021-01-12 18:47:34</td>\n    </tr>\n    <tr>\n      <th>1</th>\n      <td>56860712</td>\n      <td>Grace</td>\n      <td>Chang</td>\n      <td>changeunhye@gmail.com</td>\n      <td>2021-01-12T17:01:42</td>\n      <td>Active</td>\n      <td>561 W Yellowstone Way</td>\n      <td>NaN</td>\n      <td>Chandler</td>\n      <td>85248</td>\n      <td>...</td>\n      <td>Arizona</td>\n      <td>United States</td>\n      <td>3810864693361</td>\n      <td>1</td>\n      <td>True</td>\n      <td>NaN</td>\n      <td>False</td>\n      <td>1</td>\n      <td>1</td>\n      <td>2021-01-12 17:01:47</td>\n    </tr>\n    <tr>\n      <th>2</th>\n      <td>56854593</td>\n      <td>Marymegan</td>\n      <td>Daly</td>\n      <td>marymegandaly@gmail.com</td>\n      <td>2021-01-12T15:15:27</td>\n      <td>Active</td>\n      <td>354 west hubbard ave</td>\n      <td>NaN</td>\n      <td>columbus</td>\n      <td>43215</td>\n      <td>...</td>\n      <td>Ohio</td>\n      <td>United States</td>\n      <td>3810712289393</td>\n      <td>1</td>\n      <td>True</td>\n      <td>NaN</td>\n      <td>False</td>\n      <td>1</td>\n      <td>1</td>\n      <td>2021-01-12 15:15:33</td>\n    </tr>\n    <tr>\n      <th>3</th>\n      <td>56824124</td>\n      <td>Kia</td>\n      <td>Owens</td>\n      <td>kiaonfire@hotmail.com</td>\n      <td>2021-01-12T02:56:47</td>\n      <td>Active</td>\n      <td>21 Sullivan Road, TALLEBUDGERA QLD 4228</td>\n      <td>NaN</td>\n      <td>Tallebudgera</td>\n      <td>4228</td>\n      <td>...</td>\n      <td>Queensland</td>\n      <td>Australia</td>\n      <td>3809931100273</td>\n      <td>1</td>\n      <td>True</td>\n      <td>NaN</td>\n      <td>False</td>\n      <td>1</td>\n      <td>1</td>\n      <td>2021-01-12 02:56:54</td>\n    </tr>\n    <tr>\n      <th>4</th>\n      <td>56821078</td>\n      <td>Sara</td>\n      <td>Ellis</td>\n      <td>suzieellis3@gmail.com</td>\n      <td>2021-01-12T00:35:58</td>\n      <td>Active</td>\n      <td>303 Country Club Rd</td>\n      <td>NaN</td>\n      <td>LaGrange</td>\n      <td>30240</td>\n      <td>...</td>\n      <td>Georgia</td>\n      <td>United States</td>\n      <td>3809825587313</td>\n      <td>1</td>\n      <td>True</td>\n      <td>NaN</td>\n      <td>False</td>\n      <td>1</td>\n      <td>1</td>\n      <td>2021-01-12 00:36:04</td>\n    </tr>\n  </tbody>\n</table>\n<p>5 rows × 28 columns</p>\n</div>"
     },
     "execution_count": 107,
     "metadata": {},
     "output_type": "execute_result"
    }
   ],
   "source": [
    "RC_CR_active.head()"
   ],
   "metadata": {
    "collapsed": false,
    "pycharm": {
     "name": "#%%\n"
    }
   }
  },
  {
   "cell_type": "code",
   "execution_count": 108,
   "outputs": [
    {
     "data": {
      "text/plain": "    customer recharge id customer first name customer last name  \\\n10              56768259           Alexandra           Montminy   \n11              56768051            Claretny             Barnes   \n15              56728047              Deonna              Kelly   \n16              56726636              Deonna              Kelly   \n26              56635026              Hannah          Macaranas   \n\n                  customer email           created at    status  \\\n10  alexandra.montminy@gmail.com  2021-01-11T05:34:01  Inactive   \n11         cjbrivald@hotmail.com  2021-01-11T05:22:12  Inactive   \n15       xoxoblasian97@gmail.com  2021-01-10T14:19:20  Inactive   \n16       mermaiddeonna@gmail.com  2021-01-10T13:55:07  Inactive   \n26        mac_hannah14@yahoo.com  2021-01-08T22:39:35  Inactive   \n\n       shipping address 1 shipping address 2 shipping city  \\\n10      258 Rue Elizabeth                NaN       Lachute   \n11              1057 W Rd                NaN    Chesapeake   \n15  29327 Brockton Circle                NaN       Menifee   \n16  29327 Brockton Circle                NaN       Menifee   \n26   2124 N Screenland Dr                NaN       Burbank   \n\n   shipping postal code  ... billing province billing country  \\\n10              J8H 2H7  ...           Quebec          Canada   \n11                23323  ...         Virginia   United States   \n15                92584  ...       California   United States   \n16                92584  ...       California   United States   \n26                91505  ...       California   United States   \n\n   Shopify customer id Past Orders Count Has Valid Payment Method  \\\n10       3762986123377                 0                    False   \n11       3759807758449                 0                    False   \n15       3807362875505                 1                     True   \n16       3807325388913                 1                     True   \n26       3804577300593                 1                     True   \n\n   Reason Payment Method Not Valid Has Card Error In Dunning  \\\n10               NO_PAYMENT_METHOD                     False   \n11               NO_PAYMENT_METHOD                     False   \n15                             NaN                     False   \n16                             NaN                     False   \n26                             NaN                     False   \n\n   Number Active Subscriptions Number Subscriptions First Charge Processed At  \n10                           1                    1                       NaN  \n11                           1                    1                       NaN  \n15                           0                    1       2021-01-10 14:19:27  \n16                           0                    1       2021-01-10 13:55:13  \n26                           0                    1       2021-01-08 22:39:41  \n\n[5 rows x 28 columns]",
      "text/html": "<div>\n<style scoped>\n    .dataframe tbody tr th:only-of-type {\n        vertical-align: middle;\n    }\n\n    .dataframe tbody tr th {\n        vertical-align: top;\n    }\n\n    .dataframe thead th {\n        text-align: right;\n    }\n</style>\n<table border=\"1\" class=\"dataframe\">\n  <thead>\n    <tr style=\"text-align: right;\">\n      <th></th>\n      <th>customer recharge id</th>\n      <th>customer first name</th>\n      <th>customer last name</th>\n      <th>customer email</th>\n      <th>created at</th>\n      <th>status</th>\n      <th>shipping address 1</th>\n      <th>shipping address 2</th>\n      <th>shipping city</th>\n      <th>shipping postal code</th>\n      <th>...</th>\n      <th>billing province</th>\n      <th>billing country</th>\n      <th>Shopify customer id</th>\n      <th>Past Orders Count</th>\n      <th>Has Valid Payment Method</th>\n      <th>Reason Payment Method Not Valid</th>\n      <th>Has Card Error In Dunning</th>\n      <th>Number Active Subscriptions</th>\n      <th>Number Subscriptions</th>\n      <th>First Charge Processed At</th>\n    </tr>\n  </thead>\n  <tbody>\n    <tr>\n      <th>10</th>\n      <td>56768259</td>\n      <td>Alexandra</td>\n      <td>Montminy</td>\n      <td>alexandra.montminy@gmail.com</td>\n      <td>2021-01-11T05:34:01</td>\n      <td>Inactive</td>\n      <td>258 Rue Elizabeth</td>\n      <td>NaN</td>\n      <td>Lachute</td>\n      <td>J8H 2H7</td>\n      <td>...</td>\n      <td>Quebec</td>\n      <td>Canada</td>\n      <td>3762986123377</td>\n      <td>0</td>\n      <td>False</td>\n      <td>NO_PAYMENT_METHOD</td>\n      <td>False</td>\n      <td>1</td>\n      <td>1</td>\n      <td>NaN</td>\n    </tr>\n    <tr>\n      <th>11</th>\n      <td>56768051</td>\n      <td>Claretny</td>\n      <td>Barnes</td>\n      <td>cjbrivald@hotmail.com</td>\n      <td>2021-01-11T05:22:12</td>\n      <td>Inactive</td>\n      <td>1057 W Rd</td>\n      <td>NaN</td>\n      <td>Chesapeake</td>\n      <td>23323</td>\n      <td>...</td>\n      <td>Virginia</td>\n      <td>United States</td>\n      <td>3759807758449</td>\n      <td>0</td>\n      <td>False</td>\n      <td>NO_PAYMENT_METHOD</td>\n      <td>False</td>\n      <td>1</td>\n      <td>1</td>\n      <td>NaN</td>\n    </tr>\n    <tr>\n      <th>15</th>\n      <td>56728047</td>\n      <td>Deonna</td>\n      <td>Kelly</td>\n      <td>xoxoblasian97@gmail.com</td>\n      <td>2021-01-10T14:19:20</td>\n      <td>Inactive</td>\n      <td>29327 Brockton Circle</td>\n      <td>NaN</td>\n      <td>Menifee</td>\n      <td>92584</td>\n      <td>...</td>\n      <td>California</td>\n      <td>United States</td>\n      <td>3807362875505</td>\n      <td>1</td>\n      <td>True</td>\n      <td>NaN</td>\n      <td>False</td>\n      <td>0</td>\n      <td>1</td>\n      <td>2021-01-10 14:19:27</td>\n    </tr>\n    <tr>\n      <th>16</th>\n      <td>56726636</td>\n      <td>Deonna</td>\n      <td>Kelly</td>\n      <td>mermaiddeonna@gmail.com</td>\n      <td>2021-01-10T13:55:07</td>\n      <td>Inactive</td>\n      <td>29327 Brockton Circle</td>\n      <td>NaN</td>\n      <td>Menifee</td>\n      <td>92584</td>\n      <td>...</td>\n      <td>California</td>\n      <td>United States</td>\n      <td>3807325388913</td>\n      <td>1</td>\n      <td>True</td>\n      <td>NaN</td>\n      <td>False</td>\n      <td>0</td>\n      <td>1</td>\n      <td>2021-01-10 13:55:13</td>\n    </tr>\n    <tr>\n      <th>26</th>\n      <td>56635026</td>\n      <td>Hannah</td>\n      <td>Macaranas</td>\n      <td>mac_hannah14@yahoo.com</td>\n      <td>2021-01-08T22:39:35</td>\n      <td>Inactive</td>\n      <td>2124 N Screenland Dr</td>\n      <td>NaN</td>\n      <td>Burbank</td>\n      <td>91505</td>\n      <td>...</td>\n      <td>California</td>\n      <td>United States</td>\n      <td>3804577300593</td>\n      <td>1</td>\n      <td>True</td>\n      <td>NaN</td>\n      <td>False</td>\n      <td>0</td>\n      <td>1</td>\n      <td>2021-01-08 22:39:41</td>\n    </tr>\n  </tbody>\n</table>\n<p>5 rows × 28 columns</p>\n</div>"
     },
     "execution_count": 108,
     "metadata": {},
     "output_type": "execute_result"
    }
   ],
   "source": [
    "RC_CR_inactive.head()\n"
   ],
   "metadata": {
    "collapsed": false,
    "pycharm": {
     "name": "#%%\n"
    }
   }
  },
  {
   "cell_type": "code",
   "execution_count": 109,
   "outputs": [
    {
     "name": "stdout",
     "output_type": "stream",
     "text": [
      "<class 'pandas.core.frame.DataFrame'>\n",
      "Int64Index: 3075 entries, 0 to 7075\n",
      "Data columns (total 28 columns):\n",
      " #   Column                           Non-Null Count  Dtype \n",
      "---  ------                           --------------  ----- \n",
      " 0   customer recharge id             3075 non-null   int64 \n",
      " 1   customer first name              3073 non-null   object\n",
      " 2   customer last name               3075 non-null   object\n",
      " 3   customer email                   3075 non-null   object\n",
      " 4   created at                       3075 non-null   object\n",
      " 5   status                           3075 non-null   object\n",
      " 6   shipping address 1               3075 non-null   object\n",
      " 7   shipping address 2               680 non-null    object\n",
      " 8   shipping city                    3075 non-null   object\n",
      " 9   shipping postal code             3062 non-null   object\n",
      " 10  shipping province                2739 non-null   object\n",
      " 11  shipping country                 3075 non-null   object\n",
      " 12  shipping_phone                   3064 non-null   object\n",
      " 13  portal_url                       3075 non-null   object\n",
      " 14  billing address 1                3075 non-null   object\n",
      " 15  billing address 2                666 non-null    object\n",
      " 16  billing city                     3075 non-null   object\n",
      " 17  billing postal code              3061 non-null   object\n",
      " 18  billing province                 2740 non-null   object\n",
      " 19  billing country                  3075 non-null   object\n",
      " 20  Shopify customer id              3075 non-null   int64 \n",
      " 21  Past Orders Count                3075 non-null   int64 \n",
      " 22  Has Valid Payment Method         3075 non-null   bool  \n",
      " 23  Reason Payment Method Not Valid  0 non-null      object\n",
      " 24  Has Card Error In Dunning        3075 non-null   bool  \n",
      " 25  Number Active Subscriptions      3075 non-null   int64 \n",
      " 26  Number Subscriptions             3075 non-null   int64 \n",
      " 27  First Charge Processed At        3075 non-null   object\n",
      "dtypes: bool(2), int64(5), object(21)\n",
      "memory usage: 654.6+ KB\n"
     ]
    }
   ],
   "source": [
    "RC_CR_active.info()"
   ],
   "metadata": {
    "collapsed": false,
    "pycharm": {
     "name": "#%%\n"
    }
   }
  },
  {
   "cell_type": "code",
   "execution_count": 110,
   "outputs": [
    {
     "name": "stdout",
     "output_type": "stream",
     "text": [
      "<class 'pandas.core.frame.DataFrame'>\n",
      "Int64Index: 3416 entries, 10 to 7082\n",
      "Data columns (total 28 columns):\n",
      " #   Column                           Non-Null Count  Dtype \n",
      "---  ------                           --------------  ----- \n",
      " 0   customer recharge id             3416 non-null   int64 \n",
      " 1   customer first name              3415 non-null   object\n",
      " 2   customer last name               3416 non-null   object\n",
      " 3   customer email                   3416 non-null   object\n",
      " 4   created at                       3416 non-null   object\n",
      " 5   status                           3416 non-null   object\n",
      " 6   shipping address 1               3416 non-null   object\n",
      " 7   shipping address 2               914 non-null    object\n",
      " 8   shipping city                    3416 non-null   object\n",
      " 9   shipping postal code             3392 non-null   object\n",
      " 10  shipping province                2707 non-null   object\n",
      " 11  shipping country                 3416 non-null   object\n",
      " 12  shipping_phone                   3395 non-null   object\n",
      " 13  portal_url                       3416 non-null   object\n",
      " 14  billing address 1                3412 non-null   object\n",
      " 15  billing address 2                887 non-null    object\n",
      " 16  billing city                     3412 non-null   object\n",
      " 17  billing postal code              3386 non-null   object\n",
      " 18  billing province                 2705 non-null   object\n",
      " 19  billing country                  3415 non-null   object\n",
      " 20  Shopify customer id              3416 non-null   int64 \n",
      " 21  Past Orders Count                3416 non-null   int64 \n",
      " 22  Has Valid Payment Method         3416 non-null   bool  \n",
      " 23  Reason Payment Method Not Valid  48 non-null     object\n",
      " 24  Has Card Error In Dunning        3416 non-null   bool  \n",
      " 25  Number Active Subscriptions      3416 non-null   int64 \n",
      " 26  Number Subscriptions             3416 non-null   int64 \n",
      " 27  First Charge Processed At        3413 non-null   object\n",
      "dtypes: bool(2), int64(5), object(21)\n",
      "memory usage: 727.2+ KB\n"
     ]
    }
   ],
   "source": [
    "RC_CR_inactive.info()"
   ],
   "metadata": {
    "collapsed": false,
    "pycharm": {
     "name": "#%%\n"
    }
   }
  },
  {
   "cell_type": "code",
   "execution_count": 111,
   "outputs": [
    {
     "data": {
      "text/plain": "  First Name Last Name                     Email Company  \\\n0      Micah  Jumaquio      micahjumaq@gmail.com     NaN   \n1      Alain      Tran       sillywiener@aol.com     NaN   \n2     Nickie   Venegas    dhv2350@email.vccs.edu     NaN   \n3   Victoria    Morris   tori-morris@hotmail.com     NaN   \n4   Manjusha    Punugu  manjushapunugu@gmail.com     NaN   \n\n                   Address1        Address2            City  Province  \\\n0     177 Blackthorn Avenue             NaN         Toronto   Ontario   \n1  Christian-Schad-Straße 2  bei Tran/Alten   Aschaffenburg       NaN   \n2           4000 Foxwood dr             NaN  Virginia beach  Virginia   \n3           1955 SW 5th Ave        Apt 1030        Portland    Oregon   \n4   9073 MITCHELL DEWITT RD             NaN      PLAIN CITY      Ohio   \n\n  Province Code        Country Country Code      Zip              Phone  \\\n0            ON         Canada           CA  M6N 3H7   '+1 647 866 1159   \n1           NaN        Germany           DE    63743  '+49 1590 6465323   \n2            VA  United States           US    23462     (757) 478-8922   \n3            OR  United States           US    97201     (541) 294-8943   \n4            OH  United States           US    43064     (614) 800-7089   \n\n  Accepts Marketing  Total Spent  Total Orders Tags Note Tax Exempt  \n0               yes        99.95             1  NaN  NaN         no  \n1               yes        99.63             1  NaN  NaN         no  \n2                no         0.00             0  NaN  NaN         no  \n3               yes         0.00             0  NaN  NaN         no  \n4               yes       118.12             1  NaN  NaN         no  ",
      "text/html": "<div>\n<style scoped>\n    .dataframe tbody tr th:only-of-type {\n        vertical-align: middle;\n    }\n\n    .dataframe tbody tr th {\n        vertical-align: top;\n    }\n\n    .dataframe thead th {\n        text-align: right;\n    }\n</style>\n<table border=\"1\" class=\"dataframe\">\n  <thead>\n    <tr style=\"text-align: right;\">\n      <th></th>\n      <th>First Name</th>\n      <th>Last Name</th>\n      <th>Email</th>\n      <th>Company</th>\n      <th>Address1</th>\n      <th>Address2</th>\n      <th>City</th>\n      <th>Province</th>\n      <th>Province Code</th>\n      <th>Country</th>\n      <th>Country Code</th>\n      <th>Zip</th>\n      <th>Phone</th>\n      <th>Accepts Marketing</th>\n      <th>Total Spent</th>\n      <th>Total Orders</th>\n      <th>Tags</th>\n      <th>Note</th>\n      <th>Tax Exempt</th>\n    </tr>\n  </thead>\n  <tbody>\n    <tr>\n      <th>0</th>\n      <td>Micah</td>\n      <td>Jumaquio</td>\n      <td>micahjumaq@gmail.com</td>\n      <td>NaN</td>\n      <td>177 Blackthorn Avenue</td>\n      <td>NaN</td>\n      <td>Toronto</td>\n      <td>Ontario</td>\n      <td>ON</td>\n      <td>Canada</td>\n      <td>CA</td>\n      <td>M6N 3H7</td>\n      <td>'+1 647 866 1159</td>\n      <td>yes</td>\n      <td>99.95</td>\n      <td>1</td>\n      <td>NaN</td>\n      <td>NaN</td>\n      <td>no</td>\n    </tr>\n    <tr>\n      <th>1</th>\n      <td>Alain</td>\n      <td>Tran</td>\n      <td>sillywiener@aol.com</td>\n      <td>NaN</td>\n      <td>Christian-Schad-Straße 2</td>\n      <td>bei Tran/Alten</td>\n      <td>Aschaffenburg</td>\n      <td>NaN</td>\n      <td>NaN</td>\n      <td>Germany</td>\n      <td>DE</td>\n      <td>63743</td>\n      <td>'+49 1590 6465323</td>\n      <td>yes</td>\n      <td>99.63</td>\n      <td>1</td>\n      <td>NaN</td>\n      <td>NaN</td>\n      <td>no</td>\n    </tr>\n    <tr>\n      <th>2</th>\n      <td>Nickie</td>\n      <td>Venegas</td>\n      <td>dhv2350@email.vccs.edu</td>\n      <td>NaN</td>\n      <td>4000 Foxwood dr</td>\n      <td>NaN</td>\n      <td>Virginia beach</td>\n      <td>Virginia</td>\n      <td>VA</td>\n      <td>United States</td>\n      <td>US</td>\n      <td>23462</td>\n      <td>(757) 478-8922</td>\n      <td>no</td>\n      <td>0.00</td>\n      <td>0</td>\n      <td>NaN</td>\n      <td>NaN</td>\n      <td>no</td>\n    </tr>\n    <tr>\n      <th>3</th>\n      <td>Victoria</td>\n      <td>Morris</td>\n      <td>tori-morris@hotmail.com</td>\n      <td>NaN</td>\n      <td>1955 SW 5th Ave</td>\n      <td>Apt 1030</td>\n      <td>Portland</td>\n      <td>Oregon</td>\n      <td>OR</td>\n      <td>United States</td>\n      <td>US</td>\n      <td>97201</td>\n      <td>(541) 294-8943</td>\n      <td>yes</td>\n      <td>0.00</td>\n      <td>0</td>\n      <td>NaN</td>\n      <td>NaN</td>\n      <td>no</td>\n    </tr>\n    <tr>\n      <th>4</th>\n      <td>Manjusha</td>\n      <td>Punugu</td>\n      <td>manjushapunugu@gmail.com</td>\n      <td>NaN</td>\n      <td>9073 MITCHELL DEWITT RD</td>\n      <td>NaN</td>\n      <td>PLAIN CITY</td>\n      <td>Ohio</td>\n      <td>OH</td>\n      <td>United States</td>\n      <td>US</td>\n      <td>43064</td>\n      <td>(614) 800-7089</td>\n      <td>yes</td>\n      <td>118.12</td>\n      <td>1</td>\n      <td>NaN</td>\n      <td>NaN</td>\n      <td>no</td>\n    </tr>\n  </tbody>\n</table>\n</div>"
     },
     "execution_count": 111,
     "metadata": {},
     "output_type": "execute_result"
    }
   ],
   "source": [
    "shopify_customers = pd.read_csv('all_customers_shopify_1-13.csv', delimiter=',')\n",
    "shopify_customers.head()"
   ],
   "metadata": {
    "collapsed": false,
    "pycharm": {
     "name": "#%%\n"
    }
   }
  },
  {
   "cell_type": "code",
   "execution_count": 112,
   "outputs": [
    {
     "data": {
      "text/plain": "  First Name Last Name            customer email Company  \\\n0      Micah  Jumaquio      micahjumaq@gmail.com     NaN   \n1      Alain      Tran       sillywiener@aol.com     NaN   \n2     Nickie   Venegas    dhv2350@email.vccs.edu     NaN   \n3   Victoria    Morris   tori-morris@hotmail.com     NaN   \n4   Manjusha    Punugu  manjushapunugu@gmail.com     NaN   \n\n                   Address1        Address2            City  Province  \\\n0     177 Blackthorn Avenue             NaN         Toronto   Ontario   \n1  Christian-Schad-Straße 2  bei Tran/Alten   Aschaffenburg       NaN   \n2           4000 Foxwood dr             NaN  Virginia beach  Virginia   \n3           1955 SW 5th Ave        Apt 1030        Portland    Oregon   \n4   9073 MITCHELL DEWITT RD             NaN      PLAIN CITY      Ohio   \n\n  Province Code        Country Country Code      Zip              Phone  \\\n0            ON         Canada           CA  M6N 3H7   '+1 647 866 1159   \n1           NaN        Germany           DE    63743  '+49 1590 6465323   \n2            VA  United States           US    23462     (757) 478-8922   \n3            OR  United States           US    97201     (541) 294-8943   \n4            OH  United States           US    43064     (614) 800-7089   \n\n  Accepts Marketing  Total Spent  Total Orders Tags Note Tax Exempt  \n0               yes        99.95             1  NaN  NaN         no  \n1               yes        99.63             1  NaN  NaN         no  \n2                no         0.00             0  NaN  NaN         no  \n3               yes         0.00             0  NaN  NaN         no  \n4               yes       118.12             1  NaN  NaN         no  ",
      "text/html": "<div>\n<style scoped>\n    .dataframe tbody tr th:only-of-type {\n        vertical-align: middle;\n    }\n\n    .dataframe tbody tr th {\n        vertical-align: top;\n    }\n\n    .dataframe thead th {\n        text-align: right;\n    }\n</style>\n<table border=\"1\" class=\"dataframe\">\n  <thead>\n    <tr style=\"text-align: right;\">\n      <th></th>\n      <th>First Name</th>\n      <th>Last Name</th>\n      <th>customer email</th>\n      <th>Company</th>\n      <th>Address1</th>\n      <th>Address2</th>\n      <th>City</th>\n      <th>Province</th>\n      <th>Province Code</th>\n      <th>Country</th>\n      <th>Country Code</th>\n      <th>Zip</th>\n      <th>Phone</th>\n      <th>Accepts Marketing</th>\n      <th>Total Spent</th>\n      <th>Total Orders</th>\n      <th>Tags</th>\n      <th>Note</th>\n      <th>Tax Exempt</th>\n    </tr>\n  </thead>\n  <tbody>\n    <tr>\n      <th>0</th>\n      <td>Micah</td>\n      <td>Jumaquio</td>\n      <td>micahjumaq@gmail.com</td>\n      <td>NaN</td>\n      <td>177 Blackthorn Avenue</td>\n      <td>NaN</td>\n      <td>Toronto</td>\n      <td>Ontario</td>\n      <td>ON</td>\n      <td>Canada</td>\n      <td>CA</td>\n      <td>M6N 3H7</td>\n      <td>'+1 647 866 1159</td>\n      <td>yes</td>\n      <td>99.95</td>\n      <td>1</td>\n      <td>NaN</td>\n      <td>NaN</td>\n      <td>no</td>\n    </tr>\n    <tr>\n      <th>1</th>\n      <td>Alain</td>\n      <td>Tran</td>\n      <td>sillywiener@aol.com</td>\n      <td>NaN</td>\n      <td>Christian-Schad-Straße 2</td>\n      <td>bei Tran/Alten</td>\n      <td>Aschaffenburg</td>\n      <td>NaN</td>\n      <td>NaN</td>\n      <td>Germany</td>\n      <td>DE</td>\n      <td>63743</td>\n      <td>'+49 1590 6465323</td>\n      <td>yes</td>\n      <td>99.63</td>\n      <td>1</td>\n      <td>NaN</td>\n      <td>NaN</td>\n      <td>no</td>\n    </tr>\n    <tr>\n      <th>2</th>\n      <td>Nickie</td>\n      <td>Venegas</td>\n      <td>dhv2350@email.vccs.edu</td>\n      <td>NaN</td>\n      <td>4000 Foxwood dr</td>\n      <td>NaN</td>\n      <td>Virginia beach</td>\n      <td>Virginia</td>\n      <td>VA</td>\n      <td>United States</td>\n      <td>US</td>\n      <td>23462</td>\n      <td>(757) 478-8922</td>\n      <td>no</td>\n      <td>0.00</td>\n      <td>0</td>\n      <td>NaN</td>\n      <td>NaN</td>\n      <td>no</td>\n    </tr>\n    <tr>\n      <th>3</th>\n      <td>Victoria</td>\n      <td>Morris</td>\n      <td>tori-morris@hotmail.com</td>\n      <td>NaN</td>\n      <td>1955 SW 5th Ave</td>\n      <td>Apt 1030</td>\n      <td>Portland</td>\n      <td>Oregon</td>\n      <td>OR</td>\n      <td>United States</td>\n      <td>US</td>\n      <td>97201</td>\n      <td>(541) 294-8943</td>\n      <td>yes</td>\n      <td>0.00</td>\n      <td>0</td>\n      <td>NaN</td>\n      <td>NaN</td>\n      <td>no</td>\n    </tr>\n    <tr>\n      <th>4</th>\n      <td>Manjusha</td>\n      <td>Punugu</td>\n      <td>manjushapunugu@gmail.com</td>\n      <td>NaN</td>\n      <td>9073 MITCHELL DEWITT RD</td>\n      <td>NaN</td>\n      <td>PLAIN CITY</td>\n      <td>Ohio</td>\n      <td>OH</td>\n      <td>United States</td>\n      <td>US</td>\n      <td>43064</td>\n      <td>(614) 800-7089</td>\n      <td>yes</td>\n      <td>118.12</td>\n      <td>1</td>\n      <td>NaN</td>\n      <td>NaN</td>\n      <td>no</td>\n    </tr>\n  </tbody>\n</table>\n</div>"
     },
     "execution_count": 112,
     "metadata": {},
     "output_type": "execute_result"
    }
   ],
   "source": [
    "shopify_customers.rename(columns={'Email':'customer email'}, inplace=True)\n",
    "shopify_customers.head()"
   ],
   "metadata": {
    "collapsed": false,
    "pycharm": {
     "name": "#%%\n"
    }
   }
  },
  {
   "cell_type": "code",
   "execution_count": 113,
   "outputs": [
    {
     "data": {
      "text/plain": "  First Name Last Name               customer email Company  \\\n0      Grace     Chang        changeunhye@gmail.com     NaN   \n1  Marymegan      Daly      marymegandaly@gmail.com     NaN   \n2        Kia     Owens        kiaonfire@hotmail.com     NaN   \n3       Sara     Ellis        suzieellis3@gmail.com     NaN   \n4     Lauren  Castillo  laurencastillo519@gmail.com     NaN   \n\n                                  Address1 Address2          City  \\\n0                    561 W Yellowstone Way      NaN      Chandler   \n1                     354 west hubbard ave      NaN      columbus   \n2  21 Sullivan Road, TALLEBUDGERA QLD 4228      NaN  Tallebudgera   \n3                      303 Country Club Rd      NaN      LaGrange   \n4                        50 Valley View Dr      NaN    Farmington   \n\n      Province Province Code        Country  ... billing province  \\\n0      Arizona            AZ  United States  ...          Arizona   \n1         Ohio            OH  United States  ...             Ohio   \n2   Queensland           QLD      Australia  ...       Queensland   \n3      Georgia            GA  United States  ...          Georgia   \n4  Connecticut            CT  United States  ...      Connecticut   \n\n  billing country Shopify customer id Past Orders Count  \\\n0   United States       3810864693361                 1   \n1   United States       3810712289393                 1   \n2       Australia       3809931100273                 1   \n3   United States       3809825587313                 1   \n4   United States       3809584218225                 1   \n\n   Has Valid Payment Method  Reason Payment Method Not Valid  \\\n0                      True                              NaN   \n1                      True                              NaN   \n2                      True                              NaN   \n3                      True                              NaN   \n4                      True                              NaN   \n\n  Has Card Error In Dunning Number Active Subscriptions Number Subscriptions  \\\n0                     False                           1                    1   \n1                     False                           1                    1   \n2                     False                           1                    1   \n3                     False                           1                    1   \n4                     False                           1                    1   \n\n   First Charge Processed At  \n0        2021-01-12 17:01:47  \n1        2021-01-12 15:15:33  \n2        2021-01-12 02:56:54  \n3        2021-01-12 00:36:04  \n4        2021-01-11 21:04:46  \n\n[5 rows x 46 columns]",
      "text/html": "<div>\n<style scoped>\n    .dataframe tbody tr th:only-of-type {\n        vertical-align: middle;\n    }\n\n    .dataframe tbody tr th {\n        vertical-align: top;\n    }\n\n    .dataframe thead th {\n        text-align: right;\n    }\n</style>\n<table border=\"1\" class=\"dataframe\">\n  <thead>\n    <tr style=\"text-align: right;\">\n      <th></th>\n      <th>First Name</th>\n      <th>Last Name</th>\n      <th>customer email</th>\n      <th>Company</th>\n      <th>Address1</th>\n      <th>Address2</th>\n      <th>City</th>\n      <th>Province</th>\n      <th>Province Code</th>\n      <th>Country</th>\n      <th>...</th>\n      <th>billing province</th>\n      <th>billing country</th>\n      <th>Shopify customer id</th>\n      <th>Past Orders Count</th>\n      <th>Has Valid Payment Method</th>\n      <th>Reason Payment Method Not Valid</th>\n      <th>Has Card Error In Dunning</th>\n      <th>Number Active Subscriptions</th>\n      <th>Number Subscriptions</th>\n      <th>First Charge Processed At</th>\n    </tr>\n  </thead>\n  <tbody>\n    <tr>\n      <th>0</th>\n      <td>Grace</td>\n      <td>Chang</td>\n      <td>changeunhye@gmail.com</td>\n      <td>NaN</td>\n      <td>561 W Yellowstone Way</td>\n      <td>NaN</td>\n      <td>Chandler</td>\n      <td>Arizona</td>\n      <td>AZ</td>\n      <td>United States</td>\n      <td>...</td>\n      <td>Arizona</td>\n      <td>United States</td>\n      <td>3810864693361</td>\n      <td>1</td>\n      <td>True</td>\n      <td>NaN</td>\n      <td>False</td>\n      <td>1</td>\n      <td>1</td>\n      <td>2021-01-12 17:01:47</td>\n    </tr>\n    <tr>\n      <th>1</th>\n      <td>Marymegan</td>\n      <td>Daly</td>\n      <td>marymegandaly@gmail.com</td>\n      <td>NaN</td>\n      <td>354 west hubbard ave</td>\n      <td>NaN</td>\n      <td>columbus</td>\n      <td>Ohio</td>\n      <td>OH</td>\n      <td>United States</td>\n      <td>...</td>\n      <td>Ohio</td>\n      <td>United States</td>\n      <td>3810712289393</td>\n      <td>1</td>\n      <td>True</td>\n      <td>NaN</td>\n      <td>False</td>\n      <td>1</td>\n      <td>1</td>\n      <td>2021-01-12 15:15:33</td>\n    </tr>\n    <tr>\n      <th>2</th>\n      <td>Kia</td>\n      <td>Owens</td>\n      <td>kiaonfire@hotmail.com</td>\n      <td>NaN</td>\n      <td>21 Sullivan Road, TALLEBUDGERA QLD 4228</td>\n      <td>NaN</td>\n      <td>Tallebudgera</td>\n      <td>Queensland</td>\n      <td>QLD</td>\n      <td>Australia</td>\n      <td>...</td>\n      <td>Queensland</td>\n      <td>Australia</td>\n      <td>3809931100273</td>\n      <td>1</td>\n      <td>True</td>\n      <td>NaN</td>\n      <td>False</td>\n      <td>1</td>\n      <td>1</td>\n      <td>2021-01-12 02:56:54</td>\n    </tr>\n    <tr>\n      <th>3</th>\n      <td>Sara</td>\n      <td>Ellis</td>\n      <td>suzieellis3@gmail.com</td>\n      <td>NaN</td>\n      <td>303 Country Club Rd</td>\n      <td>NaN</td>\n      <td>LaGrange</td>\n      <td>Georgia</td>\n      <td>GA</td>\n      <td>United States</td>\n      <td>...</td>\n      <td>Georgia</td>\n      <td>United States</td>\n      <td>3809825587313</td>\n      <td>1</td>\n      <td>True</td>\n      <td>NaN</td>\n      <td>False</td>\n      <td>1</td>\n      <td>1</td>\n      <td>2021-01-12 00:36:04</td>\n    </tr>\n    <tr>\n      <th>4</th>\n      <td>Lauren</td>\n      <td>Castillo</td>\n      <td>laurencastillo519@gmail.com</td>\n      <td>NaN</td>\n      <td>50 Valley View Dr</td>\n      <td>NaN</td>\n      <td>Farmington</td>\n      <td>Connecticut</td>\n      <td>CT</td>\n      <td>United States</td>\n      <td>...</td>\n      <td>Connecticut</td>\n      <td>United States</td>\n      <td>3809584218225</td>\n      <td>1</td>\n      <td>True</td>\n      <td>NaN</td>\n      <td>False</td>\n      <td>1</td>\n      <td>1</td>\n      <td>2021-01-11 21:04:46</td>\n    </tr>\n  </tbody>\n</table>\n<p>5 rows × 46 columns</p>\n</div>"
     },
     "execution_count": 113,
     "metadata": {},
     "output_type": "execute_result"
    }
   ],
   "source": [
    "# active merged\n",
    "merged_df_active = shopify_customers.merge(RC_CR_active, on='customer email', how='inner')\n",
    "merged_df_active.head()"
   ],
   "metadata": {
    "collapsed": false,
    "pycharm": {
     "name": "#%%\n"
    }
   }
  },
  {
   "cell_type": "code",
   "execution_count": 114,
   "outputs": [],
   "source": [
    "merged_df_active = merged_df_active[['First Name', 'Last Name', 'customer email', 'customer recharge id', 'Shopify customer id',\n",
    "                       'created at', 'First Charge Processed At', 'status', 'Number Active Subscriptions',\n",
    "                       'Number Subscriptions', 'portal_url', 'Total Spent', 'Total Orders', 'Past Orders Count',\n",
    "                       'Tags', 'Address1', 'City', 'Province Code', 'Country', 'Accepts Marketing']]"
   ],
   "metadata": {
    "collapsed": false,
    "pycharm": {
     "name": "#%%\n"
    }
   }
  },
  {
   "cell_type": "code",
   "execution_count": 115,
   "outputs": [
    {
     "name": "stdout",
     "output_type": "stream",
     "text": [
      "<class 'pandas.core.frame.DataFrame'>\n",
      "Int64Index: 3021 entries, 0 to 3020\n",
      "Data columns (total 20 columns):\n",
      " #   Column                       Non-Null Count  Dtype  \n",
      "---  ------                       --------------  -----  \n",
      " 0   First Name                   3019 non-null   object \n",
      " 1   Last Name                    3021 non-null   object \n",
      " 2   customer email               3021 non-null   object \n",
      " 3   customer recharge id         3021 non-null   int64  \n",
      " 4   Shopify customer id          3021 non-null   int64  \n",
      " 5   created at                   3021 non-null   object \n",
      " 6   First Charge Processed At    3021 non-null   object \n",
      " 7   status                       3021 non-null   object \n",
      " 8   Number Active Subscriptions  3021 non-null   int64  \n",
      " 9   Number Subscriptions         3021 non-null   int64  \n",
      " 10  portal_url                   3021 non-null   object \n",
      " 11  Total Spent                  3021 non-null   float64\n",
      " 12  Total Orders                 3021 non-null   int64  \n",
      " 13  Past Orders Count            3021 non-null   int64  \n",
      " 14  Tags                         3015 non-null   object \n",
      " 15  Address1                     3019 non-null   object \n",
      " 16  City                         3019 non-null   object \n",
      " 17  Province Code                2684 non-null   object \n",
      " 18  Country                      3019 non-null   object \n",
      " 19  Accepts Marketing            3021 non-null   object \n",
      "dtypes: float64(1), int64(6), object(13)\n",
      "memory usage: 495.6+ KB\n"
     ]
    }
   ],
   "source": [
    "merged_df_active.info()"
   ],
   "metadata": {
    "collapsed": false,
    "pycharm": {
     "name": "#%%\n"
    }
   }
  },
  {
   "cell_type": "code",
   "execution_count": 116,
   "outputs": [
    {
     "data": {
      "text/plain": "       customer recharge id  Shopify customer id  Number Active Subscriptions  \\\ncount          3.021000e+03         3.021000e+03                  3021.000000   \nmean           4.123117e+07         2.998396e+12                     1.088712   \nstd            7.872631e+06         5.049479e+11                     0.318432   \nmin            3.153716e+07         2.148691e+12                     1.000000   \n25%            3.383735e+07         2.624745e+12                     1.000000   \n50%            4.050673e+07         3.063325e+12                     1.000000   \n75%            4.721688e+07         3.368563e+12                     1.000000   \nmax            5.686593e+07         3.810865e+12                     4.000000   \n\n       Number Subscriptions  Total Spent  Total Orders  Past Orders Count  \ncount           3021.000000  3021.000000   3021.000000        3021.000000  \nmean               1.211850   351.546776      5.617676           2.849057  \nstd                0.549658   319.742529      4.464704           1.926219  \nmin                1.000000     0.000000      0.000000           1.000000  \n25%                1.000000   176.940000      3.000000           1.000000  \n50%                1.000000   279.060000      5.000000           2.000000  \n75%                1.000000   410.980000      7.000000           4.000000  \nmax                7.000000  3928.350000     48.000000          16.000000  ",
      "text/html": "<div>\n<style scoped>\n    .dataframe tbody tr th:only-of-type {\n        vertical-align: middle;\n    }\n\n    .dataframe tbody tr th {\n        vertical-align: top;\n    }\n\n    .dataframe thead th {\n        text-align: right;\n    }\n</style>\n<table border=\"1\" class=\"dataframe\">\n  <thead>\n    <tr style=\"text-align: right;\">\n      <th></th>\n      <th>customer recharge id</th>\n      <th>Shopify customer id</th>\n      <th>Number Active Subscriptions</th>\n      <th>Number Subscriptions</th>\n      <th>Total Spent</th>\n      <th>Total Orders</th>\n      <th>Past Orders Count</th>\n    </tr>\n  </thead>\n  <tbody>\n    <tr>\n      <th>count</th>\n      <td>3.021000e+03</td>\n      <td>3.021000e+03</td>\n      <td>3021.000000</td>\n      <td>3021.000000</td>\n      <td>3021.000000</td>\n      <td>3021.000000</td>\n      <td>3021.000000</td>\n    </tr>\n    <tr>\n      <th>mean</th>\n      <td>4.123117e+07</td>\n      <td>2.998396e+12</td>\n      <td>1.088712</td>\n      <td>1.211850</td>\n      <td>351.546776</td>\n      <td>5.617676</td>\n      <td>2.849057</td>\n    </tr>\n    <tr>\n      <th>std</th>\n      <td>7.872631e+06</td>\n      <td>5.049479e+11</td>\n      <td>0.318432</td>\n      <td>0.549658</td>\n      <td>319.742529</td>\n      <td>4.464704</td>\n      <td>1.926219</td>\n    </tr>\n    <tr>\n      <th>min</th>\n      <td>3.153716e+07</td>\n      <td>2.148691e+12</td>\n      <td>1.000000</td>\n      <td>1.000000</td>\n      <td>0.000000</td>\n      <td>0.000000</td>\n      <td>1.000000</td>\n    </tr>\n    <tr>\n      <th>25%</th>\n      <td>3.383735e+07</td>\n      <td>2.624745e+12</td>\n      <td>1.000000</td>\n      <td>1.000000</td>\n      <td>176.940000</td>\n      <td>3.000000</td>\n      <td>1.000000</td>\n    </tr>\n    <tr>\n      <th>50%</th>\n      <td>4.050673e+07</td>\n      <td>3.063325e+12</td>\n      <td>1.000000</td>\n      <td>1.000000</td>\n      <td>279.060000</td>\n      <td>5.000000</td>\n      <td>2.000000</td>\n    </tr>\n    <tr>\n      <th>75%</th>\n      <td>4.721688e+07</td>\n      <td>3.368563e+12</td>\n      <td>1.000000</td>\n      <td>1.000000</td>\n      <td>410.980000</td>\n      <td>7.000000</td>\n      <td>4.000000</td>\n    </tr>\n    <tr>\n      <th>max</th>\n      <td>5.686593e+07</td>\n      <td>3.810865e+12</td>\n      <td>4.000000</td>\n      <td>7.000000</td>\n      <td>3928.350000</td>\n      <td>48.000000</td>\n      <td>16.000000</td>\n    </tr>\n  </tbody>\n</table>\n</div>"
     },
     "execution_count": 116,
     "metadata": {},
     "output_type": "execute_result"
    }
   ],
   "source": [
    "merged_df_active.describe()"
   ],
   "metadata": {
    "collapsed": false,
    "pycharm": {
     "name": "#%%\n"
    }
   }
  },
  {
   "cell_type": "code",
   "execution_count": 117,
   "outputs": [
    {
     "data": {
      "text/plain": "  First Name Last Name               customer email  customer recharge id  \\\n0      Grace     Chang        changeunhye@gmail.com              56860712   \n1  Marymegan      Daly      marymegandaly@gmail.com              56854593   \n2        Kia     Owens        kiaonfire@hotmail.com              56824124   \n3       Sara     Ellis        suzieellis3@gmail.com              56821078   \n4     Lauren  Castillo  laurencastillo519@gmail.com              56811944   \n\n   Shopify customer id           created at First Charge Processed At  status  \\\n0        3810864693361  2021-01-12T17:01:42       2021-01-12 17:01:47  Active   \n1        3810712289393  2021-01-12T15:15:27       2021-01-12 15:15:33  Active   \n2        3809931100273  2021-01-12T02:56:47       2021-01-12 02:56:54  Active   \n3        3809825587313  2021-01-12T00:35:58       2021-01-12 00:36:04  Active   \n4        3809584218225  2021-01-11T21:04:41       2021-01-11 21:04:46  Active   \n\n   Number Active Subscriptions  Number Subscriptions  \\\n0                            1                     1   \n1                            1                     1   \n2                            1                     1   \n3                            1                     1   \n4                            1                     1   \n\n                                          portal_url  Total Spent  \\\n0  daebakbox.myshopify.com/tools/recurring/custom...       239.92   \n1  daebakbox.myshopify.com/tools/recurring/custom...       236.92   \n2  daebakbox.myshopify.com/tools/recurring/custom...       146.97   \n3  daebakbox.myshopify.com/tools/recurring/custom...        65.96   \n4  daebakbox.myshopify.com/tools/recurring/custom...        65.96   \n\n   Total Orders  Past Orders Count                         Tags  \\\n0             1                  1    Active Subscriber, ANNUAL   \n1             1                  1            Active Subscriber   \n2             1                  1            Active Subscriber   \n3             1                  1  Active Subscriber, SEASONAL   \n4             1                  1  Active Subscriber, SEASONAL   \n\n                                  Address1          City Province Code  \\\n0                    561 W Yellowstone Way      Chandler            AZ   \n1                     354 west hubbard ave      columbus            OH   \n2  21 Sullivan Road, TALLEBUDGERA QLD 4228  Tallebudgera           QLD   \n3                      303 Country Club Rd      LaGrange            GA   \n4                        50 Valley View Dr    Farmington            CT   \n\n         Country Accepts Marketing  \n0  United States               yes  \n1  United States                no  \n2      Australia                no  \n3  United States               yes  \n4  United States                no  ",
      "text/html": "<div>\n<style scoped>\n    .dataframe tbody tr th:only-of-type {\n        vertical-align: middle;\n    }\n\n    .dataframe tbody tr th {\n        vertical-align: top;\n    }\n\n    .dataframe thead th {\n        text-align: right;\n    }\n</style>\n<table border=\"1\" class=\"dataframe\">\n  <thead>\n    <tr style=\"text-align: right;\">\n      <th></th>\n      <th>First Name</th>\n      <th>Last Name</th>\n      <th>customer email</th>\n      <th>customer recharge id</th>\n      <th>Shopify customer id</th>\n      <th>created at</th>\n      <th>First Charge Processed At</th>\n      <th>status</th>\n      <th>Number Active Subscriptions</th>\n      <th>Number Subscriptions</th>\n      <th>portal_url</th>\n      <th>Total Spent</th>\n      <th>Total Orders</th>\n      <th>Past Orders Count</th>\n      <th>Tags</th>\n      <th>Address1</th>\n      <th>City</th>\n      <th>Province Code</th>\n      <th>Country</th>\n      <th>Accepts Marketing</th>\n    </tr>\n  </thead>\n  <tbody>\n    <tr>\n      <th>0</th>\n      <td>Grace</td>\n      <td>Chang</td>\n      <td>changeunhye@gmail.com</td>\n      <td>56860712</td>\n      <td>3810864693361</td>\n      <td>2021-01-12T17:01:42</td>\n      <td>2021-01-12 17:01:47</td>\n      <td>Active</td>\n      <td>1</td>\n      <td>1</td>\n      <td>daebakbox.myshopify.com/tools/recurring/custom...</td>\n      <td>239.92</td>\n      <td>1</td>\n      <td>1</td>\n      <td>Active Subscriber, ANNUAL</td>\n      <td>561 W Yellowstone Way</td>\n      <td>Chandler</td>\n      <td>AZ</td>\n      <td>United States</td>\n      <td>yes</td>\n    </tr>\n    <tr>\n      <th>1</th>\n      <td>Marymegan</td>\n      <td>Daly</td>\n      <td>marymegandaly@gmail.com</td>\n      <td>56854593</td>\n      <td>3810712289393</td>\n      <td>2021-01-12T15:15:27</td>\n      <td>2021-01-12 15:15:33</td>\n      <td>Active</td>\n      <td>1</td>\n      <td>1</td>\n      <td>daebakbox.myshopify.com/tools/recurring/custom...</td>\n      <td>236.92</td>\n      <td>1</td>\n      <td>1</td>\n      <td>Active Subscriber</td>\n      <td>354 west hubbard ave</td>\n      <td>columbus</td>\n      <td>OH</td>\n      <td>United States</td>\n      <td>no</td>\n    </tr>\n    <tr>\n      <th>2</th>\n      <td>Kia</td>\n      <td>Owens</td>\n      <td>kiaonfire@hotmail.com</td>\n      <td>56824124</td>\n      <td>3809931100273</td>\n      <td>2021-01-12T02:56:47</td>\n      <td>2021-01-12 02:56:54</td>\n      <td>Active</td>\n      <td>1</td>\n      <td>1</td>\n      <td>daebakbox.myshopify.com/tools/recurring/custom...</td>\n      <td>146.97</td>\n      <td>1</td>\n      <td>1</td>\n      <td>Active Subscriber</td>\n      <td>21 Sullivan Road, TALLEBUDGERA QLD 4228</td>\n      <td>Tallebudgera</td>\n      <td>QLD</td>\n      <td>Australia</td>\n      <td>no</td>\n    </tr>\n    <tr>\n      <th>3</th>\n      <td>Sara</td>\n      <td>Ellis</td>\n      <td>suzieellis3@gmail.com</td>\n      <td>56821078</td>\n      <td>3809825587313</td>\n      <td>2021-01-12T00:35:58</td>\n      <td>2021-01-12 00:36:04</td>\n      <td>Active</td>\n      <td>1</td>\n      <td>1</td>\n      <td>daebakbox.myshopify.com/tools/recurring/custom...</td>\n      <td>65.96</td>\n      <td>1</td>\n      <td>1</td>\n      <td>Active Subscriber, SEASONAL</td>\n      <td>303 Country Club Rd</td>\n      <td>LaGrange</td>\n      <td>GA</td>\n      <td>United States</td>\n      <td>yes</td>\n    </tr>\n    <tr>\n      <th>4</th>\n      <td>Lauren</td>\n      <td>Castillo</td>\n      <td>laurencastillo519@gmail.com</td>\n      <td>56811944</td>\n      <td>3809584218225</td>\n      <td>2021-01-11T21:04:41</td>\n      <td>2021-01-11 21:04:46</td>\n      <td>Active</td>\n      <td>1</td>\n      <td>1</td>\n      <td>daebakbox.myshopify.com/tools/recurring/custom...</td>\n      <td>65.96</td>\n      <td>1</td>\n      <td>1</td>\n      <td>Active Subscriber, SEASONAL</td>\n      <td>50 Valley View Dr</td>\n      <td>Farmington</td>\n      <td>CT</td>\n      <td>United States</td>\n      <td>no</td>\n    </tr>\n  </tbody>\n</table>\n</div>"
     },
     "execution_count": 117,
     "metadata": {},
     "output_type": "execute_result"
    }
   ],
   "source": [
    "merged_df_active.head()"
   ],
   "metadata": {
    "collapsed": false,
    "pycharm": {
     "name": "#%%\n"
    }
   }
  },
  {
   "cell_type": "code",
   "execution_count": 118,
   "outputs": [
    {
     "data": {
      "text/plain": "  First Name  Last Name           customer email  customer recharge id  \\\n0     Deonna      Kelly  xoxoblasian97@gmail.com              56728047   \n1     Deonna      Kelly  mermaiddeonna@gmail.com              56726636   \n2     Hannah  Macaranas   mac_hannah14@yahoo.com              56635026   \n3     Lyndon     Bright        ltb2231@gmail.com              56343833   \n4   Cristina      Serna    cricrileo.3@gmail.com              56262238   \n\n   Shopify customer id           created at First Charge Processed At  \\\n0        3807362875505  2021-01-10T14:19:20       2021-01-10 14:19:27   \n1        3807325388913  2021-01-10T13:55:07       2021-01-10 13:55:13   \n2        3804577300593  2021-01-08T22:39:35       2021-01-08 22:39:41   \n3        3795890503793  2021-01-04T05:00:31       2021-01-04 05:00:38   \n4        3793575411825  2021-01-02T19:24:51       2021-01-02 19:24:57   \n\n     status  Number Active Subscriptions  Number Subscriptions  \\\n0  Inactive                            0                     1   \n1  Inactive                            0                     1   \n2  Inactive                            0                     1   \n3  Inactive                            0                     1   \n4  Inactive                            0                     1   \n\n                                          portal_url  Total Spent  \\\n0  daebakbox.myshopify.com/tools/recurring/custom...        50.97   \n1  daebakbox.myshopify.com/tools/recurring/custom...        55.96   \n2  daebakbox.myshopify.com/tools/recurring/custom...        47.97   \n3  daebakbox.myshopify.com/tools/recurring/custom...        45.97   \n4  daebakbox.myshopify.com/tools/recurring/custom...        60.96   \n\n   Total Orders  Past Orders Count                           Tags  \\\n0             1                  1            Inactive Subscriber   \n1             1                  1            Inactive Subscriber   \n2             1                  1            Inactive Subscriber   \n3             1                  1            Inactive Subscriber   \n4             1                  1  Inactive Subscriber, SEASONAL   \n\n                Address1      City Province Code        Country  \\\n0  29327 Brockton Circle   Menifee            CA  United States   \n1  29327 Brockton Circle   Menifee            CA  United States   \n2   2124 N Screenland Dr   Burbank            CA  United States   \n3             18 Bond St   Preston           VIC      Australia   \n4  18625 E. Burnside St.  Portland            OR  United States   \n\n  Accepts Marketing  \n0                no  \n1                no  \n2                no  \n3                no  \n4                no  ",
      "text/html": "<div>\n<style scoped>\n    .dataframe tbody tr th:only-of-type {\n        vertical-align: middle;\n    }\n\n    .dataframe tbody tr th {\n        vertical-align: top;\n    }\n\n    .dataframe thead th {\n        text-align: right;\n    }\n</style>\n<table border=\"1\" class=\"dataframe\">\n  <thead>\n    <tr style=\"text-align: right;\">\n      <th></th>\n      <th>First Name</th>\n      <th>Last Name</th>\n      <th>customer email</th>\n      <th>customer recharge id</th>\n      <th>Shopify customer id</th>\n      <th>created at</th>\n      <th>First Charge Processed At</th>\n      <th>status</th>\n      <th>Number Active Subscriptions</th>\n      <th>Number Subscriptions</th>\n      <th>portal_url</th>\n      <th>Total Spent</th>\n      <th>Total Orders</th>\n      <th>Past Orders Count</th>\n      <th>Tags</th>\n      <th>Address1</th>\n      <th>City</th>\n      <th>Province Code</th>\n      <th>Country</th>\n      <th>Accepts Marketing</th>\n    </tr>\n  </thead>\n  <tbody>\n    <tr>\n      <th>0</th>\n      <td>Deonna</td>\n      <td>Kelly</td>\n      <td>xoxoblasian97@gmail.com</td>\n      <td>56728047</td>\n      <td>3807362875505</td>\n      <td>2021-01-10T14:19:20</td>\n      <td>2021-01-10 14:19:27</td>\n      <td>Inactive</td>\n      <td>0</td>\n      <td>1</td>\n      <td>daebakbox.myshopify.com/tools/recurring/custom...</td>\n      <td>50.97</td>\n      <td>1</td>\n      <td>1</td>\n      <td>Inactive Subscriber</td>\n      <td>29327 Brockton Circle</td>\n      <td>Menifee</td>\n      <td>CA</td>\n      <td>United States</td>\n      <td>no</td>\n    </tr>\n    <tr>\n      <th>1</th>\n      <td>Deonna</td>\n      <td>Kelly</td>\n      <td>mermaiddeonna@gmail.com</td>\n      <td>56726636</td>\n      <td>3807325388913</td>\n      <td>2021-01-10T13:55:07</td>\n      <td>2021-01-10 13:55:13</td>\n      <td>Inactive</td>\n      <td>0</td>\n      <td>1</td>\n      <td>daebakbox.myshopify.com/tools/recurring/custom...</td>\n      <td>55.96</td>\n      <td>1</td>\n      <td>1</td>\n      <td>Inactive Subscriber</td>\n      <td>29327 Brockton Circle</td>\n      <td>Menifee</td>\n      <td>CA</td>\n      <td>United States</td>\n      <td>no</td>\n    </tr>\n    <tr>\n      <th>2</th>\n      <td>Hannah</td>\n      <td>Macaranas</td>\n      <td>mac_hannah14@yahoo.com</td>\n      <td>56635026</td>\n      <td>3804577300593</td>\n      <td>2021-01-08T22:39:35</td>\n      <td>2021-01-08 22:39:41</td>\n      <td>Inactive</td>\n      <td>0</td>\n      <td>1</td>\n      <td>daebakbox.myshopify.com/tools/recurring/custom...</td>\n      <td>47.97</td>\n      <td>1</td>\n      <td>1</td>\n      <td>Inactive Subscriber</td>\n      <td>2124 N Screenland Dr</td>\n      <td>Burbank</td>\n      <td>CA</td>\n      <td>United States</td>\n      <td>no</td>\n    </tr>\n    <tr>\n      <th>3</th>\n      <td>Lyndon</td>\n      <td>Bright</td>\n      <td>ltb2231@gmail.com</td>\n      <td>56343833</td>\n      <td>3795890503793</td>\n      <td>2021-01-04T05:00:31</td>\n      <td>2021-01-04 05:00:38</td>\n      <td>Inactive</td>\n      <td>0</td>\n      <td>1</td>\n      <td>daebakbox.myshopify.com/tools/recurring/custom...</td>\n      <td>45.97</td>\n      <td>1</td>\n      <td>1</td>\n      <td>Inactive Subscriber</td>\n      <td>18 Bond St</td>\n      <td>Preston</td>\n      <td>VIC</td>\n      <td>Australia</td>\n      <td>no</td>\n    </tr>\n    <tr>\n      <th>4</th>\n      <td>Cristina</td>\n      <td>Serna</td>\n      <td>cricrileo.3@gmail.com</td>\n      <td>56262238</td>\n      <td>3793575411825</td>\n      <td>2021-01-02T19:24:51</td>\n      <td>2021-01-02 19:24:57</td>\n      <td>Inactive</td>\n      <td>0</td>\n      <td>1</td>\n      <td>daebakbox.myshopify.com/tools/recurring/custom...</td>\n      <td>60.96</td>\n      <td>1</td>\n      <td>1</td>\n      <td>Inactive Subscriber, SEASONAL</td>\n      <td>18625 E. Burnside St.</td>\n      <td>Portland</td>\n      <td>OR</td>\n      <td>United States</td>\n      <td>no</td>\n    </tr>\n  </tbody>\n</table>\n</div>"
     },
     "execution_count": 118,
     "metadata": {},
     "output_type": "execute_result"
    }
   ],
   "source": [
    "# inactive merged\n",
    "merged_df_inactive = shopify_customers.merge(RC_CR_inactive, on='customer email', how='inner')\n",
    "merged_df_inactive = merged_df_inactive[['First Name', 'Last Name', 'customer email', 'customer recharge id', 'Shopify customer id',\n",
    "                       'created at', 'First Charge Processed At', 'status', 'Number Active Subscriptions',\n",
    "                       'Number Subscriptions', 'portal_url', 'Total Spent', 'Total Orders', 'Past Orders Count',\n",
    "                       'Tags', 'Address1', 'City', 'Province Code', 'Country', 'Accepts Marketing']]\n",
    "merged_df_inactive.head()"
   ],
   "metadata": {
    "collapsed": false,
    "pycharm": {
     "name": "#%%\n"
    }
   }
  },
  {
   "cell_type": "code",
   "execution_count": 119,
   "outputs": [
    {
     "name": "stdout",
     "output_type": "stream",
     "text": [
      "<class 'pandas.core.frame.DataFrame'>\n",
      "Int64Index: 3366 entries, 0 to 3365\n",
      "Data columns (total 20 columns):\n",
      " #   Column                       Non-Null Count  Dtype  \n",
      "---  ------                       --------------  -----  \n",
      " 0   First Name                   3365 non-null   object \n",
      " 1   Last Name                    3365 non-null   object \n",
      " 2   customer email               3366 non-null   object \n",
      " 3   customer recharge id         3366 non-null   int64  \n",
      " 4   Shopify customer id          3366 non-null   int64  \n",
      " 5   created at                   3366 non-null   object \n",
      " 6   First Charge Processed At    3363 non-null   object \n",
      " 7   status                       3366 non-null   object \n",
      " 8   Number Active Subscriptions  3366 non-null   int64  \n",
      " 9   Number Subscriptions         3366 non-null   int64  \n",
      " 10  portal_url                   3366 non-null   object \n",
      " 11  Total Spent                  3366 non-null   float64\n",
      " 12  Total Orders                 3366 non-null   int64  \n",
      " 13  Past Orders Count            3366 non-null   int64  \n",
      " 14  Tags                         3363 non-null   object \n",
      " 15  Address1                     3336 non-null   object \n",
      " 16  City                         3337 non-null   object \n",
      " 17  Province Code                2640 non-null   object \n",
      " 18  Country                      3337 non-null   object \n",
      " 19  Accepts Marketing            3366 non-null   object \n",
      "dtypes: float64(1), int64(6), object(13)\n",
      "memory usage: 552.2+ KB\n"
     ]
    }
   ],
   "source": [
    "merged_df_inactive.info()"
   ],
   "metadata": {
    "collapsed": false,
    "pycharm": {
     "name": "#%%\n"
    }
   }
  },
  {
   "cell_type": "code",
   "execution_count": 120,
   "outputs": [
    {
     "name": "stderr",
     "output_type": "stream",
     "text": [
      "<ipython-input-120-0d87d001e6df>:6: DtypeWarning: Columns (28) have mixed types.Specify dtype option on import or set low_memory=False.\n",
      "  all_orders = pd.concat(df_from_each_file, ignore_index=True)\n",
      "<ipython-input-120-0d87d001e6df>:6: DtypeWarning: Columns (52) have mixed types.Specify dtype option on import or set low_memory=False.\n",
      "  all_orders = pd.concat(df_from_each_file, ignore_index=True)\n",
      "<ipython-input-120-0d87d001e6df>:6: DtypeWarning: Columns (64) have mixed types.Specify dtype option on import or set low_memory=False.\n",
      "  all_orders = pd.concat(df_from_each_file, ignore_index=True)\n"
     ]
    }
   ],
   "source": [
    "# now take all orders history data from shopify and compare/merge with active vs inactive\n",
    "# key : shopify customer id or customer email\n",
    "all_files = ['orders_export_1.csv', 'orders_export_2.csv', 'orders_export_3.csv']\n",
    "\n",
    "df_from_each_file = (pd.read_csv(f) for f in all_files)\n",
    "all_orders = pd.concat(df_from_each_file, ignore_index=True)"
   ],
   "metadata": {
    "collapsed": false,
    "pycharm": {
     "name": "#%%\n"
    }
   }
  },
  {
   "cell_type": "code",
   "execution_count": 121,
   "outputs": [
    {
     "name": "stdout",
     "output_type": "stream",
     "text": [
      "<class 'pandas.core.frame.DataFrame'>\n",
      "Int64Index: 23283 entries, 0 to 23282\n",
      "Data columns (total 92 columns):\n",
      " #   Column                       Non-Null Count  Dtype  \n",
      "---  ------                       --------------  -----  \n",
      " 0   Name                         23283 non-null  object \n",
      " 1   customer email               23283 non-null  object \n",
      " 2   Financial Status             16816 non-null  object \n",
      " 3   Paid at                      12667 non-null  object \n",
      " 4   Fulfillment Status           16816 non-null  object \n",
      " 5   Fulfilled at                 16335 non-null  object \n",
      " 6   Accepts Marketing_x          16816 non-null  object \n",
      " 7   Currency                     16816 non-null  object \n",
      " 8   Subtotal                     16816 non-null  float64\n",
      " 9   Shipping                     16816 non-null  float64\n",
      " 10  Taxes                        16816 non-null  float64\n",
      " 11  Total                        16816 non-null  float64\n",
      " 12  Discount Code                2583 non-null   object \n",
      " 13  Discount Amount              16816 non-null  float64\n",
      " 14  Shipping Method              16804 non-null  object \n",
      " 15  Created at                   23283 non-null  object \n",
      " 16  Lineitem quantity            23283 non-null  int64  \n",
      " 17  Lineitem name                23283 non-null  object \n",
      " 18  Lineitem price               23283 non-null  float64\n",
      " 19  Lineitem compare at price    4048 non-null   float64\n",
      " 20  Lineitem sku                 22451 non-null  object \n",
      " 21  Lineitem requires shipping   23283 non-null  bool   \n",
      " 22  Lineitem taxable             23283 non-null  bool   \n",
      " 23  Lineitem fulfillment status  23283 non-null  object \n",
      " 24  Billing Name                 16816 non-null  object \n",
      " 25  Billing Street               16815 non-null  object \n",
      " 26  Billing Address1             16815 non-null  object \n",
      " 27  Billing Address2             3728 non-null   object \n",
      " 28  Billing Company              326 non-null    object \n",
      " 29  Billing City                 16815 non-null  object \n",
      " 30  Billing Zip                  16741 non-null  object \n",
      " 31  Billing Province             14755 non-null  object \n",
      " 32  Billing Country              16815 non-null  object \n",
      " 33  Billing Phone                16582 non-null  object \n",
      " 34  Shipping Name                16815 non-null  object \n",
      " 35  Shipping Street              16815 non-null  object \n",
      " 36  Shipping Address1            16815 non-null  object \n",
      " 37  Shipping Address2            3867 non-null   object \n",
      " 38  Shipping Company             421 non-null    object \n",
      " 39  Shipping City                16815 non-null  object \n",
      " 40  Shipping Zip                 16741 non-null  object \n",
      " 41  Shipping Province            14744 non-null  object \n",
      " 42  Shipping Country             16815 non-null  object \n",
      " 43  Shipping Phone               16794 non-null  object \n",
      " 44  Notes                        5677 non-null   object \n",
      " 45  Note Attributes              6568 non-null   object \n",
      " 46  Cancelled at                 103 non-null    object \n",
      " 47  Payment Method               4325 non-null   object \n",
      " 48  Payment Reference            12835 non-null  object \n",
      " 49  Refunded Amount              16816 non-null  float64\n",
      " 50  Vendor                       23283 non-null  object \n",
      " 51  Outstanding Balance          16816 non-null  float64\n",
      " 52  Employee                     2 non-null      object \n",
      " 53  Location                     369 non-null    object \n",
      " 54  Device ID                    0 non-null      float64\n",
      " 55  Id                           16816 non-null  float64\n",
      " 56  Tags_x                       12872 non-null  object \n",
      " 57  Risk Level                   16816 non-null  object \n",
      " 58  Source                       16816 non-null  object \n",
      " 59  Lineitem discount            23283 non-null  float64\n",
      " 60  Tax 1 Name                   1138 non-null   object \n",
      " 61  Tax 1 Value                  1138 non-null   float64\n",
      " 62  Tax 2 Name                   524 non-null    object \n",
      " 63  Tax 2 Value                  524 non-null    float64\n",
      " 64  Tax 3 Name                   85 non-null     object \n",
      " 65  Tax 3 Value                  85 non-null     float64\n",
      " 66  Tax 4 Name                   0 non-null      float64\n",
      " 67  Tax 4 Value                  0 non-null      float64\n",
      " 68  Tax 5 Name                   0 non-null      float64\n",
      " 69  Tax 5 Value                  0 non-null      float64\n",
      " 70  Phone                        1346 non-null   float64\n",
      " 71  Receipt Number               0 non-null      float64\n",
      " 72  Duties                       0 non-null      float64\n",
      " 73  First Name                   23273 non-null  object \n",
      " 74  Last Name                    23283 non-null  object \n",
      " 75  customer recharge id         23283 non-null  int64  \n",
      " 76  Shopify customer id          23283 non-null  int64  \n",
      " 77  created at                   23283 non-null  object \n",
      " 78  First Charge Processed At    23283 non-null  object \n",
      " 79  status                       23283 non-null  object \n",
      " 80  Number Active Subscriptions  23283 non-null  int64  \n",
      " 81  Number Subscriptions         23283 non-null  int64  \n",
      " 82  portal_url                   23283 non-null  object \n",
      " 83  Total Spent                  23283 non-null  float64\n",
      " 84  Total Orders                 23283 non-null  int64  \n",
      " 85  Past Orders Count            23283 non-null  int64  \n",
      " 86  Tags_y                       23229 non-null  object \n",
      " 87  Address1                     23283 non-null  object \n",
      " 88  City                         23283 non-null  object \n",
      " 89  Province Code                20540 non-null  object \n",
      " 90  Country                      23283 non-null  object \n",
      " 91  Accepts Marketing_y          23283 non-null  object \n",
      "dtypes: bool(2), float64(23), int64(7), object(60)\n",
      "memory usage: 16.2+ MB\n"
     ]
    }
   ],
   "source": [
    "# for all orders active\n",
    "all_orders.rename(columns={'Email':'customer email'}, inplace=True)\n",
    "all_orders_active = all_orders.merge(merged_df_active, on='customer email', how='inner')\n",
    "all_orders_active.info()"
   ],
   "metadata": {
    "collapsed": false,
    "pycharm": {
     "name": "#%%\n"
    }
   }
  },
  {
   "cell_type": "code",
   "execution_count": 122,
   "outputs": [],
   "source": [
    "# template for the columns that we want\n",
    "columns = ['First Name', 'Last Name', 'customer email', 'customer recharge id', 'Shopify customer id', \n",
    "           'created at', 'First Charge Processed At', 'status', 'Number Active Subscriptions', \n",
    "           'Number Subscriptions', 'portal_url', 'Accepts Marketing_x', 'Total Spent', 'Total Orders',\n",
    "           'Past Orders Count', 'Paid at', 'Lineitem name', 'Lineitem sku', 'Lineitem quantity',\n",
    "           'Lineitem price', 'Subtotal', 'Total', 'Tags_x', 'Tags_y', 'Address1', 'City', 'Province Code', 'Country']"
   ],
   "metadata": {
    "collapsed": false,
    "pycharm": {
     "name": "#%%\n"
    }
   }
  },
  {
   "cell_type": "code",
   "execution_count": 123,
   "outputs": [
    {
     "name": "stdout",
     "output_type": "stream",
     "text": [
      "<class 'pandas.core.frame.DataFrame'>\n",
      "Int64Index: 23283 entries, 0 to 23282\n",
      "Data columns (total 28 columns):\n",
      " #   Column                       Non-Null Count  Dtype  \n",
      "---  ------                       --------------  -----  \n",
      " 0   First Name                   23273 non-null  object \n",
      " 1   Last Name                    23283 non-null  object \n",
      " 2   customer email               23283 non-null  object \n",
      " 3   customer recharge id         23283 non-null  int64  \n",
      " 4   Shopify customer id          23283 non-null  int64  \n",
      " 5   created at                   23283 non-null  object \n",
      " 6   First Charge Processed At    23283 non-null  object \n",
      " 7   status                       23283 non-null  object \n",
      " 8   Number Active Subscriptions  23283 non-null  int64  \n",
      " 9   Number Subscriptions         23283 non-null  int64  \n",
      " 10  portal_url                   23283 non-null  object \n",
      " 11  Accepts Marketing_x          16816 non-null  object \n",
      " 12  Total Spent                  23283 non-null  float64\n",
      " 13  Total Orders                 23283 non-null  int64  \n",
      " 14  Past Orders Count            23283 non-null  int64  \n",
      " 15  Paid at                      12667 non-null  object \n",
      " 16  Lineitem name                23283 non-null  object \n",
      " 17  Lineitem sku                 22451 non-null  object \n",
      " 18  Lineitem quantity            23283 non-null  int64  \n",
      " 19  Lineitem price               23283 non-null  float64\n",
      " 20  Subtotal                     16816 non-null  float64\n",
      " 21  Total                        16816 non-null  float64\n",
      " 22  Tags_x                       12872 non-null  object \n",
      " 23  Tags_y                       23229 non-null  object \n",
      " 24  Address1                     23283 non-null  object \n",
      " 25  City                         23283 non-null  object \n",
      " 26  Province Code                20540 non-null  object \n",
      " 27  Country                      23283 non-null  object \n",
      "dtypes: float64(4), int64(7), object(17)\n",
      "memory usage: 5.2+ MB\n"
     ]
    }
   ],
   "source": [
    "all_orders_active = all_orders_active[columns]\n",
    "all_orders_active.info()"
   ],
   "metadata": {
    "collapsed": false,
    "pycharm": {
     "name": "#%%\n"
    }
   }
  },
  {
   "cell_type": "code",
   "execution_count": 124,
   "outputs": [
    {
     "name": "stdout",
     "output_type": "stream",
     "text": [
      "<class 'pandas.core.frame.DataFrame'>\n",
      "Int64Index: 10937 entries, 0 to 10936\n",
      "Data columns (total 28 columns):\n",
      " #   Column                       Non-Null Count  Dtype  \n",
      "---  ------                       --------------  -----  \n",
      " 0   First Name                   10937 non-null  object \n",
      " 1   Last Name                    10937 non-null  object \n",
      " 2   customer email               10937 non-null  object \n",
      " 3   customer recharge id         10937 non-null  int64  \n",
      " 4   Shopify customer id          10937 non-null  int64  \n",
      " 5   created at                   10937 non-null  object \n",
      " 6   First Charge Processed At    10931 non-null  object \n",
      " 7   status                       10937 non-null  object \n",
      " 8   Number Active Subscriptions  10937 non-null  int64  \n",
      " 9   Number Subscriptions         10937 non-null  int64  \n",
      " 10  portal_url                   10937 non-null  object \n",
      " 11  Accepts Marketing_x          9438 non-null   object \n",
      " 12  Total Spent                  10937 non-null  float64\n",
      " 13  Total Orders                 10937 non-null  int64  \n",
      " 14  Past Orders Count            10937 non-null  int64  \n",
      " 15  Paid at                      7289 non-null   object \n",
      " 16  Lineitem name                10937 non-null  object \n",
      " 17  Lineitem sku                 10731 non-null  object \n",
      " 18  Lineitem quantity            10937 non-null  int64  \n",
      " 19  Lineitem price               10937 non-null  float64\n",
      " 20  Subtotal                     9438 non-null   float64\n",
      " 21  Total                        9438 non-null   float64\n",
      " 22  Tags_x                       8450 non-null   object \n",
      " 23  Tags_y                       10934 non-null  object \n",
      " 24  Address1                     10876 non-null  object \n",
      " 25  City                         10878 non-null  object \n",
      " 26  Province Code                8596 non-null   object \n",
      " 27  Country                      10878 non-null  object \n",
      "dtypes: float64(4), int64(7), object(17)\n",
      "memory usage: 2.4+ MB\n"
     ]
    }
   ],
   "source": [
    "# for all orders inactive\n",
    "all_orders_inactive = all_orders.merge(merged_df_inactive, on='customer email', how='inner')\n",
    "all_orders_inactive = all_orders_inactive[columns]\n",
    "all_orders_inactive.info()"
   ],
   "metadata": {
    "collapsed": false,
    "pycharm": {
     "name": "#%%\n"
    }
   }
  },
  {
   "cell_type": "markdown",
   "source": [
    "#### analysis on active"
   ],
   "metadata": {
    "collapsed": false,
    "pycharm": {
     "name": "#%% md\n"
    }
   }
  },
  {
   "cell_type": "code",
   "execution_count": 125,
   "outputs": [
    {
     "data": {
      "text/plain": "  First Name   Last Name       customer email  customer recharge id  \\\n0       Lori  Concepcion  pualii808@gmail.com              56512056   \n1       Lori  Concepcion  pualii808@gmail.com              56512056   \n2       Lori  Concepcion  pualii808@gmail.com              56512056   \n3      Malia       Jones    maliajs@yahoo.com              56509061   \n4      Malia       Jones    maliajs@yahoo.com              56509061   \n\n   Shopify customer id           created at First Charge Processed At  status  \\\n0        3498596860017  2021-01-06T20:45:04       2021-01-06 20:45:11  Active   \n1        3498596860017  2021-01-06T20:45:04       2021-01-06 20:45:11  Active   \n2        3498596860017  2021-01-06T20:45:04       2021-01-06 20:45:11  Active   \n3        3800958861425  2021-01-06T19:34:07       2021-01-06 19:34:14  Active   \n4        3800958861425  2021-01-06T19:34:07       2021-01-06 19:34:14  Active   \n\n   Number Active Subscriptions  Number Subscriptions  ... Lineitem quantity  \\\n0                            1                     1  ...                 1   \n1                            1                     1  ...                 1   \n2                            1                     1  ...                 1   \n3                            1                     1  ...                 1   \n4                            1                     1  ...                 1   \n\n  Lineitem price  Subtotal   Total  \\\n0         199.96    204.11  224.07   \n1           4.15       NaN     NaN   \n2         126.99    126.99  126.99   \n3          40.00     40.98   45.97   \n4           0.98       NaN     NaN   \n\n                                           Tags_x                     Tags_y  \\\n0  ANNUAL, Subscription, Subscription First Order  Active Subscriber, ANNUAL   \n1                                             NaN  Active Subscriber, ANNUAL   \n2                                             NaN  Active Subscriber, ANNUAL   \n3          Subscription, Subscription First Order          Active Subscriber   \n4                                             NaN          Active Subscriber   \n\n              Address1      City  Province Code        Country  \n0  2232 Kapiolani Blvd  Honolulu             HI  United States  \n1  2232 Kapiolani Blvd  Honolulu             HI  United States  \n2  2232 Kapiolani Blvd  Honolulu             HI  United States  \n3   4712 E La Dolce Rd   Colbert             WA  United States  \n4   4712 E La Dolce Rd   Colbert             WA  United States  \n\n[5 rows x 28 columns]",
      "text/html": "<div>\n<style scoped>\n    .dataframe tbody tr th:only-of-type {\n        vertical-align: middle;\n    }\n\n    .dataframe tbody tr th {\n        vertical-align: top;\n    }\n\n    .dataframe thead th {\n        text-align: right;\n    }\n</style>\n<table border=\"1\" class=\"dataframe\">\n  <thead>\n    <tr style=\"text-align: right;\">\n      <th></th>\n      <th>First Name</th>\n      <th>Last Name</th>\n      <th>customer email</th>\n      <th>customer recharge id</th>\n      <th>Shopify customer id</th>\n      <th>created at</th>\n      <th>First Charge Processed At</th>\n      <th>status</th>\n      <th>Number Active Subscriptions</th>\n      <th>Number Subscriptions</th>\n      <th>...</th>\n      <th>Lineitem quantity</th>\n      <th>Lineitem price</th>\n      <th>Subtotal</th>\n      <th>Total</th>\n      <th>Tags_x</th>\n      <th>Tags_y</th>\n      <th>Address1</th>\n      <th>City</th>\n      <th>Province Code</th>\n      <th>Country</th>\n    </tr>\n  </thead>\n  <tbody>\n    <tr>\n      <th>0</th>\n      <td>Lori</td>\n      <td>Concepcion</td>\n      <td>pualii808@gmail.com</td>\n      <td>56512056</td>\n      <td>3498596860017</td>\n      <td>2021-01-06T20:45:04</td>\n      <td>2021-01-06 20:45:11</td>\n      <td>Active</td>\n      <td>1</td>\n      <td>1</td>\n      <td>...</td>\n      <td>1</td>\n      <td>199.96</td>\n      <td>204.11</td>\n      <td>224.07</td>\n      <td>ANNUAL, Subscription, Subscription First Order</td>\n      <td>Active Subscriber, ANNUAL</td>\n      <td>2232 Kapiolani Blvd</td>\n      <td>Honolulu</td>\n      <td>HI</td>\n      <td>United States</td>\n    </tr>\n    <tr>\n      <th>1</th>\n      <td>Lori</td>\n      <td>Concepcion</td>\n      <td>pualii808@gmail.com</td>\n      <td>56512056</td>\n      <td>3498596860017</td>\n      <td>2021-01-06T20:45:04</td>\n      <td>2021-01-06 20:45:11</td>\n      <td>Active</td>\n      <td>1</td>\n      <td>1</td>\n      <td>...</td>\n      <td>1</td>\n      <td>4.15</td>\n      <td>NaN</td>\n      <td>NaN</td>\n      <td>NaN</td>\n      <td>Active Subscriber, ANNUAL</td>\n      <td>2232 Kapiolani Blvd</td>\n      <td>Honolulu</td>\n      <td>HI</td>\n      <td>United States</td>\n    </tr>\n    <tr>\n      <th>2</th>\n      <td>Lori</td>\n      <td>Concepcion</td>\n      <td>pualii808@gmail.com</td>\n      <td>56512056</td>\n      <td>3498596860017</td>\n      <td>2021-01-06T20:45:04</td>\n      <td>2021-01-06 20:45:11</td>\n      <td>Active</td>\n      <td>1</td>\n      <td>1</td>\n      <td>...</td>\n      <td>1</td>\n      <td>126.99</td>\n      <td>126.99</td>\n      <td>126.99</td>\n      <td>NaN</td>\n      <td>Active Subscriber, ANNUAL</td>\n      <td>2232 Kapiolani Blvd</td>\n      <td>Honolulu</td>\n      <td>HI</td>\n      <td>United States</td>\n    </tr>\n    <tr>\n      <th>3</th>\n      <td>Malia</td>\n      <td>Jones</td>\n      <td>maliajs@yahoo.com</td>\n      <td>56509061</td>\n      <td>3800958861425</td>\n      <td>2021-01-06T19:34:07</td>\n      <td>2021-01-06 19:34:14</td>\n      <td>Active</td>\n      <td>1</td>\n      <td>1</td>\n      <td>...</td>\n      <td>1</td>\n      <td>40.00</td>\n      <td>40.98</td>\n      <td>45.97</td>\n      <td>Subscription, Subscription First Order</td>\n      <td>Active Subscriber</td>\n      <td>4712 E La Dolce Rd</td>\n      <td>Colbert</td>\n      <td>WA</td>\n      <td>United States</td>\n    </tr>\n    <tr>\n      <th>4</th>\n      <td>Malia</td>\n      <td>Jones</td>\n      <td>maliajs@yahoo.com</td>\n      <td>56509061</td>\n      <td>3800958861425</td>\n      <td>2021-01-06T19:34:07</td>\n      <td>2021-01-06 19:34:14</td>\n      <td>Active</td>\n      <td>1</td>\n      <td>1</td>\n      <td>...</td>\n      <td>1</td>\n      <td>0.98</td>\n      <td>NaN</td>\n      <td>NaN</td>\n      <td>NaN</td>\n      <td>Active Subscriber</td>\n      <td>4712 E La Dolce Rd</td>\n      <td>Colbert</td>\n      <td>WA</td>\n      <td>United States</td>\n    </tr>\n  </tbody>\n</table>\n<p>5 rows × 28 columns</p>\n</div>"
     },
     "execution_count": 125,
     "metadata": {},
     "output_type": "execute_result"
    }
   ],
   "source": [
    "all_orders_active.head()"
   ],
   "metadata": {
    "collapsed": false,
    "pycharm": {
     "name": "#%%\n"
    }
   }
  },
  {
   "cell_type": "code",
   "execution_count": 127,
   "outputs": [],
   "source": [
    "all_orders_active.loc[\n",
    "    all_orders_active.duplicated(\n",
    "        ['customer email']),\n",
    "    ['Total Spent']] = np.nan\n",
    "all_orders_active.to_csv(\"all_orders_active.csv\")"
   ],
   "metadata": {
    "collapsed": false,
    "pycharm": {
     "name": "#%%\n"
    }
   }
  },
  {
   "cell_type": "markdown",
   "source": [
    "#### analysis on inactive"
   ],
   "metadata": {
    "collapsed": false,
    "pycharm": {
     "name": "#%% md\n"
    }
   }
  },
  {
   "cell_type": "code",
   "execution_count": 128,
   "outputs": [],
   "source": [
    "all_orders_inactive.loc[\n",
    "    all_orders_inactive.duplicated(\n",
    "        ['customer email']),\n",
    "    ['Total Spent']] = np.nan\n",
    "all_orders_inactive.to_csv(\"all_orders_inactive.csv\")"
   ],
   "metadata": {
    "collapsed": false,
    "pycharm": {
     "name": "#%%\n"
    }
   }
  },
  {
   "cell_type": "code",
   "execution_count": null,
   "outputs": [],
   "source": [],
   "metadata": {
    "collapsed": false,
    "pycharm": {
     "name": "#%%\n"
    }
   }
  }
 ],
 "metadata": {
  "kernelspec": {
   "display_name": "Python 3",
   "language": "python",
   "name": "python3"
  },
  "language_info": {
   "codemirror_mode": {
    "name": "ipython",
    "version": 2
   },
   "file_extension": ".py",
   "mimetype": "text/x-python",
   "name": "python",
   "nbconvert_exporter": "python",
   "pygments_lexer": "ipython2",
   "version": "2.7.6"
  }
 },
 "nbformat": 4,
 "nbformat_minor": 0
}