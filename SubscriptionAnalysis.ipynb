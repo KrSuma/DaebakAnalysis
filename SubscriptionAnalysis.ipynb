{
 "cells": [
  {
   "cell_type": "code",
   "execution_count": 1,
   "metadata": {
    "collapsed": true
   },
   "outputs": [],
   "source": [
    "import pandas as pd\n",
    "import numpy as np\n",
    "\n",
    "PATH = 'Purchased_items_1-13.csv'\n",
    "RC_PI = pd.read_csv(PATH, delimiter=',')"
   ]
  },
  {
   "cell_type": "code",
   "execution_count": 2,
   "outputs": [
    {
     "name": "stdout",
     "output_type": "stream",
     "text": [
      "<class 'pandas.core.frame.DataFrame'>\n",
      "RangeIndex: 9165 entries, 0 to 9164\n",
      "Data columns (total 44 columns):\n",
      " #   Column                           Non-Null Count  Dtype  \n",
      "---  ------                           --------------  -----  \n",
      " 0   customer_id                      9165 non-null   int64  \n",
      " 1   created_at                       9165 non-null   object \n",
      " 2   product_title                    9165 non-null   object \n",
      " 3   variant_title                    1081 non-null   object \n",
      " 4   product_variant_title            9165 non-null   object \n",
      " 5   recurring_price                  8067 non-null   float64\n",
      " 6   price                            9165 non-null   float64\n",
      " 7   quantity                         9165 non-null   int64  \n",
      " 8   shipping_interval_frequency      8068 non-null   float64\n",
      " 9   shipping_interval_unit_type      8068 non-null   object \n",
      " 10  purchase_item_id                 9165 non-null   int64  \n",
      " 11  purchase_id                      9165 non-null   int64  \n",
      " 12  variant_id                       9165 non-null   int64  \n",
      " 13  product_id                       9165 non-null   int64  \n",
      " 14  original_shipping_lines          9156 non-null   object \n",
      " 15  shipping_first_name              9151 non-null   object \n",
      " 16  shipping_last_name               9165 non-null   object \n",
      " 17  shipping_address_1               9165 non-null   object \n",
      " 18  shipping_address_2               2251 non-null   object \n",
      " 19  shipping_postalcode              9107 non-null   object \n",
      " 20  shipping_city                    9165 non-null   object \n",
      " 21  shipping_company                 315 non-null    object \n",
      " 22  shipping_province_state          7706 non-null   object \n",
      " 23  shipping_country                 9165 non-null   object \n",
      " 24  shipping_phone                   9107 non-null   object \n",
      " 25  billing_phone                    9154 non-null   object \n",
      " 26  first_name                       9161 non-null   object \n",
      " 27  last_name                        9165 non-null   object \n",
      " 28  email                            9165 non-null   object \n",
      " 29  charge_on_day_of_month           3313 non-null   float64\n",
      " 30  charge_on_day_of_week            0 non-null      float64\n",
      " 31  number_charges_until_expiration  206 non-null    float64\n",
      " 32  status                           9165 non-null   object \n",
      " 33  properties                       9149 non-null   object \n",
      " 34  ReCharge_variant_id              9165 non-null   int64  \n",
      " 35  charge_interval_frequency        8068 non-null   float64\n",
      " 36  charge_interval_unit_type        8068 non-null   object \n",
      " 37  cancelled_at                     4530 non-null   object \n",
      " 38  sku_override                     9126 non-null   object \n",
      " 39  deleted_at                       1083 non-null   object \n",
      " 40  recharge_discount_id_on_address  2636 non-null   float64\n",
      " 41  sku_override_check               9165 non-null   int64  \n",
      " 42  cutoff_day_of_week               0 non-null      float64\n",
      " 43  cutoff_day_of_month              0 non-null      float64\n",
      "dtypes: float64(10), int64(8), object(26)\n",
      "memory usage: 3.1+ MB\n"
     ]
    }
   ],
   "source": [
    "RC_PI.info()"
   ],
   "metadata": {
    "collapsed": false,
    "pycharm": {
     "name": "#%%\n"
    }
   }
  },
  {
   "cell_type": "code",
   "execution_count": 4,
   "outputs": [
    {
     "data": {
      "text/plain": "        customer_id  recurring_price        price     quantity  \\\ncount  9.165000e+03      8067.000000  9165.000000  9165.000000   \nmean   3.971576e+07        90.869267    81.181700     1.007310   \nstd    7.592306e+06        64.261516    65.975392     0.116563   \nmin    3.141258e+07         0.000000     0.000000     1.000000   \n25%    3.307821e+07        49.990000    49.990000     1.000000   \n50%    3.662454e+07        54.990000    54.990000     1.000000   \n75%    4.437642e+07       179.960000   117.000000     1.000000   \nmax    5.686593e+07       444.000000   444.000000     6.000000   \n\n       shipping_interval_frequency  purchase_item_id   purchase_id  \\\ncount                  8068.000000      9.165000e+03  9.165000e+03   \nmean                      2.826103      7.524134e+07  4.521731e+07   \nstd                       0.740128      2.488957e+07  8.088382e+06   \nmin                       1.000000      4.788662e+07  3.528443e+07   \n25%                       3.000000      5.254958e+07  3.789621e+07   \n50%                       3.000000      7.094163e+07  4.423175e+07   \n75%                       3.000000      9.456678e+07  5.142237e+07   \nmax                      12.000000      1.246078e+08  6.099015e+07   \n\n         variant_id    product_id  charge_on_day_of_month  \\\ncount  9.165000e+03  9.165000e+03                  3313.0   \nmean   3.008670e+13  4.101426e+12                     0.0   \nstd    9.806937e+11  2.312435e+11                     0.0   \nmin    2.944464e+13  3.962092e+12                     0.0   \n25%    2.944464e+13  3.962092e+12                     0.0   \n50%    2.952593e+13  3.962096e+12                     0.0   \n75%    3.143095e+13  4.411794e+12                     0.0   \nmax    3.219347e+13  4.616237e+12                     0.0   \n\n       charge_on_day_of_week  number_charges_until_expiration  \\\ncount                    0.0                       206.000000   \nmean                     NaN                         2.368932   \nstd                      NaN                         1.497903   \nmin                      NaN                         1.000000   \n25%                      NaN                         1.000000   \n50%                      NaN                         1.000000   \n75%                      NaN                         4.000000   \nmax                      NaN                         4.000000   \n\n       ReCharge_variant_id  charge_interval_frequency  \\\ncount         9.165000e+03                8068.000000   \nmean          2.647811e+07                   5.527888   \nstd           2.114241e+06                   4.245222   \nmin           2.509732e+07                   1.000000   \n25%           2.509732e+07                   3.000000   \n50%           2.524882e+07                   3.000000   \n75%           2.888326e+07                  12.000000   \nmax           3.192309e+07                  12.000000   \n\n       recharge_discount_id_on_address  sku_override_check  \\\ncount                     2.636000e+03              9165.0   \nmean                      2.094203e+07                 0.0   \nstd                       4.929937e+06                 0.0   \nmin                       1.805535e+07                 0.0   \n25%                       1.812043e+07                 0.0   \n50%                       1.886042e+07                 0.0   \n75%                       2.146045e+07                 0.0   \nmax                       4.594564e+07                 0.0   \n\n       cutoff_day_of_week  cutoff_day_of_month  \ncount                 0.0                  0.0  \nmean                  NaN                  NaN  \nstd                   NaN                  NaN  \nmin                   NaN                  NaN  \n25%                   NaN                  NaN  \n50%                   NaN                  NaN  \n75%                   NaN                  NaN  \nmax                   NaN                  NaN  ",
      "text/html": "<div>\n<style scoped>\n    .dataframe tbody tr th:only-of-type {\n        vertical-align: middle;\n    }\n\n    .dataframe tbody tr th {\n        vertical-align: top;\n    }\n\n    .dataframe thead th {\n        text-align: right;\n    }\n</style>\n<table border=\"1\" class=\"dataframe\">\n  <thead>\n    <tr style=\"text-align: right;\">\n      <th></th>\n      <th>customer_id</th>\n      <th>recurring_price</th>\n      <th>price</th>\n      <th>quantity</th>\n      <th>shipping_interval_frequency</th>\n      <th>purchase_item_id</th>\n      <th>purchase_id</th>\n      <th>variant_id</th>\n      <th>product_id</th>\n      <th>charge_on_day_of_month</th>\n      <th>charge_on_day_of_week</th>\n      <th>number_charges_until_expiration</th>\n      <th>ReCharge_variant_id</th>\n      <th>charge_interval_frequency</th>\n      <th>recharge_discount_id_on_address</th>\n      <th>sku_override_check</th>\n      <th>cutoff_day_of_week</th>\n      <th>cutoff_day_of_month</th>\n    </tr>\n  </thead>\n  <tbody>\n    <tr>\n      <th>count</th>\n      <td>9.165000e+03</td>\n      <td>8067.000000</td>\n      <td>9165.000000</td>\n      <td>9165.000000</td>\n      <td>8068.000000</td>\n      <td>9.165000e+03</td>\n      <td>9.165000e+03</td>\n      <td>9.165000e+03</td>\n      <td>9.165000e+03</td>\n      <td>3313.0</td>\n      <td>0.0</td>\n      <td>206.000000</td>\n      <td>9.165000e+03</td>\n      <td>8068.000000</td>\n      <td>2.636000e+03</td>\n      <td>9165.0</td>\n      <td>0.0</td>\n      <td>0.0</td>\n    </tr>\n    <tr>\n      <th>mean</th>\n      <td>3.971576e+07</td>\n      <td>90.869267</td>\n      <td>81.181700</td>\n      <td>1.007310</td>\n      <td>2.826103</td>\n      <td>7.524134e+07</td>\n      <td>4.521731e+07</td>\n      <td>3.008670e+13</td>\n      <td>4.101426e+12</td>\n      <td>0.0</td>\n      <td>NaN</td>\n      <td>2.368932</td>\n      <td>2.647811e+07</td>\n      <td>5.527888</td>\n      <td>2.094203e+07</td>\n      <td>0.0</td>\n      <td>NaN</td>\n      <td>NaN</td>\n    </tr>\n    <tr>\n      <th>std</th>\n      <td>7.592306e+06</td>\n      <td>64.261516</td>\n      <td>65.975392</td>\n      <td>0.116563</td>\n      <td>0.740128</td>\n      <td>2.488957e+07</td>\n      <td>8.088382e+06</td>\n      <td>9.806937e+11</td>\n      <td>2.312435e+11</td>\n      <td>0.0</td>\n      <td>NaN</td>\n      <td>1.497903</td>\n      <td>2.114241e+06</td>\n      <td>4.245222</td>\n      <td>4.929937e+06</td>\n      <td>0.0</td>\n      <td>NaN</td>\n      <td>NaN</td>\n    </tr>\n    <tr>\n      <th>min</th>\n      <td>3.141258e+07</td>\n      <td>0.000000</td>\n      <td>0.000000</td>\n      <td>1.000000</td>\n      <td>1.000000</td>\n      <td>4.788662e+07</td>\n      <td>3.528443e+07</td>\n      <td>2.944464e+13</td>\n      <td>3.962092e+12</td>\n      <td>0.0</td>\n      <td>NaN</td>\n      <td>1.000000</td>\n      <td>2.509732e+07</td>\n      <td>1.000000</td>\n      <td>1.805535e+07</td>\n      <td>0.0</td>\n      <td>NaN</td>\n      <td>NaN</td>\n    </tr>\n    <tr>\n      <th>25%</th>\n      <td>3.307821e+07</td>\n      <td>49.990000</td>\n      <td>49.990000</td>\n      <td>1.000000</td>\n      <td>3.000000</td>\n      <td>5.254958e+07</td>\n      <td>3.789621e+07</td>\n      <td>2.944464e+13</td>\n      <td>3.962092e+12</td>\n      <td>0.0</td>\n      <td>NaN</td>\n      <td>1.000000</td>\n      <td>2.509732e+07</td>\n      <td>3.000000</td>\n      <td>1.812043e+07</td>\n      <td>0.0</td>\n      <td>NaN</td>\n      <td>NaN</td>\n    </tr>\n    <tr>\n      <th>50%</th>\n      <td>3.662454e+07</td>\n      <td>54.990000</td>\n      <td>54.990000</td>\n      <td>1.000000</td>\n      <td>3.000000</td>\n      <td>7.094163e+07</td>\n      <td>4.423175e+07</td>\n      <td>2.952593e+13</td>\n      <td>3.962096e+12</td>\n      <td>0.0</td>\n      <td>NaN</td>\n      <td>1.000000</td>\n      <td>2.524882e+07</td>\n      <td>3.000000</td>\n      <td>1.886042e+07</td>\n      <td>0.0</td>\n      <td>NaN</td>\n      <td>NaN</td>\n    </tr>\n    <tr>\n      <th>75%</th>\n      <td>4.437642e+07</td>\n      <td>179.960000</td>\n      <td>117.000000</td>\n      <td>1.000000</td>\n      <td>3.000000</td>\n      <td>9.456678e+07</td>\n      <td>5.142237e+07</td>\n      <td>3.143095e+13</td>\n      <td>4.411794e+12</td>\n      <td>0.0</td>\n      <td>NaN</td>\n      <td>4.000000</td>\n      <td>2.888326e+07</td>\n      <td>12.000000</td>\n      <td>2.146045e+07</td>\n      <td>0.0</td>\n      <td>NaN</td>\n      <td>NaN</td>\n    </tr>\n    <tr>\n      <th>max</th>\n      <td>5.686593e+07</td>\n      <td>444.000000</td>\n      <td>444.000000</td>\n      <td>6.000000</td>\n      <td>12.000000</td>\n      <td>1.246078e+08</td>\n      <td>6.099015e+07</td>\n      <td>3.219347e+13</td>\n      <td>4.616237e+12</td>\n      <td>0.0</td>\n      <td>NaN</td>\n      <td>4.000000</td>\n      <td>3.192309e+07</td>\n      <td>12.000000</td>\n      <td>4.594564e+07</td>\n      <td>0.0</td>\n      <td>NaN</td>\n      <td>NaN</td>\n    </tr>\n  </tbody>\n</table>\n</div>"
     },
     "execution_count": 4,
     "metadata": {},
     "output_type": "execute_result"
    }
   ],
   "source": [
    "RC_PI.describe()"
   ],
   "metadata": {
    "collapsed": false,
    "pycharm": {
     "name": "#%%\n"
    }
   }
  },
  {
   "cell_type": "code",
   "execution_count": null,
   "outputs": [],
   "source": [
    "'''\n",
    "1. take all the emails from purchased items dataset in recharge\n",
    "2. take all the active subscribers, and then\n",
    "3. compare and merge with all_customers and see if they bought anything other than the subs\n",
    "4. find details about this\n",
    "\n",
    "'percentage of customers with a subscription who also purchase from the shop'\n",
    "'''\n",
    "\n"
   ],
   "metadata": {
    "collapsed": false,
    "pycharm": {
     "name": "#%%\n"
    }
   }
  }
 ],
 "metadata": {
  "kernelspec": {
   "display_name": "Python 3",
   "language": "python",
   "name": "python3"
  },
  "language_info": {
   "codemirror_mode": {
    "name": "ipython",
    "version": 2
   },
   "file_extension": ".py",
   "mimetype": "text/x-python",
   "name": "python",
   "nbconvert_exporter": "python",
   "pygments_lexer": "ipython2",
   "version": "2.7.6"
  }
 },
 "nbformat": 4,
 "nbformat_minor": 0
}