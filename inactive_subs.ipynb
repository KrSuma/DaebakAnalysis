{
 "nbformat": 4,
 "nbformat_minor": 0,
 "metadata": {
  "kernelspec": {
   "display_name": "Python 3",
   "language": "python",
   "name": "python3"
  },
  "language_info": {
   "codemirror_mode": {
    "name": "ipython",
    "version": 3
   },
   "file_extension": ".py",
   "mimetype": "text/x-python",
   "name": "python",
   "nbconvert_exporter": "python",
   "pygments_lexer": "ipython3",
   "version": "3.7.2"
  },
  "colab": {
   "name": "inactive_subs.ipynb",
   "provenance": [],
   "collapsed_sections": [
    "irTSW-k7HcWk"
   ]
  }
 },
 "cells": [
  {
   "cell_type": "markdown",
   "metadata": {
    "pycharm": {
     "name": "#%% md\n"
    },
    "id": "_fEPVwBMHcWX"
   },
   "source": [
    "## Inactive Subscription data analysis\n",
    "\n",
    "## Part 1"
   ]
  },
  {
   "cell_type": "code",
   "metadata": {
    "id": "5gjaCbrMM6pX"
   },
   "source": [
    "# from IPython.display import set_matplotlib_formats\n",
    "# set_matplotlib_formats('pdf', 'svg')"
   ],
   "execution_count": 1,
   "outputs": []
  },
  {
   "cell_type": "code",
   "metadata": {
    "id": "X8jLt4tUHcWX"
   },
   "source": [
    "import pandas as pd\n",
    "import numpy as np\n",
    "import matplotlib.pyplot as plt\n",
    "import matplotlib as mpl\n",
    "import scipy.stats as st\n",
    "import math\n",
    "\n",
    "%matplotlib inline\n",
    "\n",
    "def get_best_distribution(data):\n",
    "    dist_names = [\"norm\", \"exponweib\", \"weibull_max\", \"weibull_min\", \"pareto\", \"genextreme\"]\n",
    "    dist_results = []\n",
    "    params = {}\n",
    "    for dist_name in dist_names:\n",
    "        dist = getattr(st, dist_name)\n",
    "        param = dist.fit(data)\n",
    "\n",
    "        params[dist_name] = param\n",
    "        # Applying the Kolmogorov-Smirnov test\n",
    "        D, p = st.kstest(data, dist_name, args=param)\n",
    "        print(\"p value for \"+dist_name+\" = \"+str(p))\n",
    "        dist_results.append((dist_name, p))\n",
    "\n",
    "    # select the best fitted distribution\n",
    "    best_dist, best_p = (max(dist_results, key=lambda item: item[1]))\n",
    "    # store the name of the best fit and its p value\n",
    "\n",
    "    print(\"Best fitting distribution: \"+str(best_dist))\n",
    "    print(\"Best p value: \"+ str(best_p))\n",
    "    print(\"Parameters for the best fit: \"+ str(params[best_dist]))\n",
    "\n",
    "    return best_dist, best_p, params[best_dist]\n",
    "\n",
    "\n",
    "mpl.rcParams.update(mpl.rcParamsDefault)\n",
    "\n",
    "# makes plots visible in pycharm\n",
    "plt.style.use({'figure.facecolor':'white'})\n",
    "\n",
    "PATH = 'inactive_customers_1-13.csv'\n",
    "df = pd.read_csv(PATH, delimiter=',')"
   ],
   "execution_count": 2,
   "outputs": []
  },
  {
   "cell_type": "code",
   "metadata": {
    "pycharm": {
     "name": "#%%\n"
    },
    "id": "E79_wp8_HcWX",
    "colab": {
     "base_uri": "https://localhost:8080/"
    },
    "outputId": "86394eaa-fc66-4f01-90ef-8ff2a2438447"
   },
   "source": [
    "df.columns.tolist()"
   ],
   "execution_count": 3,
   "outputs": [
    {
     "data": {
      "text/plain": "['customer created date',\n 'recharge customer id',\n 'recharge purchase id',\n 'item created date',\n 'cancellation date',\n 'customer first name',\n 'customer last name',\n 'customer email',\n 'customer phone',\n 'customer status',\n 'past orders count',\n 'product title',\n 'variant title',\n 'quantity',\n 'cancel reason',\n 'cancel reason comments',\n 'still has valid payment method',\n 'total number active subscriptions',\n 'total number of subscriptions']"
     },
     "execution_count": 3,
     "metadata": {},
     "output_type": "execute_result"
    }
   ]
  },
  {
   "cell_type": "code",
   "metadata": {
    "pycharm": {
     "name": "#%%\n"
    },
    "id": "tDQldJtNHcWY",
    "colab": {
     "base_uri": "https://localhost:8080/",
     "height": 819
    },
    "outputId": "66ea9230-8455-47eb-e85c-4f22f6c3c4a0"
   },
   "source": [
    "df.head()"
   ],
   "execution_count": 4,
   "outputs": [
    {
     "data": {
      "text/plain": "  customer created date  recharge customer id  recharge purchase id  \\\n0   2020-08-15 16:12:42              47160030              52021211   \n1   2020-08-27 14:51:47              48006409              52897547   \n2   2020-07-16 12:54:41              45495864              50296041   \n3   2020-12-14 00:09:42              55145806              59311519   \n4   2020-08-24 19:57:14              47614713              52494706   \n\n     item created date    cancellation date customer first name  \\\n0  2020-08-15 16:12:49  2021-01-12 16:14:42         Angela Rose   \n1  2020-08-27 14:51:50  2021-01-12 12:30:37               Blair   \n2  2020-07-16 12:54:46  2021-01-12 10:21:37              Hannah   \n3  2020-12-14 00:09:46  2021-01-12 09:43:02             Matthew   \n4  2020-08-24 19:57:19  2021-01-12 07:41:46           christina   \n\n  customer last name                customer email    customer phone  \\\n0              Lopez          angelr0777@gmail.com        9164771113   \n1         Kellerhals  cloudagesymphony01@gmail.com  +1(970) 380-3700   \n2             Jensen      hannahjensen97@yahoo.com        2567862773   \n3              Berky        berkymatthew@gmail.com   1(860) 333-7684   \n4              lucas       clucasbrown71@gmail.com        6028315274   \n\n  customer status  past orders count  \\\n0       CANCELLED                  2   \n1       CANCELLED                  2   \n2       CANCELLED                  3   \n3       CANCELLED                  1   \n4       CANCELLED                  1   \n\n                                       product title variant title  quantity  \\\n0  Daebak Box - Seasonal Plan (auto-renews, cance...           NaN         1   \n1  Daebak Box - Seasonal Plan (auto-renews, cance...           NaN         1   \n2  Daebak Jewelry Collection - Seasonal Plan (aut...           NaN         1   \n3  Deluxe - Month to Month (auto-renews, cancel a...           NaN         1   \n4                 Deluxe - 6 Month Prepay Auto renew           NaN         1   \n\n                    cancel reason  \\\n0               Financial reasons   \n1  Planning to re-subscribe later   \n2  Planning to re-subscribe later   \n3           I only wanted one box   \n4                 Shipping issues   \n\n                              cancel reason comments  \\\n0                                                NaN   \n1                                                NaN   \n2                                                NaN   \n3                                                NaN   \n4  all of the snacks were melted in the last box ...   \n\n   still has valid payment method  total number active subscriptions  \\\n0                               1                                  0   \n1                               1                                  0   \n2                               1                                  0   \n3                               1                                  0   \n4                               1                                  0   \n\n   total number of subscriptions  \n0                              1  \n1                              1  \n2                              1  \n3                              1  \n4                              1  ",
      "text/html": "<div>\n<style scoped>\n    .dataframe tbody tr th:only-of-type {\n        vertical-align: middle;\n    }\n\n    .dataframe tbody tr th {\n        vertical-align: top;\n    }\n\n    .dataframe thead th {\n        text-align: right;\n    }\n</style>\n<table border=\"1\" class=\"dataframe\">\n  <thead>\n    <tr style=\"text-align: right;\">\n      <th></th>\n      <th>customer created date</th>\n      <th>recharge customer id</th>\n      <th>recharge purchase id</th>\n      <th>item created date</th>\n      <th>cancellation date</th>\n      <th>customer first name</th>\n      <th>customer last name</th>\n      <th>customer email</th>\n      <th>customer phone</th>\n      <th>customer status</th>\n      <th>past orders count</th>\n      <th>product title</th>\n      <th>variant title</th>\n      <th>quantity</th>\n      <th>cancel reason</th>\n      <th>cancel reason comments</th>\n      <th>still has valid payment method</th>\n      <th>total number active subscriptions</th>\n      <th>total number of subscriptions</th>\n    </tr>\n  </thead>\n  <tbody>\n    <tr>\n      <th>0</th>\n      <td>2020-08-15 16:12:42</td>\n      <td>47160030</td>\n      <td>52021211</td>\n      <td>2020-08-15 16:12:49</td>\n      <td>2021-01-12 16:14:42</td>\n      <td>Angela Rose</td>\n      <td>Lopez</td>\n      <td>angelr0777@gmail.com</td>\n      <td>9164771113</td>\n      <td>CANCELLED</td>\n      <td>2</td>\n      <td>Daebak Box - Seasonal Plan (auto-renews, cance...</td>\n      <td>NaN</td>\n      <td>1</td>\n      <td>Financial reasons</td>\n      <td>NaN</td>\n      <td>1</td>\n      <td>0</td>\n      <td>1</td>\n    </tr>\n    <tr>\n      <th>1</th>\n      <td>2020-08-27 14:51:47</td>\n      <td>48006409</td>\n      <td>52897547</td>\n      <td>2020-08-27 14:51:50</td>\n      <td>2021-01-12 12:30:37</td>\n      <td>Blair</td>\n      <td>Kellerhals</td>\n      <td>cloudagesymphony01@gmail.com</td>\n      <td>+1(970) 380-3700</td>\n      <td>CANCELLED</td>\n      <td>2</td>\n      <td>Daebak Box - Seasonal Plan (auto-renews, cance...</td>\n      <td>NaN</td>\n      <td>1</td>\n      <td>Planning to re-subscribe later</td>\n      <td>NaN</td>\n      <td>1</td>\n      <td>0</td>\n      <td>1</td>\n    </tr>\n    <tr>\n      <th>2</th>\n      <td>2020-07-16 12:54:41</td>\n      <td>45495864</td>\n      <td>50296041</td>\n      <td>2020-07-16 12:54:46</td>\n      <td>2021-01-12 10:21:37</td>\n      <td>Hannah</td>\n      <td>Jensen</td>\n      <td>hannahjensen97@yahoo.com</td>\n      <td>2567862773</td>\n      <td>CANCELLED</td>\n      <td>3</td>\n      <td>Daebak Jewelry Collection - Seasonal Plan (aut...</td>\n      <td>NaN</td>\n      <td>1</td>\n      <td>Planning to re-subscribe later</td>\n      <td>NaN</td>\n      <td>1</td>\n      <td>0</td>\n      <td>1</td>\n    </tr>\n    <tr>\n      <th>3</th>\n      <td>2020-12-14 00:09:42</td>\n      <td>55145806</td>\n      <td>59311519</td>\n      <td>2020-12-14 00:09:46</td>\n      <td>2021-01-12 09:43:02</td>\n      <td>Matthew</td>\n      <td>Berky</td>\n      <td>berkymatthew@gmail.com</td>\n      <td>1(860) 333-7684</td>\n      <td>CANCELLED</td>\n      <td>1</td>\n      <td>Deluxe - Month to Month (auto-renews, cancel a...</td>\n      <td>NaN</td>\n      <td>1</td>\n      <td>I only wanted one box</td>\n      <td>NaN</td>\n      <td>1</td>\n      <td>0</td>\n      <td>1</td>\n    </tr>\n    <tr>\n      <th>4</th>\n      <td>2020-08-24 19:57:14</td>\n      <td>47614713</td>\n      <td>52494706</td>\n      <td>2020-08-24 19:57:19</td>\n      <td>2021-01-12 07:41:46</td>\n      <td>christina</td>\n      <td>lucas</td>\n      <td>clucasbrown71@gmail.com</td>\n      <td>6028315274</td>\n      <td>CANCELLED</td>\n      <td>1</td>\n      <td>Deluxe - 6 Month Prepay Auto renew</td>\n      <td>NaN</td>\n      <td>1</td>\n      <td>Shipping issues</td>\n      <td>all of the snacks were melted in the last box ...</td>\n      <td>1</td>\n      <td>0</td>\n      <td>1</td>\n    </tr>\n  </tbody>\n</table>\n</div>"
     },
     "execution_count": 4,
     "metadata": {},
     "output_type": "execute_result"
    }
   ]
  },
  {
   "cell_type": "code",
   "metadata": {
    "pycharm": {
     "name": "#%%\n"
    },
    "id": "kk2mqacaHcWY",
    "colab": {
     "base_uri": "https://localhost:8080/"
    },
    "outputId": "b9c56ddb-cb1e-4494-f0d9-58799ef3aee4"
   },
   "source": [
    "df.info()\n"
   ],
   "execution_count": 5,
   "outputs": [
    {
     "name": "stdout",
     "output_type": "stream",
     "text": [
      "<class 'pandas.core.frame.DataFrame'>\n",
      "RangeIndex: 4201 entries, 0 to 4200\n",
      "Data columns (total 19 columns):\n",
      " #   Column                             Non-Null Count  Dtype \n",
      "---  ------                             --------------  ----- \n",
      " 0   customer created date              4201 non-null   object\n",
      " 1   recharge customer id               4201 non-null   int64 \n",
      " 2   recharge purchase id               4201 non-null   int64 \n",
      " 3   item created date                  4201 non-null   object\n",
      " 4   cancellation date                  4201 non-null   object\n",
      " 5   customer first name                4199 non-null   object\n",
      " 6   customer last name                 4201 non-null   object\n",
      " 7   customer email                     4201 non-null   object\n",
      " 8   customer phone                     4174 non-null   object\n",
      " 9   customer status                    4201 non-null   object\n",
      " 10  past orders count                  4201 non-null   int64 \n",
      " 11  product title                      4201 non-null   object\n",
      " 12  variant title                      162 non-null    object\n",
      " 13  quantity                           4201 non-null   int64 \n",
      " 14  cancel reason                      4197 non-null   object\n",
      " 15  cancel reason comments             443 non-null    object\n",
      " 16  still has valid payment method     4201 non-null   int64 \n",
      " 17  total number active subscriptions  4201 non-null   int64 \n",
      " 18  total number of subscriptions      4201 non-null   int64 \n",
      "dtypes: int64(7), object(12)\n",
      "memory usage: 623.7+ KB\n"
     ]
    }
   ]
  },
  {
   "cell_type": "code",
   "metadata": {
    "pycharm": {
     "name": "#%%\n"
    },
    "id": "CIo0ioeHHcWY",
    "colab": {
     "base_uri": "https://localhost:8080/",
     "height": 297
    },
    "outputId": "64f55f08-c407-4f9f-98b7-5d777a9056dc"
   },
   "source": [
    "df.describe()"
   ],
   "execution_count": 6,
   "outputs": [
    {
     "data": {
      "text/plain": "       recharge customer id  recharge purchase id  past orders count  \\\ncount          4.201000e+03          4.201000e+03        4201.000000   \nmean           3.755097e+07          4.225960e+07           1.990002   \nstd            5.926332e+06          6.263554e+06           1.396559   \nmin            3.141258e+07          3.528443e+07           0.000000   \n25%            3.290311e+07          3.725724e+07           1.000000   \n50%            3.476403e+07          3.938167e+07           2.000000   \n75%            4.200058e+07          4.716193e+07           2.000000   \nmax            5.672805e+07          6.083991e+07          15.000000   \n\n          quantity  still has valid payment method  \\\ncount  4201.000000                     4201.000000   \nmean      1.005475                        0.857891   \nstd       0.091123                        0.349203   \nmin       1.000000                        0.000000   \n25%       1.000000                        1.000000   \n50%       1.000000                        1.000000   \n75%       1.000000                        1.000000   \nmax       5.000000                        1.000000   \n\n       total number active subscriptions  total number of subscriptions  \ncount                             4201.0                    4201.000000  \nmean                                 0.0                       1.181861  \nstd                                  0.0                       0.642365  \nmin                                  0.0                       1.000000  \n25%                                  0.0                       1.000000  \n50%                                  0.0                       1.000000  \n75%                                  0.0                       1.000000  \nmax                                  0.0                      10.000000  ",
      "text/html": "<div>\n<style scoped>\n    .dataframe tbody tr th:only-of-type {\n        vertical-align: middle;\n    }\n\n    .dataframe tbody tr th {\n        vertical-align: top;\n    }\n\n    .dataframe thead th {\n        text-align: right;\n    }\n</style>\n<table border=\"1\" class=\"dataframe\">\n  <thead>\n    <tr style=\"text-align: right;\">\n      <th></th>\n      <th>recharge customer id</th>\n      <th>recharge purchase id</th>\n      <th>past orders count</th>\n      <th>quantity</th>\n      <th>still has valid payment method</th>\n      <th>total number active subscriptions</th>\n      <th>total number of subscriptions</th>\n    </tr>\n  </thead>\n  <tbody>\n    <tr>\n      <th>count</th>\n      <td>4.201000e+03</td>\n      <td>4.201000e+03</td>\n      <td>4201.000000</td>\n      <td>4201.000000</td>\n      <td>4201.000000</td>\n      <td>4201.0</td>\n      <td>4201.000000</td>\n    </tr>\n    <tr>\n      <th>mean</th>\n      <td>3.755097e+07</td>\n      <td>4.225960e+07</td>\n      <td>1.990002</td>\n      <td>1.005475</td>\n      <td>0.857891</td>\n      <td>0.0</td>\n      <td>1.181861</td>\n    </tr>\n    <tr>\n      <th>std</th>\n      <td>5.926332e+06</td>\n      <td>6.263554e+06</td>\n      <td>1.396559</td>\n      <td>0.091123</td>\n      <td>0.349203</td>\n      <td>0.0</td>\n      <td>0.642365</td>\n    </tr>\n    <tr>\n      <th>min</th>\n      <td>3.141258e+07</td>\n      <td>3.528443e+07</td>\n      <td>0.000000</td>\n      <td>1.000000</td>\n      <td>0.000000</td>\n      <td>0.0</td>\n      <td>1.000000</td>\n    </tr>\n    <tr>\n      <th>25%</th>\n      <td>3.290311e+07</td>\n      <td>3.725724e+07</td>\n      <td>1.000000</td>\n      <td>1.000000</td>\n      <td>1.000000</td>\n      <td>0.0</td>\n      <td>1.000000</td>\n    </tr>\n    <tr>\n      <th>50%</th>\n      <td>3.476403e+07</td>\n      <td>3.938167e+07</td>\n      <td>2.000000</td>\n      <td>1.000000</td>\n      <td>1.000000</td>\n      <td>0.0</td>\n      <td>1.000000</td>\n    </tr>\n    <tr>\n      <th>75%</th>\n      <td>4.200058e+07</td>\n      <td>4.716193e+07</td>\n      <td>2.000000</td>\n      <td>1.000000</td>\n      <td>1.000000</td>\n      <td>0.0</td>\n      <td>1.000000</td>\n    </tr>\n    <tr>\n      <th>max</th>\n      <td>5.672805e+07</td>\n      <td>6.083991e+07</td>\n      <td>15.000000</td>\n      <td>5.000000</td>\n      <td>1.000000</td>\n      <td>0.0</td>\n      <td>10.000000</td>\n    </tr>\n  </tbody>\n</table>\n</div>"
     },
     "execution_count": 6,
     "metadata": {},
     "output_type": "execute_result"
    }
   ]
  },
  {
   "cell_type": "code",
   "metadata": {
    "pycharm": {
     "name": "#%%\n"
    },
    "id": "gHz5Dv4zHcWZ",
    "colab": {
     "base_uri": "https://localhost:8080/"
    },
    "outputId": "0ae533cf-ea3d-4863-a347-2728ff74b51b"
   },
   "source": [
    "df['cancel reason'].value_counts()"
   ],
   "execution_count": 7,
   "outputs": [
    {
     "data": {
      "text/plain": "Financial reasons                        1151\nI only wanted one box                     984\nMax Number of Charge attempts reached     579\nPlanning to re-subscribe later            558\nOther reason                              405\nShipping issues                           206\nNot worth the price                       152\nI'm moving                                 42\nBox arrived too late                       40\nOther service issues                       40\nUpgrade to Annual                          23\nother                                      17\nName: cancel reason, dtype: int64"
     },
     "execution_count": 7,
     "metadata": {},
     "output_type": "execute_result"
    }
   ]
  },
  {
   "cell_type": "code",
   "metadata": {
    "pycharm": {
     "name": "#%%\n"
    },
    "id": "69AbHgI-HcWZ",
    "colab": {
     "base_uri": "https://localhost:8080/"
    },
    "outputId": "a29ff336-b5e4-4989-8ea4-e9b5f31501ac"
   },
   "source": [
    "df['cancel reason'].describe()"
   ],
   "execution_count": 8,
   "outputs": [
    {
     "data": {
      "text/plain": "count                  4197\nunique                   12\ntop       Financial reasons\nfreq                   1151\nName: cancel reason, dtype: object"
     },
     "execution_count": 8,
     "metadata": {},
     "output_type": "execute_result"
    }
   ]
  },
  {
   "cell_type": "markdown",
   "metadata": {
    "collapsed": false,
    "pycharm": {
     "name": "#%% md\n"
    },
    "id": "pqXlAymuHcWZ"
   },
   "source": [
    "#### total number of subscriptions = active + inactive"
   ]
  },
  {
   "cell_type": "code",
   "metadata": {
    "pycharm": {
     "name": "#%%\n"
    },
    "id": "tNSoMVziHcWZ",
    "colab": {
     "base_uri": "https://localhost:8080/"
    },
    "outputId": "ff3dbaf8-05e6-425d-9fab-61283e249c16"
   },
   "source": [
    "df['total number of subscriptions'].value_counts()"
   ],
   "execution_count": 9,
   "outputs": [
    {
     "data": {
      "text/plain": "1     3645\n2      453\n3       74\n10      11\n5       10\n4        8\nName: total number of subscriptions, dtype: int64"
     },
     "execution_count": 9,
     "metadata": {},
     "output_type": "execute_result"
    }
   ]
  },
  {
   "cell_type": "markdown",
   "metadata": {
    "collapsed": false,
    "id": "nIvhC_zqHcWa"
   },
   "source": [
    "#### total number of active subscriptions = only active - 1 means active"
   ]
  },
  {
   "cell_type": "code",
   "metadata": {
    "pycharm": {
     "name": "#%%\n"
    },
    "id": "qYi-nvAWHcWa",
    "colab": {
     "base_uri": "https://localhost:8080/"
    },
    "outputId": "6f124f38-4e45-4084-96db-1a3e3245f8ba"
   },
   "source": [
    "df['total number active subscriptions'].value_counts()\n"
   ],
   "execution_count": 10,
   "outputs": [
    {
     "data": {
      "text/plain": "0    4201\nName: total number active subscriptions, dtype: int64"
     },
     "execution_count": 10,
     "metadata": {},
     "output_type": "execute_result"
    }
   ]
  },
  {
   "cell_type": "code",
   "metadata": {
    "pycharm": {
     "name": "#%%\n"
    },
    "id": "iQQdSyROHcWa",
    "colab": {
     "base_uri": "https://localhost:8080/"
    },
    "outputId": "343984c7-9adc-4391-e7bb-e3cd66db32e3"
   },
   "source": [
    "df['past orders count'].value_counts()"
   ],
   "execution_count": 11,
   "outputs": [
    {
     "data": {
      "text/plain": "1     1961\n2     1290\n3      466\n4      229\n5      130\n6       71\n7       23\n10      11\n8        7\n0        5\n15       5\n9        3\nName: past orders count, dtype: int64"
     },
     "execution_count": 11,
     "metadata": {},
     "output_type": "execute_result"
    }
   ]
  },
  {
   "cell_type": "code",
   "metadata": {
    "pycharm": {
     "name": "#%%\n"
    },
    "id": "fXQhpOBnHcWa"
   },
   "source": [
    "df['cancellation date'] = pd.to_datetime(df['cancellation date'].astype(str))\n",
    "df['customer created date'] = pd.to_datetime(df['customer created date'].astype(str))"
   ],
   "execution_count": 12,
   "outputs": []
  },
  {
   "cell_type": "code",
   "metadata": {
    "pycharm": {
     "name": "#%%\n"
    },
    "id": "M4bZeo7JHcWa",
    "colab": {
     "base_uri": "https://localhost:8080/",
     "height": 819
    },
    "outputId": "a3496ab5-fcd0-4109-e0c3-85ec2107381f"
   },
   "source": [
    "df.head()"
   ],
   "execution_count": 13,
   "outputs": [
    {
     "data": {
      "text/plain": "  customer created date  recharge customer id  recharge purchase id  \\\n0   2020-08-15 16:12:42              47160030              52021211   \n1   2020-08-27 14:51:47              48006409              52897547   \n2   2020-07-16 12:54:41              45495864              50296041   \n3   2020-12-14 00:09:42              55145806              59311519   \n4   2020-08-24 19:57:14              47614713              52494706   \n\n     item created date   cancellation date customer first name  \\\n0  2020-08-15 16:12:49 2021-01-12 16:14:42         Angela Rose   \n1  2020-08-27 14:51:50 2021-01-12 12:30:37               Blair   \n2  2020-07-16 12:54:46 2021-01-12 10:21:37              Hannah   \n3  2020-12-14 00:09:46 2021-01-12 09:43:02             Matthew   \n4  2020-08-24 19:57:19 2021-01-12 07:41:46           christina   \n\n  customer last name                customer email    customer phone  \\\n0              Lopez          angelr0777@gmail.com        9164771113   \n1         Kellerhals  cloudagesymphony01@gmail.com  +1(970) 380-3700   \n2             Jensen      hannahjensen97@yahoo.com        2567862773   \n3              Berky        berkymatthew@gmail.com   1(860) 333-7684   \n4              lucas       clucasbrown71@gmail.com        6028315274   \n\n  customer status  past orders count  \\\n0       CANCELLED                  2   \n1       CANCELLED                  2   \n2       CANCELLED                  3   \n3       CANCELLED                  1   \n4       CANCELLED                  1   \n\n                                       product title variant title  quantity  \\\n0  Daebak Box - Seasonal Plan (auto-renews, cance...           NaN         1   \n1  Daebak Box - Seasonal Plan (auto-renews, cance...           NaN         1   \n2  Daebak Jewelry Collection - Seasonal Plan (aut...           NaN         1   \n3  Deluxe - Month to Month (auto-renews, cancel a...           NaN         1   \n4                 Deluxe - 6 Month Prepay Auto renew           NaN         1   \n\n                    cancel reason  \\\n0               Financial reasons   \n1  Planning to re-subscribe later   \n2  Planning to re-subscribe later   \n3           I only wanted one box   \n4                 Shipping issues   \n\n                              cancel reason comments  \\\n0                                                NaN   \n1                                                NaN   \n2                                                NaN   \n3                                                NaN   \n4  all of the snacks were melted in the last box ...   \n\n   still has valid payment method  total number active subscriptions  \\\n0                               1                                  0   \n1                               1                                  0   \n2                               1                                  0   \n3                               1                                  0   \n4                               1                                  0   \n\n   total number of subscriptions  \n0                              1  \n1                              1  \n2                              1  \n3                              1  \n4                              1  ",
      "text/html": "<div>\n<style scoped>\n    .dataframe tbody tr th:only-of-type {\n        vertical-align: middle;\n    }\n\n    .dataframe tbody tr th {\n        vertical-align: top;\n    }\n\n    .dataframe thead th {\n        text-align: right;\n    }\n</style>\n<table border=\"1\" class=\"dataframe\">\n  <thead>\n    <tr style=\"text-align: right;\">\n      <th></th>\n      <th>customer created date</th>\n      <th>recharge customer id</th>\n      <th>recharge purchase id</th>\n      <th>item created date</th>\n      <th>cancellation date</th>\n      <th>customer first name</th>\n      <th>customer last name</th>\n      <th>customer email</th>\n      <th>customer phone</th>\n      <th>customer status</th>\n      <th>past orders count</th>\n      <th>product title</th>\n      <th>variant title</th>\n      <th>quantity</th>\n      <th>cancel reason</th>\n      <th>cancel reason comments</th>\n      <th>still has valid payment method</th>\n      <th>total number active subscriptions</th>\n      <th>total number of subscriptions</th>\n    </tr>\n  </thead>\n  <tbody>\n    <tr>\n      <th>0</th>\n      <td>2020-08-15 16:12:42</td>\n      <td>47160030</td>\n      <td>52021211</td>\n      <td>2020-08-15 16:12:49</td>\n      <td>2021-01-12 16:14:42</td>\n      <td>Angela Rose</td>\n      <td>Lopez</td>\n      <td>angelr0777@gmail.com</td>\n      <td>9164771113</td>\n      <td>CANCELLED</td>\n      <td>2</td>\n      <td>Daebak Box - Seasonal Plan (auto-renews, cance...</td>\n      <td>NaN</td>\n      <td>1</td>\n      <td>Financial reasons</td>\n      <td>NaN</td>\n      <td>1</td>\n      <td>0</td>\n      <td>1</td>\n    </tr>\n    <tr>\n      <th>1</th>\n      <td>2020-08-27 14:51:47</td>\n      <td>48006409</td>\n      <td>52897547</td>\n      <td>2020-08-27 14:51:50</td>\n      <td>2021-01-12 12:30:37</td>\n      <td>Blair</td>\n      <td>Kellerhals</td>\n      <td>cloudagesymphony01@gmail.com</td>\n      <td>+1(970) 380-3700</td>\n      <td>CANCELLED</td>\n      <td>2</td>\n      <td>Daebak Box - Seasonal Plan (auto-renews, cance...</td>\n      <td>NaN</td>\n      <td>1</td>\n      <td>Planning to re-subscribe later</td>\n      <td>NaN</td>\n      <td>1</td>\n      <td>0</td>\n      <td>1</td>\n    </tr>\n    <tr>\n      <th>2</th>\n      <td>2020-07-16 12:54:41</td>\n      <td>45495864</td>\n      <td>50296041</td>\n      <td>2020-07-16 12:54:46</td>\n      <td>2021-01-12 10:21:37</td>\n      <td>Hannah</td>\n      <td>Jensen</td>\n      <td>hannahjensen97@yahoo.com</td>\n      <td>2567862773</td>\n      <td>CANCELLED</td>\n      <td>3</td>\n      <td>Daebak Jewelry Collection - Seasonal Plan (aut...</td>\n      <td>NaN</td>\n      <td>1</td>\n      <td>Planning to re-subscribe later</td>\n      <td>NaN</td>\n      <td>1</td>\n      <td>0</td>\n      <td>1</td>\n    </tr>\n    <tr>\n      <th>3</th>\n      <td>2020-12-14 00:09:42</td>\n      <td>55145806</td>\n      <td>59311519</td>\n      <td>2020-12-14 00:09:46</td>\n      <td>2021-01-12 09:43:02</td>\n      <td>Matthew</td>\n      <td>Berky</td>\n      <td>berkymatthew@gmail.com</td>\n      <td>1(860) 333-7684</td>\n      <td>CANCELLED</td>\n      <td>1</td>\n      <td>Deluxe - Month to Month (auto-renews, cancel a...</td>\n      <td>NaN</td>\n      <td>1</td>\n      <td>I only wanted one box</td>\n      <td>NaN</td>\n      <td>1</td>\n      <td>0</td>\n      <td>1</td>\n    </tr>\n    <tr>\n      <th>4</th>\n      <td>2020-08-24 19:57:14</td>\n      <td>47614713</td>\n      <td>52494706</td>\n      <td>2020-08-24 19:57:19</td>\n      <td>2021-01-12 07:41:46</td>\n      <td>christina</td>\n      <td>lucas</td>\n      <td>clucasbrown71@gmail.com</td>\n      <td>6028315274</td>\n      <td>CANCELLED</td>\n      <td>1</td>\n      <td>Deluxe - 6 Month Prepay Auto renew</td>\n      <td>NaN</td>\n      <td>1</td>\n      <td>Shipping issues</td>\n      <td>all of the snacks were melted in the last box ...</td>\n      <td>1</td>\n      <td>0</td>\n      <td>1</td>\n    </tr>\n  </tbody>\n</table>\n</div>"
     },
     "execution_count": 13,
     "metadata": {},
     "output_type": "execute_result"
    }
   ]
  },
  {
   "cell_type": "code",
   "metadata": {
    "pycharm": {
     "name": "#%%\n"
    },
    "id": "ebKRIe9DHcWa",
    "colab": {
     "base_uri": "https://localhost:8080/"
    },
    "outputId": "82b3894e-5ee5-4126-dfdd-cfef08d5dda5"
   },
   "source": [
    "df['subscription duration'] = df['cancellation date'] - df['customer created date']\n",
    "df['subscription duration'].describe()"
   ],
   "execution_count": 14,
   "outputs": [
    {
     "data": {
      "text/plain": "count                           4201\nmean     141 days 08:26:37.831468698\nstd      120 days 07:21:53.034752770\nmin                  0 days 00:00:45\n25%                 43 days 23:06:49\n50%                 98 days 04:33:30\n75%                221 days 20:35:05\nmax                518 days 09:23:50\nName: subscription duration, dtype: object"
     },
     "execution_count": 14,
     "metadata": {},
     "output_type": "execute_result"
    }
   ]
  },
  {
   "cell_type": "code",
   "metadata": {
    "pycharm": {
     "name": "#%%\n"
    },
    "id": "nvS6wPGVHcWa",
    "colab": {
     "base_uri": "https://localhost:8080/",
     "height": 1000
    },
    "outputId": "6bb14e0b-fe86-4173-a774-57efb3f3e058"
   },
   "source": [
    "plt.rcParams[\"figure.figsize\"] = [15, 20]\n",
    "df.boxplot(column=['subscription duration'], by=['cancel reason'])\n",
    "plt.xticks(rotation=90)\n",
    "plt.ylabel(\"duration in sec\")\n",
    "plt.savefig('bar1.png', bbox_inches='tight')\n",
    "plt.show()"
   ],
   "execution_count": 15,
   "outputs": [
    {
     "ename": "OverflowError",
     "evalue": "Python int too large to convert to C long",
     "output_type": "error",
     "traceback": [
      "\u001B[0;31m---------------------------------------------------------------------------\u001B[0m",
      "\u001B[0;31mOverflowError\u001B[0m                             Traceback (most recent call last)",
      "\u001B[0;32m<ipython-input-15-df6d6bd0c3e4>\u001B[0m in \u001B[0;36m<module>\u001B[0;34m\u001B[0m\n\u001B[1;32m      1\u001B[0m \u001B[0mplt\u001B[0m\u001B[0;34m.\u001B[0m\u001B[0mrcParams\u001B[0m\u001B[0;34m[\u001B[0m\u001B[0;34m\"figure.figsize\"\u001B[0m\u001B[0;34m]\u001B[0m \u001B[0;34m=\u001B[0m \u001B[0;34m[\u001B[0m\u001B[0;36m15\u001B[0m\u001B[0;34m,\u001B[0m \u001B[0;36m20\u001B[0m\u001B[0;34m]\u001B[0m\u001B[0;34m\u001B[0m\u001B[0;34m\u001B[0m\u001B[0m\n\u001B[0;32m----> 2\u001B[0;31m \u001B[0mdf\u001B[0m\u001B[0;34m.\u001B[0m\u001B[0mboxplot\u001B[0m\u001B[0;34m(\u001B[0m\u001B[0mcolumn\u001B[0m\u001B[0;34m=\u001B[0m\u001B[0;34m[\u001B[0m\u001B[0;34m'subscription duration'\u001B[0m\u001B[0;34m]\u001B[0m\u001B[0;34m,\u001B[0m \u001B[0mby\u001B[0m\u001B[0;34m=\u001B[0m\u001B[0;34m[\u001B[0m\u001B[0;34m'cancel reason'\u001B[0m\u001B[0;34m]\u001B[0m\u001B[0;34m)\u001B[0m\u001B[0;34m\u001B[0m\u001B[0;34m\u001B[0m\u001B[0m\n\u001B[0m\u001B[1;32m      3\u001B[0m \u001B[0mplt\u001B[0m\u001B[0;34m.\u001B[0m\u001B[0mxticks\u001B[0m\u001B[0;34m(\u001B[0m\u001B[0mrotation\u001B[0m\u001B[0;34m=\u001B[0m\u001B[0;36m90\u001B[0m\u001B[0;34m)\u001B[0m\u001B[0;34m\u001B[0m\u001B[0;34m\u001B[0m\u001B[0m\n\u001B[1;32m      4\u001B[0m \u001B[0mplt\u001B[0m\u001B[0;34m.\u001B[0m\u001B[0mylabel\u001B[0m\u001B[0;34m(\u001B[0m\u001B[0;34m\"duration in sec\"\u001B[0m\u001B[0;34m)\u001B[0m\u001B[0;34m\u001B[0m\u001B[0;34m\u001B[0m\u001B[0m\n\u001B[1;32m      5\u001B[0m \u001B[0mplt\u001B[0m\u001B[0;34m.\u001B[0m\u001B[0msavefig\u001B[0m\u001B[0;34m(\u001B[0m\u001B[0;34m'bar1.png'\u001B[0m\u001B[0;34m,\u001B[0m \u001B[0mbbox_inches\u001B[0m\u001B[0;34m=\u001B[0m\u001B[0;34m'tight'\u001B[0m\u001B[0;34m)\u001B[0m\u001B[0;34m\u001B[0m\u001B[0;34m\u001B[0m\u001B[0m\n",
      "\u001B[0;32m~/Library/Python/3.9/lib/python/site-packages/pandas/plotting/_core.py\u001B[0m in \u001B[0;36mboxplot_frame\u001B[0;34m(self, column, by, ax, fontsize, rot, grid, figsize, layout, return_type, backend, **kwargs)\u001B[0m\n\u001B[1;32m    492\u001B[0m ):\n\u001B[1;32m    493\u001B[0m     \u001B[0mplot_backend\u001B[0m \u001B[0;34m=\u001B[0m \u001B[0m_get_plot_backend\u001B[0m\u001B[0;34m(\u001B[0m\u001B[0mbackend\u001B[0m\u001B[0;34m)\u001B[0m\u001B[0;34m\u001B[0m\u001B[0;34m\u001B[0m\u001B[0m\n\u001B[0;32m--> 494\u001B[0;31m     return plot_backend.boxplot_frame(\n\u001B[0m\u001B[1;32m    495\u001B[0m         \u001B[0mself\u001B[0m\u001B[0;34m,\u001B[0m\u001B[0;34m\u001B[0m\u001B[0;34m\u001B[0m\u001B[0m\n\u001B[1;32m    496\u001B[0m         \u001B[0mcolumn\u001B[0m\u001B[0;34m=\u001B[0m\u001B[0mcolumn\u001B[0m\u001B[0;34m,\u001B[0m\u001B[0;34m\u001B[0m\u001B[0;34m\u001B[0m\u001B[0m\n",
      "\u001B[0;32m~/Library/Python/3.9/lib/python/site-packages/pandas/plotting/_matplotlib/boxplot.py\u001B[0m in \u001B[0;36mboxplot_frame\u001B[0;34m(self, column, by, ax, fontsize, rot, grid, figsize, layout, return_type, **kwds)\u001B[0m\n\u001B[1;32m    383\u001B[0m     \u001B[0;32mimport\u001B[0m \u001B[0mmatplotlib\u001B[0m\u001B[0;34m.\u001B[0m\u001B[0mpyplot\u001B[0m \u001B[0;32mas\u001B[0m \u001B[0mplt\u001B[0m\u001B[0;34m\u001B[0m\u001B[0;34m\u001B[0m\u001B[0m\n\u001B[1;32m    384\u001B[0m \u001B[0;34m\u001B[0m\u001B[0m\n\u001B[0;32m--> 385\u001B[0;31m     ax = boxplot(\n\u001B[0m\u001B[1;32m    386\u001B[0m         \u001B[0mself\u001B[0m\u001B[0;34m,\u001B[0m\u001B[0;34m\u001B[0m\u001B[0;34m\u001B[0m\u001B[0m\n\u001B[1;32m    387\u001B[0m         \u001B[0mcolumn\u001B[0m\u001B[0;34m=\u001B[0m\u001B[0mcolumn\u001B[0m\u001B[0;34m,\u001B[0m\u001B[0;34m\u001B[0m\u001B[0;34m\u001B[0m\u001B[0m\n",
      "\u001B[0;32m~/Library/Python/3.9/lib/python/site-packages/pandas/plotting/_matplotlib/boxplot.py\u001B[0m in \u001B[0;36mboxplot\u001B[0;34m(data, column, by, ax, fontsize, rot, grid, figsize, layout, return_type, **kwds)\u001B[0m\n\u001B[1;32m    335\u001B[0m         \u001B[0;31m# Prefer array return type for 2-D plots to match the subplot layout\u001B[0m\u001B[0;34m\u001B[0m\u001B[0;34m\u001B[0m\u001B[0;34m\u001B[0m\u001B[0m\n\u001B[1;32m    336\u001B[0m         \u001B[0;31m# https://github.com/pandas-dev/pandas/pull/12216#issuecomment-241175580\u001B[0m\u001B[0;34m\u001B[0m\u001B[0;34m\u001B[0m\u001B[0;34m\u001B[0m\u001B[0m\n\u001B[0;32m--> 337\u001B[0;31m         result = _grouped_plot_by_column(\n\u001B[0m\u001B[1;32m    338\u001B[0m             \u001B[0mplot_group\u001B[0m\u001B[0;34m,\u001B[0m\u001B[0;34m\u001B[0m\u001B[0;34m\u001B[0m\u001B[0m\n\u001B[1;32m    339\u001B[0m             \u001B[0mdata\u001B[0m\u001B[0;34m,\u001B[0m\u001B[0;34m\u001B[0m\u001B[0;34m\u001B[0m\u001B[0m\n",
      "\u001B[0;32m~/Library/Python/3.9/lib/python/site-packages/pandas/plotting/_matplotlib/boxplot.py\u001B[0m in \u001B[0;36m_grouped_plot_by_column\u001B[0;34m(plotf, data, columns, by, numeric_only, grid, figsize, ax, layout, return_type, **kwargs)\u001B[0m\n\u001B[1;32m    214\u001B[0m         \u001B[0mgp_col\u001B[0m \u001B[0;34m=\u001B[0m \u001B[0mgrouped\u001B[0m\u001B[0;34m[\u001B[0m\u001B[0mcol\u001B[0m\u001B[0;34m]\u001B[0m\u001B[0;34m\u001B[0m\u001B[0;34m\u001B[0m\u001B[0m\n\u001B[1;32m    215\u001B[0m         \u001B[0mkeys\u001B[0m\u001B[0;34m,\u001B[0m \u001B[0mvalues\u001B[0m \u001B[0;34m=\u001B[0m \u001B[0mzip\u001B[0m\u001B[0;34m(\u001B[0m\u001B[0;34m*\u001B[0m\u001B[0mgp_col\u001B[0m\u001B[0;34m)\u001B[0m\u001B[0;34m\u001B[0m\u001B[0;34m\u001B[0m\u001B[0m\n\u001B[0;32m--> 216\u001B[0;31m         \u001B[0mre_plotf\u001B[0m \u001B[0;34m=\u001B[0m \u001B[0mplotf\u001B[0m\u001B[0;34m(\u001B[0m\u001B[0mkeys\u001B[0m\u001B[0;34m,\u001B[0m \u001B[0mvalues\u001B[0m\u001B[0;34m,\u001B[0m \u001B[0max\u001B[0m\u001B[0;34m,\u001B[0m \u001B[0;34m**\u001B[0m\u001B[0mkwargs\u001B[0m\u001B[0;34m)\u001B[0m\u001B[0;34m\u001B[0m\u001B[0;34m\u001B[0m\u001B[0m\n\u001B[0m\u001B[1;32m    217\u001B[0m         \u001B[0max\u001B[0m\u001B[0;34m.\u001B[0m\u001B[0mset_title\u001B[0m\u001B[0;34m(\u001B[0m\u001B[0mcol\u001B[0m\u001B[0;34m)\u001B[0m\u001B[0;34m\u001B[0m\u001B[0;34m\u001B[0m\u001B[0m\n\u001B[1;32m    218\u001B[0m         \u001B[0max\u001B[0m\u001B[0;34m.\u001B[0m\u001B[0mset_xlabel\u001B[0m\u001B[0;34m(\u001B[0m\u001B[0mpprint_thing\u001B[0m\u001B[0;34m(\u001B[0m\u001B[0mby\u001B[0m\u001B[0;34m)\u001B[0m\u001B[0;34m)\u001B[0m\u001B[0;34m\u001B[0m\u001B[0;34m\u001B[0m\u001B[0m\n",
      "\u001B[0;32m~/Library/Python/3.9/lib/python/site-packages/pandas/plotting/_matplotlib/boxplot.py\u001B[0m in \u001B[0;36mplot_group\u001B[0;34m(keys, values, ax)\u001B[0m\n\u001B[1;32m    301\u001B[0m         \u001B[0mkeys\u001B[0m \u001B[0;34m=\u001B[0m \u001B[0;34m[\u001B[0m\u001B[0mpprint_thing\u001B[0m\u001B[0;34m(\u001B[0m\u001B[0mx\u001B[0m\u001B[0;34m)\u001B[0m \u001B[0;32mfor\u001B[0m \u001B[0mx\u001B[0m \u001B[0;32min\u001B[0m \u001B[0mkeys\u001B[0m\u001B[0;34m]\u001B[0m\u001B[0;34m\u001B[0m\u001B[0;34m\u001B[0m\u001B[0m\n\u001B[1;32m    302\u001B[0m         \u001B[0mvalues\u001B[0m \u001B[0;34m=\u001B[0m \u001B[0;34m[\u001B[0m\u001B[0mnp\u001B[0m\u001B[0;34m.\u001B[0m\u001B[0masarray\u001B[0m\u001B[0;34m(\u001B[0m\u001B[0mremove_na_arraylike\u001B[0m\u001B[0;34m(\u001B[0m\u001B[0mv\u001B[0m\u001B[0;34m)\u001B[0m\u001B[0;34m,\u001B[0m \u001B[0mdtype\u001B[0m\u001B[0;34m=\u001B[0m\u001B[0mobject\u001B[0m\u001B[0;34m)\u001B[0m \u001B[0;32mfor\u001B[0m \u001B[0mv\u001B[0m \u001B[0;32min\u001B[0m \u001B[0mvalues\u001B[0m\u001B[0;34m]\u001B[0m\u001B[0;34m\u001B[0m\u001B[0;34m\u001B[0m\u001B[0m\n\u001B[0;32m--> 303\u001B[0;31m         \u001B[0mbp\u001B[0m \u001B[0;34m=\u001B[0m \u001B[0max\u001B[0m\u001B[0;34m.\u001B[0m\u001B[0mboxplot\u001B[0m\u001B[0;34m(\u001B[0m\u001B[0mvalues\u001B[0m\u001B[0;34m,\u001B[0m \u001B[0;34m**\u001B[0m\u001B[0mkwds\u001B[0m\u001B[0;34m)\u001B[0m\u001B[0;34m\u001B[0m\u001B[0;34m\u001B[0m\u001B[0m\n\u001B[0m\u001B[1;32m    304\u001B[0m         \u001B[0;32mif\u001B[0m \u001B[0mfontsize\u001B[0m \u001B[0;32mis\u001B[0m \u001B[0;32mnot\u001B[0m \u001B[0;32mNone\u001B[0m\u001B[0;34m:\u001B[0m\u001B[0;34m\u001B[0m\u001B[0;34m\u001B[0m\u001B[0m\n\u001B[1;32m    305\u001B[0m             \u001B[0max\u001B[0m\u001B[0;34m.\u001B[0m\u001B[0mtick_params\u001B[0m\u001B[0;34m(\u001B[0m\u001B[0maxis\u001B[0m\u001B[0;34m=\u001B[0m\u001B[0;34m\"both\"\u001B[0m\u001B[0;34m,\u001B[0m \u001B[0mlabelsize\u001B[0m\u001B[0;34m=\u001B[0m\u001B[0mfontsize\u001B[0m\u001B[0;34m)\u001B[0m\u001B[0;34m\u001B[0m\u001B[0;34m\u001B[0m\u001B[0m\n",
      "\u001B[0;32m/Library/Frameworks/Python.framework/Versions/3.9/lib/python3.9/site-packages/matplotlib/__init__.py\u001B[0m in \u001B[0;36minner\u001B[0;34m(ax, data, *args, **kwargs)\u001B[0m\n\u001B[1;32m   1445\u001B[0m     \u001B[0;32mdef\u001B[0m \u001B[0minner\u001B[0m\u001B[0;34m(\u001B[0m\u001B[0max\u001B[0m\u001B[0;34m,\u001B[0m \u001B[0;34m*\u001B[0m\u001B[0margs\u001B[0m\u001B[0;34m,\u001B[0m \u001B[0mdata\u001B[0m\u001B[0;34m=\u001B[0m\u001B[0;32mNone\u001B[0m\u001B[0;34m,\u001B[0m \u001B[0;34m**\u001B[0m\u001B[0mkwargs\u001B[0m\u001B[0;34m)\u001B[0m\u001B[0;34m:\u001B[0m\u001B[0;34m\u001B[0m\u001B[0;34m\u001B[0m\u001B[0m\n\u001B[1;32m   1446\u001B[0m         \u001B[0;32mif\u001B[0m \u001B[0mdata\u001B[0m \u001B[0;32mis\u001B[0m \u001B[0;32mNone\u001B[0m\u001B[0;34m:\u001B[0m\u001B[0;34m\u001B[0m\u001B[0;34m\u001B[0m\u001B[0m\n\u001B[0;32m-> 1447\u001B[0;31m             \u001B[0;32mreturn\u001B[0m \u001B[0mfunc\u001B[0m\u001B[0;34m(\u001B[0m\u001B[0max\u001B[0m\u001B[0;34m,\u001B[0m \u001B[0;34m*\u001B[0m\u001B[0mmap\u001B[0m\u001B[0;34m(\u001B[0m\u001B[0msanitize_sequence\u001B[0m\u001B[0;34m,\u001B[0m \u001B[0margs\u001B[0m\u001B[0;34m)\u001B[0m\u001B[0;34m,\u001B[0m \u001B[0;34m**\u001B[0m\u001B[0mkwargs\u001B[0m\u001B[0;34m)\u001B[0m\u001B[0;34m\u001B[0m\u001B[0;34m\u001B[0m\u001B[0m\n\u001B[0m\u001B[1;32m   1448\u001B[0m \u001B[0;34m\u001B[0m\u001B[0m\n\u001B[1;32m   1449\u001B[0m         \u001B[0mbound\u001B[0m \u001B[0;34m=\u001B[0m \u001B[0mnew_sig\u001B[0m\u001B[0;34m.\u001B[0m\u001B[0mbind\u001B[0m\u001B[0;34m(\u001B[0m\u001B[0max\u001B[0m\u001B[0;34m,\u001B[0m \u001B[0;34m*\u001B[0m\u001B[0margs\u001B[0m\u001B[0;34m,\u001B[0m \u001B[0;34m**\u001B[0m\u001B[0mkwargs\u001B[0m\u001B[0;34m)\u001B[0m\u001B[0;34m\u001B[0m\u001B[0;34m\u001B[0m\u001B[0m\n",
      "\u001B[0;32m/Library/Frameworks/Python.framework/Versions/3.9/lib/python3.9/site-packages/matplotlib/axes/_axes.py\u001B[0m in \u001B[0;36mboxplot\u001B[0;34m(self, x, notch, sym, vert, whis, positions, widths, patch_artist, bootstrap, usermedians, conf_intervals, meanline, showmeans, showcaps, showbox, showfliers, boxprops, labels, flierprops, medianprops, meanprops, capprops, whiskerprops, manage_ticks, autorange, zorder)\u001B[0m\n\u001B[1;32m   3681\u001B[0m             \u001B[0mbootstrap\u001B[0m \u001B[0;34m=\u001B[0m \u001B[0mrcParams\u001B[0m\u001B[0;34m[\u001B[0m\u001B[0;34m'boxplot.bootstrap'\u001B[0m\u001B[0;34m]\u001B[0m\u001B[0;34m\u001B[0m\u001B[0;34m\u001B[0m\u001B[0m\n\u001B[1;32m   3682\u001B[0m \u001B[0;34m\u001B[0m\u001B[0m\n\u001B[0;32m-> 3683\u001B[0;31m         bxpstats = cbook.boxplot_stats(x, whis=whis, bootstrap=bootstrap,\n\u001B[0m\u001B[1;32m   3684\u001B[0m                                        labels=labels, autorange=autorange)\n\u001B[1;32m   3685\u001B[0m         \u001B[0;32mif\u001B[0m \u001B[0mnotch\u001B[0m \u001B[0;32mis\u001B[0m \u001B[0;32mNone\u001B[0m\u001B[0;34m:\u001B[0m\u001B[0;34m\u001B[0m\u001B[0;34m\u001B[0m\u001B[0m\n",
      "\u001B[0;32m/Library/Frameworks/Python.framework/Versions/3.9/lib/python3.9/site-packages/matplotlib/cbook/__init__.py\u001B[0m in \u001B[0;36mboxplot_stats\u001B[0;34m(X, whis, bootstrap, labels, autorange)\u001B[0m\n\u001B[1;32m   1175\u001B[0m \u001B[0;34m\u001B[0m\u001B[0m\n\u001B[1;32m   1176\u001B[0m         \u001B[0;31m# arithmetic mean\u001B[0m\u001B[0;34m\u001B[0m\u001B[0;34m\u001B[0m\u001B[0;34m\u001B[0m\u001B[0m\n\u001B[0;32m-> 1177\u001B[0;31m         \u001B[0mstats\u001B[0m\u001B[0;34m[\u001B[0m\u001B[0;34m'mean'\u001B[0m\u001B[0;34m]\u001B[0m \u001B[0;34m=\u001B[0m \u001B[0mnp\u001B[0m\u001B[0;34m.\u001B[0m\u001B[0mmean\u001B[0m\u001B[0;34m(\u001B[0m\u001B[0mx\u001B[0m\u001B[0;34m)\u001B[0m\u001B[0;34m\u001B[0m\u001B[0;34m\u001B[0m\u001B[0m\n\u001B[0m\u001B[1;32m   1178\u001B[0m \u001B[0;34m\u001B[0m\u001B[0m\n\u001B[1;32m   1179\u001B[0m         \u001B[0;31m# medians and quartiles\u001B[0m\u001B[0;34m\u001B[0m\u001B[0;34m\u001B[0m\u001B[0;34m\u001B[0m\u001B[0m\n",
      "\u001B[0;32m<__array_function__ internals>\u001B[0m in \u001B[0;36mmean\u001B[0;34m(*args, **kwargs)\u001B[0m\n",
      "\u001B[0;32m~/Library/Python/3.9/lib/python/site-packages/numpy/core/fromnumeric.py\u001B[0m in \u001B[0;36mmean\u001B[0;34m(a, axis, dtype, out, keepdims)\u001B[0m\n\u001B[1;32m   3370\u001B[0m             \u001B[0;32mreturn\u001B[0m \u001B[0mmean\u001B[0m\u001B[0;34m(\u001B[0m\u001B[0maxis\u001B[0m\u001B[0;34m=\u001B[0m\u001B[0maxis\u001B[0m\u001B[0;34m,\u001B[0m \u001B[0mdtype\u001B[0m\u001B[0;34m=\u001B[0m\u001B[0mdtype\u001B[0m\u001B[0;34m,\u001B[0m \u001B[0mout\u001B[0m\u001B[0;34m=\u001B[0m\u001B[0mout\u001B[0m\u001B[0;34m,\u001B[0m \u001B[0;34m**\u001B[0m\u001B[0mkwargs\u001B[0m\u001B[0;34m)\u001B[0m\u001B[0;34m\u001B[0m\u001B[0;34m\u001B[0m\u001B[0m\n\u001B[1;32m   3371\u001B[0m \u001B[0;34m\u001B[0m\u001B[0m\n\u001B[0;32m-> 3372\u001B[0;31m     return _methods._mean(a, axis=axis, dtype=dtype,\n\u001B[0m\u001B[1;32m   3373\u001B[0m                           out=out, **kwargs)\n\u001B[1;32m   3374\u001B[0m \u001B[0;34m\u001B[0m\u001B[0m\n",
      "\u001B[0;32m~/Library/Python/3.9/lib/python/site-packages/numpy/core/_methods.py\u001B[0m in \u001B[0;36m_mean\u001B[0;34m(a, axis, dtype, out, keepdims)\u001B[0m\n\u001B[1;32m    158\u001B[0m             \u001B[0mis_float16_result\u001B[0m \u001B[0;34m=\u001B[0m \u001B[0;32mTrue\u001B[0m\u001B[0;34m\u001B[0m\u001B[0;34m\u001B[0m\u001B[0m\n\u001B[1;32m    159\u001B[0m \u001B[0;34m\u001B[0m\u001B[0m\n\u001B[0;32m--> 160\u001B[0;31m     \u001B[0mret\u001B[0m \u001B[0;34m=\u001B[0m \u001B[0mumr_sum\u001B[0m\u001B[0;34m(\u001B[0m\u001B[0marr\u001B[0m\u001B[0;34m,\u001B[0m \u001B[0maxis\u001B[0m\u001B[0;34m,\u001B[0m \u001B[0mdtype\u001B[0m\u001B[0;34m,\u001B[0m \u001B[0mout\u001B[0m\u001B[0;34m,\u001B[0m \u001B[0mkeepdims\u001B[0m\u001B[0;34m)\u001B[0m\u001B[0;34m\u001B[0m\u001B[0;34m\u001B[0m\u001B[0m\n\u001B[0m\u001B[1;32m    161\u001B[0m     \u001B[0;32mif\u001B[0m \u001B[0misinstance\u001B[0m\u001B[0;34m(\u001B[0m\u001B[0mret\u001B[0m\u001B[0;34m,\u001B[0m \u001B[0mmu\u001B[0m\u001B[0;34m.\u001B[0m\u001B[0mndarray\u001B[0m\u001B[0;34m)\u001B[0m\u001B[0;34m:\u001B[0m\u001B[0;34m\u001B[0m\u001B[0;34m\u001B[0m\u001B[0m\n\u001B[1;32m    162\u001B[0m         ret = um.true_divide(\n",
      "\u001B[0;32mpandas/_libs/tslibs/timedeltas.pyx\u001B[0m in \u001B[0;36mpandas._libs.tslibs.timedeltas._binary_op_method_timedeltalike.f\u001B[0;34m()\u001B[0m\n",
      "\u001B[0;32mpandas/_libs/tslibs/timedeltas.pyx\u001B[0m in \u001B[0;36mpandas._libs.tslibs.timedeltas.Timedelta.__new__\u001B[0;34m()\u001B[0m\n",
      "\u001B[0;32mpandas/_libs/tslibs/timedeltas.pyx\u001B[0m in \u001B[0;36mpandas._libs.tslibs.timedeltas.convert_to_timedelta64\u001B[0;34m()\u001B[0m\n",
      "\u001B[0;32mpandas/_libs/tslibs/conversion.pyx\u001B[0m in \u001B[0;36mpandas._libs.tslibs.conversion.cast_from_unit\u001B[0;34m()\u001B[0m\n",
      "\u001B[0;31mOverflowError\u001B[0m: Python int too large to convert to C long"
     ]
    }
   ]
  },
  {
   "cell_type": "code",
   "metadata": {
    "pycharm": {
     "name": "#%%\n"
    },
    "id": "XzBt7VP_HcWb",
    "colab": {
     "base_uri": "https://localhost:8080/"
    },
    "outputId": "e6e51c56-d1eb-4054-b94c-282f75919cce"
   },
   "source": [
    "df['cancel reason'].value_counts()"
   ],
   "execution_count": null,
   "outputs": []
  },
  {
   "cell_type": "code",
   "metadata": {
    "pycharm": {
     "name": "#%%\n"
    },
    "id": "KYIpEiINHcWb"
   },
   "source": [
    "df_without = df['subscription duration']"
   ],
   "execution_count": null,
   "outputs": []
  },
  {
   "cell_type": "code",
   "metadata": {
    "pycharm": {
     "name": "#%%\n"
    },
    "id": "G8Mr5E_LHcWb",
    "colab": {
     "base_uri": "https://localhost:8080/",
     "height": 1000
    },
    "outputId": "305ddc86-6ee4-4a72-f308-d849933afe6d"
   },
   "source": [
    "plt.rcParams[\"figure.figsize\"] = [5, 15]\n",
    "plt.boxplot(df_without)\n",
    "plt.xticks(rotation=90)\n",
    "plt.xlabel(\"all cancellations\")\n",
    "plt.ylabel(\"duration in sec\")\n",
    "plt.yticks()\n",
    "plt.savefig('bar2.png', bbox_inches='tight')\n",
    "plt.show()\n"
   ],
   "execution_count": null,
   "outputs": []
  },
  {
   "cell_type": "code",
   "metadata": {
    "pycharm": {
     "name": "#%%\n"
    },
    "id": "f_57aEuhHcWb",
    "colab": {
     "base_uri": "https://localhost:8080/"
    },
    "outputId": "b329e913-b68a-4102-c6ff-37ba9b287420"
   },
   "source": [
    "df['subscription duration']"
   ],
   "execution_count": null,
   "outputs": []
  },
  {
   "cell_type": "code",
   "metadata": {
    "pycharm": {
     "name": "#%%\n"
    },
    "id": "3gNpYF-sHcWb",
    "colab": {
     "base_uri": "https://localhost:8080/",
     "height": 819
    },
    "outputId": "f82b7755-9bcf-4b58-c061-a7ee2e4fbafa"
   },
   "source": [
    "df.head()"
   ],
   "execution_count": null,
   "outputs": []
  },
  {
   "cell_type": "code",
   "metadata": {
    "pycharm": {
     "name": "#%%\n"
    },
    "id": "YDFnstTQHcWf"
   },
   "source": [
    "subs_duration = df['subscription duration']"
   ],
   "execution_count": null,
   "outputs": []
  },
  {
   "cell_type": "code",
   "metadata": {
    "pycharm": {
     "name": "#%%\n"
    },
    "id": "05uvQEgmHcWf",
    "colab": {
     "base_uri": "https://localhost:8080/"
    },
    "outputId": "407faeef-4b33-487e-fe6e-9e9b9c82dfb2"
   },
   "source": [
    "type(subs_duration)"
   ],
   "execution_count": null,
   "outputs": []
  },
  {
   "cell_type": "code",
   "metadata": {
    "pycharm": {
     "name": "#%%\n"
    },
    "id": "_i6lQmJdHcWf",
    "colab": {
     "base_uri": "https://localhost:8080/"
    },
    "outputId": "1e35b9ab-52c4-449e-c300-b75d8398fd18"
   },
   "source": [
    "subs_duration.head()"
   ],
   "execution_count": null,
   "outputs": []
  },
  {
   "cell_type": "code",
   "metadata": {
    "pycharm": {
     "name": "#%%\n"
    },
    "id": "hPMd9XvnHcWg",
    "colab": {
     "base_uri": "https://localhost:8080/"
    },
    "outputId": "bb10de5c-af41-4bff-9a5b-8369e10727f2"
   },
   "source": [
    "subs_duration.dtypes"
   ],
   "execution_count": null,
   "outputs": []
  },
  {
   "cell_type": "code",
   "metadata": {
    "id": "tkukffiwlAi4",
    "colab": {
     "base_uri": "https://localhost:8080/",
     "height": 830
    },
    "outputId": "7769a8f0-50ff-4b46-e271-da7362cfa476"
   },
   "source": [
    "plt.rcParams[\"figure.figsize\"] = [10, 10]\n",
    "subs_duration = subs_duration / np.timedelta64(1, 'D')\n",
    "subs_duration.plot.hist(bins=300)\n",
    "plt.show()\n",
    "\n",
    "# plt.savefig('hist.png', bbox_inches='tight')\n",
    "# df['subscription duration'].describe()"
   ],
   "execution_count": null,
   "outputs": []
  },
  {
   "cell_type": "code",
   "metadata": {
    "pycharm": {
     "name": "#%%\n"
    },
    "id": "xYGUsgqTHcWh",
    "colab": {
     "base_uri": "https://localhost:8080/"
    },
    "outputId": "2f5ec03c-2d57-49ef-a80d-7eb24da41757"
   },
   "source": [
    "subs_duration.head()"
   ],
   "execution_count": null,
   "outputs": []
  },
  {
   "cell_type": "code",
   "metadata": {
    "pycharm": {
     "name": "#%%\n"
    },
    "id": "WBScp1HcHcWi",
    "colab": {
     "base_uri": "https://localhost:8080/"
    },
    "outputId": "19d2f1d8-8601-4e50-ebc5-b38cf492e6b7"
   },
   "source": [
    "# np.seterr(divide='ignore', invalid='ignore')\n",
    "# best_dist, best_p, params = get_best_distribution(df_subs_duration.astype('timedelta64[s]'))\n",
    "best_dist_s, best_p_s, params_s = get_best_distribution(subs_duration)"
   ],
   "execution_count": null,
   "outputs": []
  },
  {
   "cell_type": "code",
   "metadata": {
    "pycharm": {
     "name": "#%%\n"
    },
    "id": "1Z_2zKFcHcWj",
    "colab": {
     "base_uri": "https://localhost:8080/",
     "height": 513
    },
    "outputId": "3deac277-34da-4d10-c8b7-b586191f6620"
   },
   "source": [
    "plt.rcParams[\"figure.figsize\"] = [15, 5]\n",
    "fig, ax = plt.subplots(1, 1)\n",
    "\n",
    "c = params_s[0]\n",
    "# loc = params_s[2]\n",
    "# scale = params_s[1]\n",
    "mean, var, skew, kurt = st.genextreme.stats(c, moments='mvsk')\n",
    "\n",
    "print(\"Mean: \" + str(mean))\n",
    "print(\"Variance: \" + str(var))\n",
    "print(\"Skew: \" + str(skew))\n",
    "print(\"Kurtosis: \" + str(kurt))\n",
    "\n",
    "x = np.linspace(st.genextreme.ppf(0.01, c), st.genextreme.ppf(0.95, c), 3600)\n",
    "\n",
    "# standardized form\n",
    "ax.plot(x, st.genextreme.pdf(x, c), 'r-', lw=3, alpha=0.6, label='genex pdf')\n",
    "\n",
    "x_position = [0, 0.5, 1, 1.5, 2, 2.5, 3, 3.5, 4]\n",
    "for xc in x_position:\n",
    "    plt.axvline(x=xc, color='k', linestyle='--')\n",
    "\n",
    "# real form\n",
    "# ax.plot(x, st.genextreme.pdf(x, c, loc, scale), 'r-', lw=3, alpha=0.6, label='genex pdf')\n",
    "\n",
    "plt.show()"
   ],
   "execution_count": null,
   "outputs": []
  },
  {
   "cell_type": "code",
   "metadata": {
    "id": "D3T90GP1M14W"
   },
   "source": [
    "# from google.colab import drive\n",
    "# drive.mount('/content/drive')"
   ],
   "execution_count": null,
   "outputs": []
  },
  {
   "cell_type": "code",
   "metadata": {
    "pycharm": {
     "name": "#%%\n"
    },
    "id": "LlTXG69WHcWj",
    "colab": {
     "base_uri": "https://localhost:8080/",
     "height": 598
    },
    "outputId": "a748ca72-17d1-4761-e654-dd70fab65524"
   },
   "source": [
    "fig, ax = plt.subplots(1, 1)\n",
    "\n",
    "x = np.linspace(0, 4, 3600)\n",
    "\n",
    "x_position = [0, 0.5, 1, 1.5, 2, 2.5, 3, 3.5, 4]\n",
    "for xc in x_position:\n",
    "    plt.axvline(x=xc, color='k', linestyle='--')\n",
    "\n",
    "ax.plot(x, st.genextreme.pdf(x, c), 'r-', lw=3, alpha=0.6, label='genex pdf')\n",
    "\n",
    "for x in x_position:\n",
    "    print(\"After {} days: {}\".format(x, round(st.genextreme.pdf(x, c), 2)))\n",
    "\n",
    "plt.show()"
   ],
   "execution_count": null,
   "outputs": []
  },
  {
   "cell_type": "code",
   "metadata": {
    "pycharm": {
     "name": "#%%\n"
    },
    "id": "exKBmK5uHcWj",
    "colab": {
     "base_uri": "https://localhost:8080/"
    },
    "outputId": "13f7be41-1bc6-4e92-a16f-2dc94d61f9d4"
   },
   "source": [
    "df['product title'].value_counts()"
   ],
   "execution_count": null,
   "outputs": []
  },
  {
   "cell_type": "code",
   "metadata": {
    "pycharm": {
     "name": "#%%\n"
    },
    "id": "6EDgp1oUHcWk",
    "colab": {
     "base_uri": "https://localhost:8080/",
     "height": 204
    },
    "outputId": "57fe5c9c-a9b6-4930-c98f-5c52730f4c6f"
   },
   "source": [
    "# density plot\n",
    "df_duration_and_type = df[['subscription duration','product title']]\n",
    "df_duration_and_type.head()"
   ],
   "execution_count": null,
   "outputs": []
  },
  {
   "cell_type": "code",
   "metadata": {
    "pycharm": {
     "name": "#%%\n"
    },
    "id": "aIbEaMT0HcWk",
    "colab": {
     "base_uri": "https://localhost:8080/",
     "height": 1000
    },
    "outputId": "c88eaf3f-ae9b-492c-d58d-f4d56cd83f42"
   },
   "source": [
    "# take sub type and sub duration\n",
    "df_duration_and_type.boxplot(column=['subscription duration'], by=['product title'])\n",
    "plt.rcParams[\"figure.figsize\"] = [30, 30]\n",
    "plt.xticks(rotation=90)\n",
    "plt.ylabel(\"duration sec\")\n",
    "plt.savefig('bar3.png', bbox_inches='tight')\n",
    "plt.show()"
   ],
   "execution_count": null,
   "outputs": []
  },
  {
   "cell_type": "code",
   "metadata": {
    "pycharm": {
     "name": "#%%\n"
    },
    "id": "TWKKIFilHcWk",
    "colab": {
     "base_uri": "https://localhost:8080/",
     "height": 819
    },
    "outputId": "e954ccce-d35c-4953-c4b4-0aae86a25cd5"
   },
   "source": [
    "df.head()"
   ],
   "execution_count": null,
   "outputs": []
  },
  {
   "cell_type": "code",
   "metadata": {
    "pycharm": {
     "name": "#%%\n"
    },
    "id": "1j8ArbG7HcWk",
    "colab": {
     "base_uri": "https://localhost:8080/",
     "height": 238
    },
    "outputId": "fad6172f-92cb-4b89-afa6-bec3b83ac8ed"
   },
   "source": [
    "df['subscription duration'] = subs_duration\n",
    "corr_matrix = df.corr()\n",
    "corr_matrix.head()"
   ],
   "execution_count": null,
   "outputs": []
  },
  {
   "cell_type": "code",
   "metadata": {
    "pycharm": {
     "name": "#%%\n"
    },
    "id": "Wpo8TRcjHcWk",
    "colab": {
     "base_uri": "https://localhost:8080/"
    },
    "outputId": "d8c53e6e-1b23-4efe-99b3-e62aa1ececaf"
   },
   "source": [
    "corr_matrix[\"subscription duration\"].sort_values(ascending=False)"
   ],
   "execution_count": null,
   "outputs": []
  },
  {
   "cell_type": "code",
   "metadata": {
    "pycharm": {
     "name": "#%%\n"
    },
    "id": "LhU7oQlaHcWk",
    "colab": {
     "base_uri": "https://localhost:8080/",
     "height": 781
    },
    "outputId": "3cde864b-96fd-4c73-b568-1235119ad16a"
   },
   "source": [
    "from pandas.plotting import scatter_matrix\n",
    "%matplotlib inline\n",
    "attributes = [\"subscription duration\", \"total number of subscriptions\"]\n",
    "scatter_matrix(df[attributes], figsize=(12, 8))\n",
    "df.plot(kind='scatter', x='subscription duration', y='past orders count', alpha=0.1)"
   ],
   "execution_count": null,
   "outputs": []
  },
  {
   "cell_type": "markdown",
   "metadata": {
    "collapsed": false,
    "id": "irTSW-k7HcWk"
   },
   "source": [
    "\n",
    "\n",
    "#### Taking out 2 main reasons for unsubbing\n",
    "\n",
    "\n"
   ]
  },
  {
   "cell_type": "code",
   "metadata": {
    "pycharm": {
     "name": "#%%\n"
    },
    "id": "Yd3OA-kRHcWk"
   },
   "source": [
    "PATH = 'Inactive_subscribers.csv'\n",
    "df = pd.read_csv(PATH, delimiter=',')"
   ],
   "execution_count": null,
   "outputs": []
  },
  {
   "cell_type": "code",
   "metadata": {
    "pycharm": {
     "name": "#%%\n"
    },
    "id": "-mlv0egdHcWk"
   },
   "source": [
    "df['cancellation date'] = pd.to_datetime(df['cancellation date'].astype(str))\n",
    "df['customer created date'] = pd.to_datetime(df['customer created date'].astype(str))"
   ],
   "execution_count": null,
   "outputs": []
  },
  {
   "cell_type": "code",
   "metadata": {
    "pycharm": {
     "name": "#%%\n"
    },
    "id": "VF7jASnuHcWk"
   },
   "source": [
    "df['subscription duration'] = df['cancellation date'] - df['customer created date']"
   ],
   "execution_count": null,
   "outputs": []
  },
  {
   "cell_type": "code",
   "metadata": {
    "pycharm": {
     "name": "#%%\n"
    },
    "id": "Kij6m3c-HcWk"
   },
   "source": [
    "df = df[(df['cancel reason']!='Max Number of Charge attempts reached')\n",
    "                & (df['cancel reason']!='Financial reasons')]"
   ],
   "execution_count": null,
   "outputs": []
  },
  {
   "cell_type": "code",
   "metadata": {
    "pycharm": {
     "name": "#%%\n"
    },
    "id": "d-78jPfyHcWk",
    "colab": {
     "base_uri": "https://localhost:8080/"
    },
    "outputId": "088a89cb-bff5-46e9-adca-a4e3c9da58a6"
   },
   "source": [
    "df.describe()"
   ],
   "execution_count": null,
   "outputs": []
  },
  {
   "cell_type": "code",
   "metadata": {
    "pycharm": {
     "name": "#%%\n"
    },
    "id": "4qd9Pys_HcWl",
    "colab": {
     "base_uri": "https://localhost:8080/"
    },
    "outputId": "bafea9dd-b9dd-4f4e-c831-3cc0c357bcb5"
   },
   "source": [
    "df['cancel reason'].count()"
   ],
   "execution_count": null,
   "outputs": []
  },
  {
   "cell_type": "code",
   "metadata": {
    "pycharm": {
     "name": "#%%\n"
    },
    "id": "g4TIMeZJHcWl",
    "colab": {
     "base_uri": "https://localhost:8080/"
    },
    "outputId": "7ee43610-1b04-43ac-ae42-98bcb6275af8"
   },
   "source": [
    "df['cancel reason'].value_counts()"
   ],
   "execution_count": null,
   "outputs": []
  },
  {
   "cell_type": "code",
   "metadata": {
    "pycharm": {
     "name": "#%%\n"
    },
    "id": "r0IwkadUHcWl",
    "colab": {
     "base_uri": "https://localhost:8080/"
    },
    "outputId": "990c72bd-cc3f-49e7-d0e8-672ce6ccec10"
   },
   "source": [
    "df_without = df['subscription duration']\n",
    "plt.rcParams[\"figure.figsize\"] = [5, 15]\n",
    "plt.boxplot(df_without)\n",
    "plt.xticks(rotation=90)\n",
    "plt.xlabel(\"all cancellations\")\n",
    "plt.ylabel(\"duration (1 = ~100 days)\")\n",
    "plt.yticks()\n",
    "plt.savefig('bar1_without.png', bbox_inches='tight')\n",
    "plt.show()"
   ],
   "execution_count": null,
   "outputs": []
  },
  {
   "cell_type": "code",
   "metadata": {
    "pycharm": {
     "name": "#%%\n"
    },
    "id": "XaePSeUAHcWl",
    "colab": {
     "base_uri": "https://localhost:8080/"
    },
    "outputId": "542b3bce-b6ca-4f32-f1a2-3b2c1c6c15f9"
   },
   "source": [
    "# take sub type and sub duration\n",
    "df_duration_and_type = df[['subscription duration','product title']]\n",
    "plt.rcParams[\"figure.figsize\"] = [20, 30]\n",
    "df_duration_and_type.boxplot(column=['subscription duration'], by=['product title'])\n",
    "plt.xticks(rotation=90)\n",
    "plt.ylabel(\"duration sec\")\n",
    "plt.savefig('bar3_without.png', bbox_inches='tight')\n",
    "plt.show()"
   ],
   "execution_count": null,
   "outputs": []
  },
  {
   "cell_type": "code",
   "metadata": {
    "pycharm": {
     "name": "#%%\n"
    },
    "id": "aZy0UQqxHcWl"
   },
   "source": [
    "subs_duration = df_without"
   ],
   "execution_count": null,
   "outputs": []
  },
  {
   "cell_type": "code",
   "metadata": {
    "pycharm": {
     "name": "#%%\n"
    },
    "id": "48hFwwYrHcWl",
    "colab": {
     "base_uri": "https://localhost:8080/"
    },
    "outputId": "f6359fe7-3c55-4e90-bb89-e51fd6cc2519"
   },
   "source": [
    "plt.rcParams[\"figure.figsize\"] = [10, 10]\n",
    "subs_duration = subs_duration/np.timedelta64(1, 'D')\n",
    "subs_duration.plot.hist(bins=250)\n",
    "\n",
    "subs_duration.head()\n",
    "\n",
    "# plt.savefig('hist.png', bbox_inches='tight')\n",
    "# df['subscription duration'].describe()"
   ],
   "execution_count": null,
   "outputs": []
  },
  {
   "cell_type": "code",
   "metadata": {
    "pycharm": {
     "name": "#%%\n"
    },
    "id": "AXvIBng4HcWl",
    "colab": {
     "base_uri": "https://localhost:8080/"
    },
    "outputId": "bdff18ad-e0e7-45a0-c11a-56e471fa4986"
   },
   "source": [
    "# np.seterr(divide='ignore', invalid='ignore')\n",
    "# best_dist, best_p, params = get_best_distribution(df_subs_duration.astype('timedelta64[s]'))\n",
    "best_dist_s, best_p_s, params_s = get_best_distribution(subs_duration)"
   ],
   "execution_count": null,
   "outputs": []
  },
  {
   "cell_type": "code",
   "metadata": {
    "pycharm": {
     "name": "#%%\n"
    },
    "id": "bOZ3HGFiHcWl",
    "colab": {
     "base_uri": "https://localhost:8080/"
    },
    "outputId": "3c52d774-0556-478c-df67-277ceb7e8495"
   },
   "source": [
    "plt.rcParams[\"figure.figsize\"] = [15, 5]\n",
    "fig, ax = plt.subplots(1, 1)\n",
    "\n",
    "c = params_s[0]\n",
    "# loc = params_s[1]\n",
    "# scale = params_s[2]\n",
    "mean, var, skew, kurt = st.genextreme.stats(c, moments='mvsk')\n",
    "\n",
    "print(\"Mean: \" + str(mean))\n",
    "print(\"Variance: \" + str(var))\n",
    "print(\"Skew: \" + str(skew))\n",
    "print(\"Kurtosis: \" + str(kurt))\n",
    "\n",
    "x = np.linspace(st.genextreme.ppf(0.01, c), st.genextreme.ppf(0.99, c), 400)\n",
    "\n",
    "# standardized form\n",
    "ax.plot(x, st.genextreme.pdf(x, c), 'r-', lw=3, alpha=0.6, label='genex pdf')\n",
    "\n",
    "x_position = [0, 1, 2, 3, 4, 5]\n",
    "for xc in x_position:\n",
    "    plt.axvline(x=xc, color='k', linestyle='--')\n",
    "\n",
    "# real form\n",
    "# ax.plot(x, st.genextreme.pdf(x, c, loc, scale), 'r-', lw=3, alpha=0.6, label='genex pdf')\n",
    "\n",
    "plt.show()"
   ],
   "execution_count": null,
   "outputs": []
  },
  {
   "cell_type": "markdown",
   "metadata": {
    "collapsed": false,
    "id": "_b9tujX4HcWl"
   },
   "source": [
    "# part 2"
   ]
  },
  {
   "cell_type": "code",
   "metadata": {
    "pycharm": {
     "name": "#%%\n"
    },
    "id": "Bjy--9LMHcWl",
    "colab": {
     "base_uri": "https://localhost:8080/",
     "height": 980
    },
    "outputId": "099f1ba2-d96a-458e-a978-779407d4e8ad"
   },
   "source": [
    "PATH = 'dataset.csv'\n",
    "df = pd.read_csv(PATH)\n",
    "\n",
    "# quick summary\n",
    "print(df.head())\n",
    "print(df.info())\n",
    "\n",
    "# index and sorting\n",
    "df = df.sort_values(by='time_period', ascending=True)\n",
    "df = df[df['total_active_subscribers'] > 0]\n",
    "df = df.set_index(df['time_period'])\n",
    "df['time_period'] = pd.to_datetime(df['time_period'])\n",
    "\n",
    "df.describe()\n",
    "\n",
    "plt.rcParams[\"figure.figsize\"] = [10, 10]\n",
    "plt.scatter(x=df['time_period'], y=df['total_active_subscribers'])\n",
    "plt.plot()\n",
    "plt.xticks(rotation=90)\n",
    "plt.savefig('bar4.png', bbox_inches='tight')\n",
    "plt.show()\n",
    "\n",
    "df.count()"
   ],
   "execution_count": null,
   "outputs": []
  },
  {
   "cell_type": "code",
   "metadata": {
    "pycharm": {
     "name": "#%%\n"
    },
    "id": "vYud8B2zHcWl",
    "colab": {
     "base_uri": "https://localhost:8080/"
    },
    "outputId": "c4e3e05c-e2f0-4e11-dfd3-0a605682cf81"
   },
   "source": [
    "df.info"
   ],
   "execution_count": null,
   "outputs": []
  },
  {
   "cell_type": "code",
   "metadata": {
    "id": "plB-quGh9Jcx",
    "colab": {
     "base_uri": "https://localhost:8080/",
     "height": 235
    },
    "outputId": "fb70e6f7-a150-49ec-a6b0-b52e4ede4c92"
   },
   "source": [
    "df.head()"
   ],
   "execution_count": null,
   "outputs": []
  },
  {
   "cell_type": "code",
   "metadata": {
    "id": "P5LY-78nM0Ao"
   },
   "source": [
    "# !wget -nc https://raw.githubusercontent.com/brpy/colab-pdf/master/colab_pdf.py\n",
    "# from colab_pdf import colab_pdf\n",
    "# colab_pdf('inactive_subs.ipynb')"
   ],
   "execution_count": null,
   "outputs": []
  },
  {
   "cell_type": "code",
   "metadata": {
    "id": "c3hvovWgM01O"
   },
   "source": [
    ""
   ],
   "execution_count": null,
   "outputs": []
  }
 ]
}