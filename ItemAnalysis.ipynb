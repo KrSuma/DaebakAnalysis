{
 "cells": [
  {
   "cell_type": "code",
   "execution_count": 301,
   "metadata": {
    "collapsed": true
   },
   "outputs": [],
   "source": [
    "import pandas as pd\n",
    "import numpy as np\n"
   ]
  },
  {
   "cell_type": "code",
   "execution_count": 302,
   "outputs": [
    {
     "name": "stderr",
     "output_type": "stream",
     "text": [
      "<ipython-input-302-01e1ca090af4>:9: DtypeWarning: Columns (28) have mixed types.Specify dtype option on import or set low_memory=False.\n",
      "  all_orders = pd.concat(df_from_each_file, ignore_index=True)\n",
      "<ipython-input-302-01e1ca090af4>:9: DtypeWarning: Columns (52) have mixed types.Specify dtype option on import or set low_memory=False.\n",
      "  all_orders = pd.concat(df_from_each_file, ignore_index=True)\n"
     ]
    },
    {
     "data": {
      "text/plain": "              Name                   Email Financial Status  \\\n0  #DBB100437903KR  leea.molin@hotmail.com             paid   \n1  #DBB100437902KR    rhodesk29@icloud.com             paid   \n2  #DBB100437902KR    rhodesk29@icloud.com              NaN   \n3  #DBB100437901KR     blossomtears@gmx.de             paid   \n4  #DBB100437900KR      Jthat784@gmail.com             paid   \n\n                     Paid at Fulfillment Status Fulfilled at  \\\n0  2020-12-31 09:43:44 -0500        unfulfilled          NaN   \n1  2020-12-31 07:52:52 -0500        unfulfilled          NaN   \n2                        NaN                NaN          NaN   \n3  2020-12-31 07:28:55 -0500        unfulfilled          NaN   \n4  2020-12-31 01:22:00 -0500        unfulfilled          NaN   \n\n  Accepts Marketing Currency  Subtotal  Shipping  ...  Tax 2 Value  \\\n0               yes      USD     34.99     15.99  ...          NaN   \n1                no      USD    112.35      9.99  ...          NaN   \n2               NaN      NaN       NaN       NaN  ...          NaN   \n3                no      USD     34.99      9.99  ...          NaN   \n4                no      USD     73.97      9.99  ...          NaN   \n\n   Tax 3 Name Tax 3 Value  Tax 4 Name Tax 4 Value Tax 5 Name  Tax 5 Value  \\\n0         NaN         NaN         NaN         NaN        NaN          NaN   \n1         NaN         NaN         NaN         NaN        NaN          NaN   \n2         NaN         NaN         NaN         NaN        NaN          NaN   \n3         NaN         NaN         NaN         NaN        NaN          NaN   \n4         NaN         NaN         NaN         NaN        NaN          NaN   \n\n          Phone  Receipt Number  Duties  \n0  4.672333e+10             NaN     NaN  \n1           NaN             NaN     NaN  \n2           NaN             NaN     NaN  \n3           NaN             NaN     NaN  \n4           NaN             NaN     NaN  \n\n[5 rows x 73 columns]",
      "text/html": "<div>\n<style scoped>\n    .dataframe tbody tr th:only-of-type {\n        vertical-align: middle;\n    }\n\n    .dataframe tbody tr th {\n        vertical-align: top;\n    }\n\n    .dataframe thead th {\n        text-align: right;\n    }\n</style>\n<table border=\"1\" class=\"dataframe\">\n  <thead>\n    <tr style=\"text-align: right;\">\n      <th></th>\n      <th>Name</th>\n      <th>Email</th>\n      <th>Financial Status</th>\n      <th>Paid at</th>\n      <th>Fulfillment Status</th>\n      <th>Fulfilled at</th>\n      <th>Accepts Marketing</th>\n      <th>Currency</th>\n      <th>Subtotal</th>\n      <th>Shipping</th>\n      <th>...</th>\n      <th>Tax 2 Value</th>\n      <th>Tax 3 Name</th>\n      <th>Tax 3 Value</th>\n      <th>Tax 4 Name</th>\n      <th>Tax 4 Value</th>\n      <th>Tax 5 Name</th>\n      <th>Tax 5 Value</th>\n      <th>Phone</th>\n      <th>Receipt Number</th>\n      <th>Duties</th>\n    </tr>\n  </thead>\n  <tbody>\n    <tr>\n      <th>0</th>\n      <td>#DBB100437903KR</td>\n      <td>leea.molin@hotmail.com</td>\n      <td>paid</td>\n      <td>2020-12-31 09:43:44 -0500</td>\n      <td>unfulfilled</td>\n      <td>NaN</td>\n      <td>yes</td>\n      <td>USD</td>\n      <td>34.99</td>\n      <td>15.99</td>\n      <td>...</td>\n      <td>NaN</td>\n      <td>NaN</td>\n      <td>NaN</td>\n      <td>NaN</td>\n      <td>NaN</td>\n      <td>NaN</td>\n      <td>NaN</td>\n      <td>4.672333e+10</td>\n      <td>NaN</td>\n      <td>NaN</td>\n    </tr>\n    <tr>\n      <th>1</th>\n      <td>#DBB100437902KR</td>\n      <td>rhodesk29@icloud.com</td>\n      <td>paid</td>\n      <td>2020-12-31 07:52:52 -0500</td>\n      <td>unfulfilled</td>\n      <td>NaN</td>\n      <td>no</td>\n      <td>USD</td>\n      <td>112.35</td>\n      <td>9.99</td>\n      <td>...</td>\n      <td>NaN</td>\n      <td>NaN</td>\n      <td>NaN</td>\n      <td>NaN</td>\n      <td>NaN</td>\n      <td>NaN</td>\n      <td>NaN</td>\n      <td>NaN</td>\n      <td>NaN</td>\n      <td>NaN</td>\n    </tr>\n    <tr>\n      <th>2</th>\n      <td>#DBB100437902KR</td>\n      <td>rhodesk29@icloud.com</td>\n      <td>NaN</td>\n      <td>NaN</td>\n      <td>NaN</td>\n      <td>NaN</td>\n      <td>NaN</td>\n      <td>NaN</td>\n      <td>NaN</td>\n      <td>NaN</td>\n      <td>...</td>\n      <td>NaN</td>\n      <td>NaN</td>\n      <td>NaN</td>\n      <td>NaN</td>\n      <td>NaN</td>\n      <td>NaN</td>\n      <td>NaN</td>\n      <td>NaN</td>\n      <td>NaN</td>\n      <td>NaN</td>\n    </tr>\n    <tr>\n      <th>3</th>\n      <td>#DBB100437901KR</td>\n      <td>blossomtears@gmx.de</td>\n      <td>paid</td>\n      <td>2020-12-31 07:28:55 -0500</td>\n      <td>unfulfilled</td>\n      <td>NaN</td>\n      <td>no</td>\n      <td>USD</td>\n      <td>34.99</td>\n      <td>9.99</td>\n      <td>...</td>\n      <td>NaN</td>\n      <td>NaN</td>\n      <td>NaN</td>\n      <td>NaN</td>\n      <td>NaN</td>\n      <td>NaN</td>\n      <td>NaN</td>\n      <td>NaN</td>\n      <td>NaN</td>\n      <td>NaN</td>\n    </tr>\n    <tr>\n      <th>4</th>\n      <td>#DBB100437900KR</td>\n      <td>Jthat784@gmail.com</td>\n      <td>paid</td>\n      <td>2020-12-31 01:22:00 -0500</td>\n      <td>unfulfilled</td>\n      <td>NaN</td>\n      <td>no</td>\n      <td>USD</td>\n      <td>73.97</td>\n      <td>9.99</td>\n      <td>...</td>\n      <td>NaN</td>\n      <td>NaN</td>\n      <td>NaN</td>\n      <td>NaN</td>\n      <td>NaN</td>\n      <td>NaN</td>\n      <td>NaN</td>\n      <td>NaN</td>\n      <td>NaN</td>\n      <td>NaN</td>\n    </tr>\n  </tbody>\n</table>\n<p>5 rows × 73 columns</p>\n</div>"
     },
     "execution_count": 302,
     "metadata": {},
     "output_type": "execute_result"
    }
   ],
   "source": [
    "'''\n",
    "1. get the 6 month order list from Shopify\n",
    "2. get values count for all the items that has been sold\n",
    "3. parse the skus and try to categorize them (if possible)\n",
    "'''\n",
    "\n",
    "all_files = ['orders_1.csv', 'orders_2.csv']\n",
    "df_from_each_file = (pd.read_csv(f) for f in all_files)\n",
    "all_orders = pd.concat(df_from_each_file, ignore_index=True)\n",
    "all_orders.head()"
   ],
   "metadata": {
    "collapsed": false,
    "pycharm": {
     "name": "#%%\n"
    }
   }
  },
  {
   "cell_type": "code",
   "execution_count": 303,
   "outputs": [
    {
     "name": "stdout",
     "output_type": "stream",
     "text": [
      "<class 'pandas.core.frame.DataFrame'>\n",
      "RangeIndex: 29589 entries, 0 to 29588\n",
      "Data columns (total 73 columns):\n",
      " #   Column                       Non-Null Count  Dtype  \n",
      "---  ------                       --------------  -----  \n",
      " 0   Name                         29589 non-null  object \n",
      " 1   Email                        29545 non-null  object \n",
      " 2   Financial Status             19958 non-null  object \n",
      " 3   Paid at                      17031 non-null  object \n",
      " 4   Fulfillment Status           19958 non-null  object \n",
      " 5   Fulfilled at                 18842 non-null  object \n",
      " 6   Accepts Marketing            19958 non-null  object \n",
      " 7   Currency                     19958 non-null  object \n",
      " 8   Subtotal                     19958 non-null  float64\n",
      " 9   Shipping                     19958 non-null  float64\n",
      " 10  Taxes                        19958 non-null  float64\n",
      " 11  Total                        19958 non-null  float64\n",
      " 12  Discount Code                2707 non-null   object \n",
      " 13  Discount Amount              19958 non-null  float64\n",
      " 14  Shipping Method              19929 non-null  object \n",
      " 15  Created at                   29589 non-null  object \n",
      " 16  Lineitem quantity            29589 non-null  int64  \n",
      " 17  Lineitem name                29589 non-null  object \n",
      " 18  Lineitem price               29589 non-null  float64\n",
      " 19  Lineitem compare at price    4626 non-null   float64\n",
      " 20  Lineitem sku                 28687 non-null  object \n",
      " 21  Lineitem requires shipping   29589 non-null  bool   \n",
      " 22  Lineitem taxable             29589 non-null  bool   \n",
      " 23  Lineitem fulfillment status  29589 non-null  object \n",
      " 24  Billing Name                 19958 non-null  object \n",
      " 25  Billing Street               19954 non-null  object \n",
      " 26  Billing Address1             19954 non-null  object \n",
      " 27  Billing Address2             4411 non-null   object \n",
      " 28  Billing Company              259 non-null    object \n",
      " 29  Billing City                 19953 non-null  object \n",
      " 30  Billing Zip                  19839 non-null  object \n",
      " 31  Billing Province             17559 non-null  object \n",
      " 32  Billing Country              19954 non-null  object \n",
      " 33  Billing Phone                19358 non-null  object \n",
      " 34  Shipping Name                19953 non-null  object \n",
      " 35  Shipping Street              19953 non-null  object \n",
      " 36  Shipping Address1            19953 non-null  object \n",
      " 37  Shipping Address2            4630 non-null   object \n",
      " 38  Shipping Company             323 non-null    object \n",
      " 39  Shipping City                19952 non-null  object \n",
      " 40  Shipping Zip                 19844 non-null  object \n",
      " 41  Shipping Province            17538 non-null  object \n",
      " 42  Shipping Country             19953 non-null  object \n",
      " 43  Shipping Phone               19944 non-null  object \n",
      " 44  Notes                        6748 non-null   object \n",
      " 45  Note Attributes              11157 non-null  object \n",
      " 46  Cancelled at                 359 non-null    object \n",
      " 47  Payment Method               10279 non-null  object \n",
      " 48  Payment Reference            17381 non-null  object \n",
      " 49  Refunded Amount              19958 non-null  float64\n",
      " 50  Vendor                       29589 non-null  object \n",
      " 51  Outstanding Balance          19958 non-null  float64\n",
      " 52  Employee                     6 non-null      object \n",
      " 53  Location                     0 non-null      float64\n",
      " 54  Device ID                    0 non-null      float64\n",
      " 55  Id                           19958 non-null  float64\n",
      " 56  Tags                         9671 non-null   object \n",
      " 57  Risk Level                   19958 non-null  object \n",
      " 58  Source                       19958 non-null  object \n",
      " 59  Lineitem discount            29589 non-null  float64\n",
      " 60  Tax 1 Name                   1766 non-null   object \n",
      " 61  Tax 1 Value                  1766 non-null   float64\n",
      " 62  Tax 2 Name                   1301 non-null   object \n",
      " 63  Tax 2 Value                  1301 non-null   float64\n",
      " 64  Tax 3 Name                   448 non-null    object \n",
      " 65  Tax 3 Value                  448 non-null    float64\n",
      " 66  Tax 4 Name                   0 non-null      float64\n",
      " 67  Tax 4 Value                  0 non-null      float64\n",
      " 68  Tax 5 Name                   0 non-null      float64\n",
      " 69  Tax 5 Value                  0 non-null      float64\n",
      " 70  Phone                        4127 non-null   float64\n",
      " 71  Receipt Number               0 non-null      float64\n",
      " 72  Duties                       0 non-null      float64\n",
      "dtypes: bool(2), float64(23), int64(1), object(47)\n",
      "memory usage: 16.1+ MB\n"
     ]
    }
   ],
   "source": [
    "all_orders.info()"
   ],
   "metadata": {
    "collapsed": false,
    "pycharm": {
     "name": "#%%\n"
    }
   }
  },
  {
   "cell_type": "code",
   "execution_count": 304,
   "outputs": [
    {
     "data": {
      "text/plain": "           Subtotal      Shipping         Taxes         Total  \\\ncount  19958.000000  19958.000000  19958.000000  19958.000000   \nmean      59.775315      6.164144      0.531849     66.337283   \nstd       54.489691      7.036043      2.192829     56.032254   \nmin        0.000000      0.000000      0.000000      0.000000   \n25%       29.870000      0.000000      0.000000     39.960000   \n50%       49.990000      4.990000      0.000000     53.150000   \n75%       62.990000      9.990000      0.000000     72.990000   \nmax     1115.630000     80.000000     56.890000   1115.630000   \n\n       Discount Amount  Lineitem quantity  Lineitem price  \\\ncount     19958.000000       29589.000000    29589.000000   \nmean          1.311714           1.025111       40.529918   \nstd           8.333755           0.195973       44.365246   \nmin           0.000000           1.000000        0.000000   \n25%           0.000000           1.000000       15.990000   \n50%           0.000000           1.000000       28.990000   \n75%           0.000000           1.000000       54.990000   \nmax         448.000000           6.000000      444.000000   \n\n       Lineitem compare at price  Refunded Amount  Outstanding Balance  ...  \\\ncount                4626.000000     19958.000000         19958.000000  ...   \nmean                   73.955160         1.867902             0.065601  ...   \nstd                    71.937535        12.498512             3.074263  ...   \nmin                     0.000000         0.000000             0.000000  ...   \n25%                    20.990000         0.000000             0.000000  ...   \n50%                    55.000000         0.000000             0.000000  ...   \n75%                   100.000000         0.000000             0.000000  ...   \nmax                   480.000000       272.010000           361.790000  ...   \n\n       Tax 1 Value  Tax 2 Value  Tax 3 Value  Tax 4 Name  Tax 4 Value  \\\ncount  1766.000000  1301.000000   448.000000         0.0          0.0   \nmean      4.923703     1.222790     0.733348         NaN          NaN   \nstd       4.002216     1.637723     0.812765         NaN          NaN   \nmin       0.070000     0.020000     0.030000         NaN          NaN   \n25%       2.170000     0.290000     0.220000         NaN          NaN   \n50%       3.910000     0.670000     0.420000         NaN          NaN   \n75%       5.800000     1.250000     0.855000         NaN          NaN   \nmax      44.590000    14.500000     4.810000         NaN          NaN   \n\n       Tax 5 Name  Tax 5 Value         Phone  Receipt Number  Duties  \ncount         0.0          0.0  4.127000e+03             0.0     0.0  \nmean          NaN          NaN  1.282032e+11             NaN     NaN  \nstd           NaN          NaN  9.157082e+11             NaN     NaN  \nmin           NaN          NaN  4.520601e+09             NaN     NaN  \n25%           NaN          NaN  1.435592e+10             NaN     NaN  \n50%           NaN          NaN  1.714703e+10             NaN     NaN  \n75%           NaN          NaN  1.928660e+10             NaN     NaN  \nmax           NaN          NaN  4.949590e+13             NaN     NaN  \n\n[8 rows x 24 columns]",
      "text/html": "<div>\n<style scoped>\n    .dataframe tbody tr th:only-of-type {\n        vertical-align: middle;\n    }\n\n    .dataframe tbody tr th {\n        vertical-align: top;\n    }\n\n    .dataframe thead th {\n        text-align: right;\n    }\n</style>\n<table border=\"1\" class=\"dataframe\">\n  <thead>\n    <tr style=\"text-align: right;\">\n      <th></th>\n      <th>Subtotal</th>\n      <th>Shipping</th>\n      <th>Taxes</th>\n      <th>Total</th>\n      <th>Discount Amount</th>\n      <th>Lineitem quantity</th>\n      <th>Lineitem price</th>\n      <th>Lineitem compare at price</th>\n      <th>Refunded Amount</th>\n      <th>Outstanding Balance</th>\n      <th>...</th>\n      <th>Tax 1 Value</th>\n      <th>Tax 2 Value</th>\n      <th>Tax 3 Value</th>\n      <th>Tax 4 Name</th>\n      <th>Tax 4 Value</th>\n      <th>Tax 5 Name</th>\n      <th>Tax 5 Value</th>\n      <th>Phone</th>\n      <th>Receipt Number</th>\n      <th>Duties</th>\n    </tr>\n  </thead>\n  <tbody>\n    <tr>\n      <th>count</th>\n      <td>19958.000000</td>\n      <td>19958.000000</td>\n      <td>19958.000000</td>\n      <td>19958.000000</td>\n      <td>19958.000000</td>\n      <td>29589.000000</td>\n      <td>29589.000000</td>\n      <td>4626.000000</td>\n      <td>19958.000000</td>\n      <td>19958.000000</td>\n      <td>...</td>\n      <td>1766.000000</td>\n      <td>1301.000000</td>\n      <td>448.000000</td>\n      <td>0.0</td>\n      <td>0.0</td>\n      <td>0.0</td>\n      <td>0.0</td>\n      <td>4.127000e+03</td>\n      <td>0.0</td>\n      <td>0.0</td>\n    </tr>\n    <tr>\n      <th>mean</th>\n      <td>59.775315</td>\n      <td>6.164144</td>\n      <td>0.531849</td>\n      <td>66.337283</td>\n      <td>1.311714</td>\n      <td>1.025111</td>\n      <td>40.529918</td>\n      <td>73.955160</td>\n      <td>1.867902</td>\n      <td>0.065601</td>\n      <td>...</td>\n      <td>4.923703</td>\n      <td>1.222790</td>\n      <td>0.733348</td>\n      <td>NaN</td>\n      <td>NaN</td>\n      <td>NaN</td>\n      <td>NaN</td>\n      <td>1.282032e+11</td>\n      <td>NaN</td>\n      <td>NaN</td>\n    </tr>\n    <tr>\n      <th>std</th>\n      <td>54.489691</td>\n      <td>7.036043</td>\n      <td>2.192829</td>\n      <td>56.032254</td>\n      <td>8.333755</td>\n      <td>0.195973</td>\n      <td>44.365246</td>\n      <td>71.937535</td>\n      <td>12.498512</td>\n      <td>3.074263</td>\n      <td>...</td>\n      <td>4.002216</td>\n      <td>1.637723</td>\n      <td>0.812765</td>\n      <td>NaN</td>\n      <td>NaN</td>\n      <td>NaN</td>\n      <td>NaN</td>\n      <td>9.157082e+11</td>\n      <td>NaN</td>\n      <td>NaN</td>\n    </tr>\n    <tr>\n      <th>min</th>\n      <td>0.000000</td>\n      <td>0.000000</td>\n      <td>0.000000</td>\n      <td>0.000000</td>\n      <td>0.000000</td>\n      <td>1.000000</td>\n      <td>0.000000</td>\n      <td>0.000000</td>\n      <td>0.000000</td>\n      <td>0.000000</td>\n      <td>...</td>\n      <td>0.070000</td>\n      <td>0.020000</td>\n      <td>0.030000</td>\n      <td>NaN</td>\n      <td>NaN</td>\n      <td>NaN</td>\n      <td>NaN</td>\n      <td>4.520601e+09</td>\n      <td>NaN</td>\n      <td>NaN</td>\n    </tr>\n    <tr>\n      <th>25%</th>\n      <td>29.870000</td>\n      <td>0.000000</td>\n      <td>0.000000</td>\n      <td>39.960000</td>\n      <td>0.000000</td>\n      <td>1.000000</td>\n      <td>15.990000</td>\n      <td>20.990000</td>\n      <td>0.000000</td>\n      <td>0.000000</td>\n      <td>...</td>\n      <td>2.170000</td>\n      <td>0.290000</td>\n      <td>0.220000</td>\n      <td>NaN</td>\n      <td>NaN</td>\n      <td>NaN</td>\n      <td>NaN</td>\n      <td>1.435592e+10</td>\n      <td>NaN</td>\n      <td>NaN</td>\n    </tr>\n    <tr>\n      <th>50%</th>\n      <td>49.990000</td>\n      <td>4.990000</td>\n      <td>0.000000</td>\n      <td>53.150000</td>\n      <td>0.000000</td>\n      <td>1.000000</td>\n      <td>28.990000</td>\n      <td>55.000000</td>\n      <td>0.000000</td>\n      <td>0.000000</td>\n      <td>...</td>\n      <td>3.910000</td>\n      <td>0.670000</td>\n      <td>0.420000</td>\n      <td>NaN</td>\n      <td>NaN</td>\n      <td>NaN</td>\n      <td>NaN</td>\n      <td>1.714703e+10</td>\n      <td>NaN</td>\n      <td>NaN</td>\n    </tr>\n    <tr>\n      <th>75%</th>\n      <td>62.990000</td>\n      <td>9.990000</td>\n      <td>0.000000</td>\n      <td>72.990000</td>\n      <td>0.000000</td>\n      <td>1.000000</td>\n      <td>54.990000</td>\n      <td>100.000000</td>\n      <td>0.000000</td>\n      <td>0.000000</td>\n      <td>...</td>\n      <td>5.800000</td>\n      <td>1.250000</td>\n      <td>0.855000</td>\n      <td>NaN</td>\n      <td>NaN</td>\n      <td>NaN</td>\n      <td>NaN</td>\n      <td>1.928660e+10</td>\n      <td>NaN</td>\n      <td>NaN</td>\n    </tr>\n    <tr>\n      <th>max</th>\n      <td>1115.630000</td>\n      <td>80.000000</td>\n      <td>56.890000</td>\n      <td>1115.630000</td>\n      <td>448.000000</td>\n      <td>6.000000</td>\n      <td>444.000000</td>\n      <td>480.000000</td>\n      <td>272.010000</td>\n      <td>361.790000</td>\n      <td>...</td>\n      <td>44.590000</td>\n      <td>14.500000</td>\n      <td>4.810000</td>\n      <td>NaN</td>\n      <td>NaN</td>\n      <td>NaN</td>\n      <td>NaN</td>\n      <td>4.949590e+13</td>\n      <td>NaN</td>\n      <td>NaN</td>\n    </tr>\n  </tbody>\n</table>\n<p>8 rows × 24 columns</p>\n</div>"
     },
     "execution_count": 304,
     "metadata": {},
     "output_type": "execute_result"
    }
   ],
   "source": [
    "all_orders.describe()"
   ],
   "metadata": {
    "collapsed": false,
    "pycharm": {
     "name": "#%%\n"
    }
   }
  },
  {
   "cell_type": "code",
   "execution_count": 305,
   "outputs": [
    {
     "data": {
      "text/plain": "Route Package Protection - $0.98                                                   1612\nDaebak Box - Seasonal Plan (auto-renews, cancel anytime)                           1500\nAnnual (ships once every season, auto-renews every year)                           1272\nSeasonal (ships once every season, auto-renews every season)                       1248\nDaebak Box - Seasonal Plan (auto-renews, cancel anytime) (Ships every 3 Months)    1121\n                                                                                   ... \nBT21 Heart Embroidery Ball Cap - Pink                                                 1\n[Pre-Order] SONG JI EUN - BLOOM: 開花 (Single Album)                                    1\nFILA T-PACK Backpack White                                                            1\nShil Note Antique Notebook + Sticker Set (Roots)                                      1\nJEONG SEWOON Official Light Stick                                                     1\nName: Lineitem name, Length: 3870, dtype: int64"
     },
     "execution_count": 305,
     "metadata": {},
     "output_type": "execute_result"
    }
   ],
   "source": [
    "all_orders['Lineitem name'].value_counts()"
   ],
   "metadata": {
    "collapsed": false,
    "pycharm": {
     "name": "#%%\n"
    }
   }
  },
  {
   "cell_type": "code",
   "execution_count": 306,
   "outputs": [
    {
     "data": {
      "text/plain": "DBB_Seasonal                                                          3909\nDBB_Annual                                                            3062\nROUTEINS10                                                            1612\nSF_DLX                                                                1472\nK-Drama - 90017 - tvN - 사이코지만 괜찮아 고문영 동화 책 도서 - 진짜 진짜 얼굴을 찾아서 - DA     631\n                                                                      ... \nFood - 40099 - Paldo - 뽀로로 떡볶이 버스팩 - 4개 매콤맛 - DA                         1\nCharacters - 10503 - TinyTAN - 타이니탄 캐릭터 2 Pocket Folder - V - DA         1\nBeauty - 21278 - COSRX - Low pH Good Morning Gel Cleanser - ST           1\nGM-DA-펜타곤 Five Senses 미니2집-1784912197                                    1\nBeauty - 20415 - ETUDE - 하트 블라썸 치크 - #PK004 My Little Blossom            1\nName: Lineitem sku, Length: 4055, dtype: int64"
     },
     "execution_count": 306,
     "metadata": {},
     "output_type": "execute_result"
    }
   ],
   "source": [
    "all_orders['Lineitem sku'].value_counts()"
   ],
   "metadata": {
    "collapsed": false,
    "pycharm": {
     "name": "#%%\n"
    }
   }
  },
  {
   "cell_type": "code",
   "execution_count": 307,
   "outputs": [],
   "source": [
    "# Functions\n",
    "def addCategoriesToDf(df):\n",
    "    \"\"\"\n",
    "    columnize the first keyword for all sku categories\n",
    "    :param df: dataset\n",
    "    :return: dataset\n",
    "    \"\"\"\n",
    "    df_added = df.copy(deep=True)\n",
    "    for index, row in df_added.iterrows():\n",
    "        sku_name = splitSKU(str(df_added.at[index, 'Lineitem sku']).lower())\n",
    "        df_added.at[index, 'Category'] = sku_name\n",
    "    return df_added\n",
    "\n",
    "def splitSKU(sku):\n",
    "    \"\"\"\n",
    "    sku helper function\n",
    "    :param sku: column value\n",
    "    :return: parsed string\n",
    "    \"\"\"\n",
    "    to_return = sku.replace('-', '').split(' ')[0].replace(\"'\", '')\n",
    "    if len(to_return) >= 31:\n",
    "        return to_return[:30]\n",
    "    else:\n",
    "        return to_return\n",
    "\n",
    "def categorizedItems(df):\n",
    "    \"\"\"\n",
    "    sort values based on their category\n",
    "    :param df: dataset\n",
    "    :return: dataset\n",
    "    \"\"\"\n",
    "    merge_df = df.groupby(['Lineitem name', 'Lineitem sku', 'Category'], as_index=False).agg({'Lineitem quantity': 'sum'})\n",
    "    merge_df.sort_values(['Category', 'Lineitem quantity'], ascending=False).groupby('Category')\n",
    "    return merge_df.reset_index()"
   ],
   "metadata": {
    "collapsed": false,
    "pycharm": {
     "name": "#%%\n"
    }
   }
  },
  {
   "cell_type": "code",
   "execution_count": 308,
   "outputs": [
    {
     "name": "stdout",
     "output_type": "stream",
     "text": [
      "<class 'pandas.core.frame.DataFrame'>\n",
      "RangeIndex: 29589 entries, 0 to 29588\n",
      "Data columns (total 74 columns):\n",
      " #   Column                       Non-Null Count  Dtype  \n",
      "---  ------                       --------------  -----  \n",
      " 0   Name                         29589 non-null  object \n",
      " 1   Email                        29545 non-null  object \n",
      " 2   Financial Status             19958 non-null  object \n",
      " 3   Paid at                      17031 non-null  object \n",
      " 4   Fulfillment Status           19958 non-null  object \n",
      " 5   Fulfilled at                 18842 non-null  object \n",
      " 6   Accepts Marketing            19958 non-null  object \n",
      " 7   Currency                     19958 non-null  object \n",
      " 8   Subtotal                     19958 non-null  float64\n",
      " 9   Shipping                     19958 non-null  float64\n",
      " 10  Taxes                        19958 non-null  float64\n",
      " 11  Total                        19958 non-null  float64\n",
      " 12  Discount Code                2707 non-null   object \n",
      " 13  Discount Amount              19958 non-null  float64\n",
      " 14  Shipping Method              19929 non-null  object \n",
      " 15  Created at                   29589 non-null  object \n",
      " 16  Lineitem quantity            29589 non-null  int64  \n",
      " 17  Lineitem name                29589 non-null  object \n",
      " 18  Lineitem price               29589 non-null  float64\n",
      " 19  Lineitem compare at price    4626 non-null   float64\n",
      " 20  Lineitem sku                 28687 non-null  object \n",
      " 21  Lineitem requires shipping   29589 non-null  bool   \n",
      " 22  Lineitem taxable             29589 non-null  bool   \n",
      " 23  Lineitem fulfillment status  29589 non-null  object \n",
      " 24  Billing Name                 19958 non-null  object \n",
      " 25  Billing Street               19954 non-null  object \n",
      " 26  Billing Address1             19954 non-null  object \n",
      " 27  Billing Address2             4411 non-null   object \n",
      " 28  Billing Company              259 non-null    object \n",
      " 29  Billing City                 19953 non-null  object \n",
      " 30  Billing Zip                  19839 non-null  object \n",
      " 31  Billing Province             17559 non-null  object \n",
      " 32  Billing Country              19954 non-null  object \n",
      " 33  Billing Phone                19358 non-null  object \n",
      " 34  Shipping Name                19953 non-null  object \n",
      " 35  Shipping Street              19953 non-null  object \n",
      " 36  Shipping Address1            19953 non-null  object \n",
      " 37  Shipping Address2            4630 non-null   object \n",
      " 38  Shipping Company             323 non-null    object \n",
      " 39  Shipping City                19952 non-null  object \n",
      " 40  Shipping Zip                 19844 non-null  object \n",
      " 41  Shipping Province            17538 non-null  object \n",
      " 42  Shipping Country             19953 non-null  object \n",
      " 43  Shipping Phone               19944 non-null  object \n",
      " 44  Notes                        6748 non-null   object \n",
      " 45  Note Attributes              11157 non-null  object \n",
      " 46  Cancelled at                 359 non-null    object \n",
      " 47  Payment Method               10279 non-null  object \n",
      " 48  Payment Reference            17381 non-null  object \n",
      " 49  Refunded Amount              19958 non-null  float64\n",
      " 50  Vendor                       29589 non-null  object \n",
      " 51  Outstanding Balance          19958 non-null  float64\n",
      " 52  Employee                     6 non-null      object \n",
      " 53  Location                     0 non-null      float64\n",
      " 54  Device ID                    0 non-null      float64\n",
      " 55  Id                           19958 non-null  float64\n",
      " 56  Tags                         9671 non-null   object \n",
      " 57  Risk Level                   19958 non-null  object \n",
      " 58  Source                       19958 non-null  object \n",
      " 59  Lineitem discount            29589 non-null  float64\n",
      " 60  Tax 1 Name                   1766 non-null   object \n",
      " 61  Tax 1 Value                  1766 non-null   float64\n",
      " 62  Tax 2 Name                   1301 non-null   object \n",
      " 63  Tax 2 Value                  1301 non-null   float64\n",
      " 64  Tax 3 Name                   448 non-null    object \n",
      " 65  Tax 3 Value                  448 non-null    float64\n",
      " 66  Tax 4 Name                   0 non-null      float64\n",
      " 67  Tax 4 Value                  0 non-null      float64\n",
      " 68  Tax 5 Name                   0 non-null      float64\n",
      " 69  Tax 5 Value                  0 non-null      float64\n",
      " 70  Phone                        4127 non-null   float64\n",
      " 71  Receipt Number               0 non-null      float64\n",
      " 72  Duties                       0 non-null      float64\n",
      " 73  Category                     29589 non-null  object \n",
      "dtypes: bool(2), float64(23), int64(1), object(48)\n",
      "memory usage: 16.3+ MB\n"
     ]
    }
   ],
   "source": [
    "categorized = addCategoriesToDf(all_orders)\n",
    "categorized.info()"
   ],
   "metadata": {
    "collapsed": false,
    "pycharm": {
     "name": "#%%\n"
    }
   }
  },
  {
   "cell_type": "code",
   "execution_count": 309,
   "outputs": [
    {
     "name": "stdout",
     "output_type": "stream",
     "text": [
      "<class 'pandas.core.frame.DataFrame'>\n",
      "RangeIndex: 29589 entries, 0 to 29588\n",
      "Data columns (total 15 columns):\n",
      " #   Column             Non-Null Count  Dtype  \n",
      "---  ------             --------------  -----  \n",
      " 0   Name               29589 non-null  object \n",
      " 1   Email              29545 non-null  object \n",
      " 2   Subtotal           19958 non-null  float64\n",
      " 3   Total              19958 non-null  float64\n",
      " 4   Discount Code      2707 non-null   object \n",
      " 5   Discount Amount    19958 non-null  float64\n",
      " 6   Created at         29589 non-null  object \n",
      " 7   Lineitem quantity  29589 non-null  int64  \n",
      " 8   Lineitem name      29589 non-null  object \n",
      " 9   Lineitem price     29589 non-null  float64\n",
      " 10  Lineitem sku       28687 non-null  object \n",
      " 11  Vendor             29589 non-null  object \n",
      " 12  Tags               9671 non-null   object \n",
      " 13  Lineitem discount  29589 non-null  float64\n",
      " 14  Category           29589 non-null  object \n",
      "dtypes: float64(5), int64(1), object(9)\n",
      "memory usage: 3.4+ MB\n"
     ]
    }
   ],
   "source": [
    "columns = ['Name', 'Email', 'Subtotal', 'Total', 'Discount Code', 'Discount Amount', 'Created at', 'Lineitem quantity',\n",
    "           'Lineitem name', 'Lineitem price', 'Lineitem sku', 'Vendor', 'Tags', 'Lineitem discount', 'Category']\n",
    "categorized = categorized[columns]\n",
    "categorized.info()"
   ],
   "metadata": {
    "collapsed": false,
    "pycharm": {
     "name": "#%%\n"
    }
   }
  },
  {
   "cell_type": "code",
   "execution_count": 310,
   "outputs": [
    {
     "data": {
      "text/plain": "              Name                   Email  Subtotal   Total Discount Code  \\\n0  #DBB100437903KR  leea.molin@hotmail.com     34.99   50.98           NaN   \n1  #DBB100437902KR    rhodesk29@icloud.com    112.35  122.34           NaN   \n2  #DBB100437902KR    rhodesk29@icloud.com       NaN     NaN           NaN   \n3  #DBB100437901KR     blossomtears@gmx.de     34.99   44.98           NaN   \n4  #DBB100437900KR      Jthat784@gmail.com     73.97   83.96           NaN   \n\n   Discount Amount                 Created at  Lineitem quantity  \\\n0              0.0  2020-12-31 09:43:43 -0500                  1   \n1              0.0  2020-12-31 07:52:51 -0500                  1   \n2              NaN  2020-12-31 07:52:51 -0500                  1   \n3              0.0  2020-12-31 07:28:54 -0500                  1   \n4              0.0  2020-12-31 01:21:58 -0500                  1   \n\n                                       Lineitem name  Lineitem price  \\\n0  [Pre-Order] DAZED BON, BOYZ, VOYAGE (Special E...           34.99   \n1                  BTS 5th Muster - Magic Shop (DVD)          110.00   \n2                   Route Package Protection - $2.35            2.35   \n3  [Pre-Order] DAZED BON, BOYZ, VOYAGE (Special E...           34.99   \n4  [Pre-Order] TWICE Mina - Yes, I am Mina (1st P...           72.99   \n\n                                        Lineitem sku Vendor Tags  \\\n0  Magazine - 160026 - DAZED - 데이즈드 BON, BOYZ, VO...  DAZED  NaN   \n1  Album - 70091 - BTS - 방탄소년단 5th Muster - Magic...    BTS  NaN   \n2                                         ROUTEINS17  Route  NaN   \n3  Magazine - 160032 - DAZED - 데이즈드 BON, BOYZ, VO...  DAZED  NaN   \n4  Album - 70834 - TWICE - 트와이스 미나 Yes, I am Mina...  TWICE  NaN   \n\n   Lineitem discount    Category  \n0                0.0    magazine  \n1                0.0       album  \n2                0.0  routeins17  \n3                0.0    magazine  \n4                0.0       album  ",
      "text/html": "<div>\n<style scoped>\n    .dataframe tbody tr th:only-of-type {\n        vertical-align: middle;\n    }\n\n    .dataframe tbody tr th {\n        vertical-align: top;\n    }\n\n    .dataframe thead th {\n        text-align: right;\n    }\n</style>\n<table border=\"1\" class=\"dataframe\">\n  <thead>\n    <tr style=\"text-align: right;\">\n      <th></th>\n      <th>Name</th>\n      <th>Email</th>\n      <th>Subtotal</th>\n      <th>Total</th>\n      <th>Discount Code</th>\n      <th>Discount Amount</th>\n      <th>Created at</th>\n      <th>Lineitem quantity</th>\n      <th>Lineitem name</th>\n      <th>Lineitem price</th>\n      <th>Lineitem sku</th>\n      <th>Vendor</th>\n      <th>Tags</th>\n      <th>Lineitem discount</th>\n      <th>Category</th>\n    </tr>\n  </thead>\n  <tbody>\n    <tr>\n      <th>0</th>\n      <td>#DBB100437903KR</td>\n      <td>leea.molin@hotmail.com</td>\n      <td>34.99</td>\n      <td>50.98</td>\n      <td>NaN</td>\n      <td>0.0</td>\n      <td>2020-12-31 09:43:43 -0500</td>\n      <td>1</td>\n      <td>[Pre-Order] DAZED BON, BOYZ, VOYAGE (Special E...</td>\n      <td>34.99</td>\n      <td>Magazine - 160026 - DAZED - 데이즈드 BON, BOYZ, VO...</td>\n      <td>DAZED</td>\n      <td>NaN</td>\n      <td>0.0</td>\n      <td>magazine</td>\n    </tr>\n    <tr>\n      <th>1</th>\n      <td>#DBB100437902KR</td>\n      <td>rhodesk29@icloud.com</td>\n      <td>112.35</td>\n      <td>122.34</td>\n      <td>NaN</td>\n      <td>0.0</td>\n      <td>2020-12-31 07:52:51 -0500</td>\n      <td>1</td>\n      <td>BTS 5th Muster - Magic Shop (DVD)</td>\n      <td>110.00</td>\n      <td>Album - 70091 - BTS - 방탄소년단 5th Muster - Magic...</td>\n      <td>BTS</td>\n      <td>NaN</td>\n      <td>0.0</td>\n      <td>album</td>\n    </tr>\n    <tr>\n      <th>2</th>\n      <td>#DBB100437902KR</td>\n      <td>rhodesk29@icloud.com</td>\n      <td>NaN</td>\n      <td>NaN</td>\n      <td>NaN</td>\n      <td>NaN</td>\n      <td>2020-12-31 07:52:51 -0500</td>\n      <td>1</td>\n      <td>Route Package Protection - $2.35</td>\n      <td>2.35</td>\n      <td>ROUTEINS17</td>\n      <td>Route</td>\n      <td>NaN</td>\n      <td>0.0</td>\n      <td>routeins17</td>\n    </tr>\n    <tr>\n      <th>3</th>\n      <td>#DBB100437901KR</td>\n      <td>blossomtears@gmx.de</td>\n      <td>34.99</td>\n      <td>44.98</td>\n      <td>NaN</td>\n      <td>0.0</td>\n      <td>2020-12-31 07:28:54 -0500</td>\n      <td>1</td>\n      <td>[Pre-Order] DAZED BON, BOYZ, VOYAGE (Special E...</td>\n      <td>34.99</td>\n      <td>Magazine - 160032 - DAZED - 데이즈드 BON, BOYZ, VO...</td>\n      <td>DAZED</td>\n      <td>NaN</td>\n      <td>0.0</td>\n      <td>magazine</td>\n    </tr>\n    <tr>\n      <th>4</th>\n      <td>#DBB100437900KR</td>\n      <td>Jthat784@gmail.com</td>\n      <td>73.97</td>\n      <td>83.96</td>\n      <td>NaN</td>\n      <td>0.0</td>\n      <td>2020-12-31 01:21:58 -0500</td>\n      <td>1</td>\n      <td>[Pre-Order] TWICE Mina - Yes, I am Mina (1st P...</td>\n      <td>72.99</td>\n      <td>Album - 70834 - TWICE - 트와이스 미나 Yes, I am Mina...</td>\n      <td>TWICE</td>\n      <td>NaN</td>\n      <td>0.0</td>\n      <td>album</td>\n    </tr>\n  </tbody>\n</table>\n</div>"
     },
     "execution_count": 310,
     "metadata": {},
     "output_type": "execute_result"
    }
   ],
   "source": [
    "categorized.head()"
   ],
   "metadata": {
    "collapsed": false,
    "pycharm": {
     "name": "#%%\n"
    }
   }
  },
  {
   "cell_type": "code",
   "execution_count": 311,
   "outputs": [],
   "source": [
    "categorized.to_csv('categorized.csv')"
   ],
   "metadata": {
    "collapsed": false,
    "pycharm": {
     "name": "#%%\n"
    }
   }
  },
  {
   "cell_type": "code",
   "execution_count": 312,
   "outputs": [
    {
     "data": {
      "text/plain": "Route Package Protection - $0.98                                                   1612\nDaebak Box - Seasonal Plan (auto-renews, cancel anytime)                           1500\nAnnual (ships once every season, auto-renews every year)                           1272\nSeasonal (ships once every season, auto-renews every season)                       1248\nDaebak Box - Seasonal Plan (auto-renews, cancel anytime) (Ships every 3 Months)    1121\n                                                                                   ... \nBT21 Heart Embroidery Ball Cap - Pink                                                 1\n[Pre-Order] SONG JI EUN - BLOOM: 開花 (Single Album)                                    1\nFILA T-PACK Backpack White                                                            1\nShil Note Antique Notebook + Sticker Set (Roots)                                      1\nJEONG SEWOON Official Light Stick                                                     1\nName: Lineitem name, Length: 3870, dtype: int64"
     },
     "execution_count": 312,
     "metadata": {},
     "output_type": "execute_result"
    }
   ],
   "source": [
    "categorized['Lineitem name'].value_counts()"
   ],
   "metadata": {
    "collapsed": false,
    "pycharm": {
     "name": "#%%\n"
    }
   }
  },
  {
   "cell_type": "code",
   "execution_count": 313,
   "outputs": [
    {
     "data": {
      "text/plain": "DBB_Seasonal                                                          3909\nDBB_Annual                                                            3062\nROUTEINS10                                                            1612\nSF_DLX                                                                1472\nK-Drama - 90017 - tvN - 사이코지만 괜찮아 고문영 동화 책 도서 - 진짜 진짜 얼굴을 찾아서 - DA     631\n                                                                      ... \nFood - 40099 - Paldo - 뽀로로 떡볶이 버스팩 - 4개 매콤맛 - DA                         1\nCharacters - 10503 - TinyTAN - 타이니탄 캐릭터 2 Pocket Folder - V - DA         1\nBeauty - 21278 - COSRX - Low pH Good Morning Gel Cleanser - ST           1\nGM-DA-펜타곤 Five Senses 미니2집-1784912197                                    1\nBeauty - 20415 - ETUDE - 하트 블라썸 치크 - #PK004 My Little Blossom            1\nName: Lineitem sku, Length: 4055, dtype: int64"
     },
     "execution_count": 313,
     "metadata": {},
     "output_type": "execute_result"
    }
   ],
   "source": [
    "categorized['Lineitem sku'].value_counts()"
   ],
   "metadata": {
    "collapsed": false,
    "pycharm": {
     "name": "#%%\n"
    }
   }
  },
  {
   "cell_type": "code",
   "execution_count": 314,
   "outputs": [
    {
     "data": {
      "text/plain": "dbb_seasonal                   3909\ndbb_annual                     3062\nalbum                          2269\nkdrama                         2223\nrouteins10                     1612\n                               ... \nhappyunbirthday1276810134cm       1\nnv48417669972                     1\nwwws010                           1\nnv4922088062                      1\nwwws027                           1\nName: Category, Length: 1049, dtype: int64"
     },
     "execution_count": 314,
     "metadata": {},
     "output_type": "execute_result"
    }
   ],
   "source": [
    "categorized['Category'].value_counts()"
   ],
   "metadata": {
    "collapsed": false,
    "pycharm": {
     "name": "#%%\n"
    }
   }
  },
  {
   "cell_type": "code",
   "execution_count": 315,
   "outputs": [
    {
     "data": {
      "text/plain": "                      Lineitem name  \\\n0     '+he zam Hair Cleansing Water   \n1     '+he zam Hair Cleansing Water   \n2         '+he zam Therapy Massager   \n3         '+he zam Therapy Massager   \n4  (G)I-DLE - I AM (1st Mini Album)   \n\n                                        Lineitem sku    Category  \\\n0       Beauty - 20975 - ETUDE HOUSE - 더 잠 헤어 클렌징 워터      beauty   \n1                ETUDE-8+he zam Hair Cleansing Water   etude8+he   \n2         Beauty - 20505 - ETUDE HOUSE - 더 잠 테라피 마사저      beauty   \n3                   ETUDE-12+he zam Therapy Massager  etude12+he   \n4  Album - 70001 - (G)I-DLE - (여자)아이들 I AM 미니1집 - DA       album   \n\n   Lineitem quantity  \n0                  1  \n1                  1  \n2                  1  \n3                  1  \n4                  1  ",
      "text/html": "<div>\n<style scoped>\n    .dataframe tbody tr th:only-of-type {\n        vertical-align: middle;\n    }\n\n    .dataframe tbody tr th {\n        vertical-align: top;\n    }\n\n    .dataframe thead th {\n        text-align: right;\n    }\n</style>\n<table border=\"1\" class=\"dataframe\">\n  <thead>\n    <tr style=\"text-align: right;\">\n      <th></th>\n      <th>Lineitem name</th>\n      <th>Lineitem sku</th>\n      <th>Category</th>\n      <th>Lineitem quantity</th>\n    </tr>\n  </thead>\n  <tbody>\n    <tr>\n      <th>0</th>\n      <td>'+he zam Hair Cleansing Water</td>\n      <td>Beauty - 20975 - ETUDE HOUSE - 더 잠 헤어 클렌징 워터</td>\n      <td>beauty</td>\n      <td>1</td>\n    </tr>\n    <tr>\n      <th>1</th>\n      <td>'+he zam Hair Cleansing Water</td>\n      <td>ETUDE-8+he zam Hair Cleansing Water</td>\n      <td>etude8+he</td>\n      <td>1</td>\n    </tr>\n    <tr>\n      <th>2</th>\n      <td>'+he zam Therapy Massager</td>\n      <td>Beauty - 20505 - ETUDE HOUSE - 더 잠 테라피 마사저</td>\n      <td>beauty</td>\n      <td>1</td>\n    </tr>\n    <tr>\n      <th>3</th>\n      <td>'+he zam Therapy Massager</td>\n      <td>ETUDE-12+he zam Therapy Massager</td>\n      <td>etude12+he</td>\n      <td>1</td>\n    </tr>\n    <tr>\n      <th>4</th>\n      <td>(G)I-DLE - I AM (1st Mini Album)</td>\n      <td>Album - 70001 - (G)I-DLE - (여자)아이들 I AM 미니1집 - DA</td>\n      <td>album</td>\n      <td>1</td>\n    </tr>\n  </tbody>\n</table>\n</div>"
     },
     "execution_count": 315,
     "metadata": {},
     "output_type": "execute_result"
    }
   ],
   "source": [
    "categorized2 = categorizedItems(categorized)\n",
    "categorized2 = categorized2[['Lineitem name', 'Lineitem sku', 'Category', 'Lineitem quantity']]\n",
    "categorized2.head()"
   ],
   "metadata": {
    "collapsed": false,
    "pycharm": {
     "name": "#%%\n"
    }
   }
  },
  {
   "cell_type": "code",
   "execution_count": 316,
   "outputs": [
    {
     "data": {
      "text/plain": "                                          Lineitem name  \\\n4383  [Pre-Order] TREASURE - The First Step: Chapter...   \n4379  [Pre-Order] TREASURE - The First Step: Chapter...   \n4381  [Pre-Order] TREASURE - The First Step: Chapter...   \n4380  [Pre-Order] TREASURE - The First Step: Chapter...   \n1927  Kakao Friends Monami 153 Ballpen Set (Little M...   \n\n                                           Lineitem sku Category  \\\n4383        트레저 The First Step: Chapter One - 2SET - DA      트레저   \n4379  트레저 The First Step: Chapter One - Black/With P...      트레저   \n4381  트레저 The First Step: Chapter One - White/With P...      트레저   \n4380  트레저 The First Step: Chapter One - White/Album ...      트레저   \n1927                          카카오프렌즈 모나미153 (4입) - 리틀무지   카카오프렌즈   \n\n      Lineitem quantity  \n4383                  8  \n4379                  4  \n4381                  4  \n4380                  2  \n1927                  1  ",
      "text/html": "<div>\n<style scoped>\n    .dataframe tbody tr th:only-of-type {\n        vertical-align: middle;\n    }\n\n    .dataframe tbody tr th {\n        vertical-align: top;\n    }\n\n    .dataframe thead th {\n        text-align: right;\n    }\n</style>\n<table border=\"1\" class=\"dataframe\">\n  <thead>\n    <tr style=\"text-align: right;\">\n      <th></th>\n      <th>Lineitem name</th>\n      <th>Lineitem sku</th>\n      <th>Category</th>\n      <th>Lineitem quantity</th>\n    </tr>\n  </thead>\n  <tbody>\n    <tr>\n      <th>4383</th>\n      <td>[Pre-Order] TREASURE - The First Step: Chapter...</td>\n      <td>트레저 The First Step: Chapter One - 2SET - DA</td>\n      <td>트레저</td>\n      <td>8</td>\n    </tr>\n    <tr>\n      <th>4379</th>\n      <td>[Pre-Order] TREASURE - The First Step: Chapter...</td>\n      <td>트레저 The First Step: Chapter One - Black/With P...</td>\n      <td>트레저</td>\n      <td>4</td>\n    </tr>\n    <tr>\n      <th>4381</th>\n      <td>[Pre-Order] TREASURE - The First Step: Chapter...</td>\n      <td>트레저 The First Step: Chapter One - White/With P...</td>\n      <td>트레저</td>\n      <td>4</td>\n    </tr>\n    <tr>\n      <th>4380</th>\n      <td>[Pre-Order] TREASURE - The First Step: Chapter...</td>\n      <td>트레저 The First Step: Chapter One - White/Album ...</td>\n      <td>트레저</td>\n      <td>2</td>\n    </tr>\n    <tr>\n      <th>1927</th>\n      <td>Kakao Friends Monami 153 Ballpen Set (Little M...</td>\n      <td>카카오프렌즈 모나미153 (4입) - 리틀무지</td>\n      <td>카카오프렌즈</td>\n      <td>1</td>\n    </tr>\n  </tbody>\n</table>\n</div>"
     },
     "execution_count": 316,
     "metadata": {},
     "output_type": "execute_result"
    }
   ],
   "source": [
    "categorized2_by_category = categorized2.sort_values(by=['Category', 'Lineitem quantity'], ascending=False)\n",
    "categorized2_by_category.head()"
   ],
   "metadata": {
    "collapsed": false,
    "pycharm": {
     "name": "#%%\n"
    }
   }
  },
  {
   "cell_type": "code",
   "execution_count": 317,
   "outputs": [],
   "source": [
    "categorized2_by_category.to_csv('categorized_by_category.csv')"
   ],
   "metadata": {
    "collapsed": false,
    "pycharm": {
     "name": "#%%\n"
    }
   }
  },
  {
   "cell_type": "code",
   "execution_count": 318,
   "outputs": [
    {
     "data": {
      "text/plain": "                                          Lineitem name  Lineitem sku  \\\n2839                   Route Package Protection - $0.98    ROUTEINS10   \n1085  Daebak Box - Seasonal Plan (auto-renews, cance...  DBB_Seasonal   \n173   Annual (ships once every season, auto-renews e...    DBB_Annual   \n3006  Seasonal (ships once every season, auto-renews...  DBB_Seasonal   \n1086  Daebak Box - Seasonal Plan (auto-renews, cance...  DBB_Seasonal   \n\n          Category  Lineitem quantity  \n2839    routeins10               1613  \n1085  dbb_seasonal               1504  \n173     dbb_annual               1272  \n3006  dbb_seasonal               1256  \n1086  dbb_seasonal               1122  ",
      "text/html": "<div>\n<style scoped>\n    .dataframe tbody tr th:only-of-type {\n        vertical-align: middle;\n    }\n\n    .dataframe tbody tr th {\n        vertical-align: top;\n    }\n\n    .dataframe thead th {\n        text-align: right;\n    }\n</style>\n<table border=\"1\" class=\"dataframe\">\n  <thead>\n    <tr style=\"text-align: right;\">\n      <th></th>\n      <th>Lineitem name</th>\n      <th>Lineitem sku</th>\n      <th>Category</th>\n      <th>Lineitem quantity</th>\n    </tr>\n  </thead>\n  <tbody>\n    <tr>\n      <th>2839</th>\n      <td>Route Package Protection - $0.98</td>\n      <td>ROUTEINS10</td>\n      <td>routeins10</td>\n      <td>1613</td>\n    </tr>\n    <tr>\n      <th>1085</th>\n      <td>Daebak Box - Seasonal Plan (auto-renews, cance...</td>\n      <td>DBB_Seasonal</td>\n      <td>dbb_seasonal</td>\n      <td>1504</td>\n    </tr>\n    <tr>\n      <th>173</th>\n      <td>Annual (ships once every season, auto-renews e...</td>\n      <td>DBB_Annual</td>\n      <td>dbb_annual</td>\n      <td>1272</td>\n    </tr>\n    <tr>\n      <th>3006</th>\n      <td>Seasonal (ships once every season, auto-renews...</td>\n      <td>DBB_Seasonal</td>\n      <td>dbb_seasonal</td>\n      <td>1256</td>\n    </tr>\n    <tr>\n      <th>1086</th>\n      <td>Daebak Box - Seasonal Plan (auto-renews, cance...</td>\n      <td>DBB_Seasonal</td>\n      <td>dbb_seasonal</td>\n      <td>1122</td>\n    </tr>\n  </tbody>\n</table>\n</div>"
     },
     "execution_count": 318,
     "metadata": {},
     "output_type": "execute_result"
    }
   ],
   "source": [
    "categorized2_by_quantity = categorized2.sort_values(by='Lineitem quantity', ascending=False)\n",
    "categorized2_by_quantity.head()"
   ],
   "metadata": {
    "collapsed": false,
    "pycharm": {
     "name": "#%%\n"
    }
   }
  },
  {
   "cell_type": "code",
   "execution_count": 319,
   "outputs": [],
   "source": [
    "categorized2_by_quantity.to_csv('categorized_by_quantity.csv')"
   ],
   "metadata": {
    "collapsed": false,
    "pycharm": {
     "name": "#%%\n"
    }
   }
  },
  {
   "cell_type": "code",
   "execution_count": 320,
   "outputs": [],
   "source": [
    "df_name = categorized['Lineitem name'].value_counts().rename_axis('unique_values').reset_index(name='counts')\n",
    "df_sku = categorized['Lineitem sku'].value_counts().rename_axis('unique_values').reset_index(name='counts')"
   ],
   "metadata": {
    "collapsed": false,
    "pycharm": {
     "name": "#%%\n"
    }
   }
  },
  {
   "cell_type": "code",
   "execution_count": 321,
   "outputs": [],
   "source": [
    "df_name.to_csv('name_count.csv')\n",
    "df_sku.to_csv('sku_count.csv')"
   ],
   "metadata": {
    "collapsed": false,
    "pycharm": {
     "name": "#%%\n"
    }
   }
  },
  {
   "cell_type": "code",
   "execution_count": 294,
   "outputs": [],
   "source": [],
   "metadata": {
    "collapsed": false,
    "pycharm": {
     "name": "#%%\n"
    }
   }
  }
 ],
 "metadata": {
  "kernelspec": {
   "display_name": "Python 3",
   "language": "python",
   "name": "python3"
  },
  "language_info": {
   "codemirror_mode": {
    "name": "ipython",
    "version": 2
   },
   "file_extension": ".py",
   "mimetype": "text/x-python",
   "name": "python",
   "nbconvert_exporter": "python",
   "pygments_lexer": "ipython2",
   "version": "2.7.6"
  }
 },
 "nbformat": 4,
 "nbformat_minor": 0
}